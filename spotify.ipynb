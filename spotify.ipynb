{
 "cells": [
  {
   "cell_type": "code",
   "execution_count": null,
   "metadata": {},
   "outputs": [],
   "source": [
    "!pip install spotipy"
   ]
  },
  {
   "cell_type": "code",
   "execution_count": 22,
   "metadata": {},
   "outputs": [],
   "source": [
    "import spotipy  \n",
    "from spotipy.oauth2 import SpotifyClientCredentials,SpotifyOAuth"
   ]
  },
  {
   "cell_type": "code",
   "execution_count": null,
   "metadata": {},
   "outputs": [],
   "source": [
    "CLIENT_ID =\"e698f01eb31c44359db77e4c19b1ddd4\"\n",
    "CLIENT_SECRET=\"27a45297ef9144758f5174454965bf73\"\n",
    "REDIRECT_URI=\"https://localhost:3000\"\n",
    "SCOPE=\"user-library-read\"\n",
    "\n",
    "client_credentials_manager = SpotifyClientCredentials(client_id=CLIENT_ID, client_secret=CLIENT_SECRET)\n",
    "sp = spotipy.Spotify(client_credentials_manager=client_credentials_manager)\n",
    "\n",
    "#refresh_token = sp_oauth.get_refresh_token()  "
   ]
  },
  {
   "cell_type": "code",
   "execution_count": 21,
   "metadata": {},
   "outputs": [],
   "source": [
    "sp = spotipy.Spotify(auth_manager=SpotifyOAuth(client_id=CLIENT_ID,\n",
    "                                               client_secret=CLIENT_SECRET,\n",
    "                                               redirect_uri=REDIRECT_URI,\n",
    "                                               scope=SCOPE))"
   ]
  },
  {
   "cell_type": "code",
   "execution_count": null,
   "metadata": {},
   "outputs": [],
   "source": [
    "sp.search()"
   ]
  },
  {
   "cell_type": "code",
   "execution_count": 17,
   "metadata": {},
   "outputs": [
    {
     "name": "stdout",
     "output_type": "stream",
     "text": [
      "Portraits (+ Remixes)\n",
      "Portraits\n",
      "Young Heart\n",
      "Beautiful Lies (Deluxe)\n",
      "Beautiful Lies\n",
      "Fire Within (Deluxe)\n",
      "Live in London\n",
      "Birdy (Deluxe Version)\n",
      "Birdy\n"
     ]
    }
   ],
   "source": [
    "birdy_uri = 'spotify:artist:2WX2uTcsvV5OnS0inACecP'\n",
    "results = sp.artist_albums(birdy_uri, album_type='album')\n",
    "albums = results['items']\n",
    "while results['next']:\n",
    "    results = sp.next(results)\n",
    "    albums.extend(results['items'])\n",
    "\n",
    "for album in albums:\n",
    "    print(album['name'])"
   ]
  },
  {
   "cell_type": "code",
   "execution_count": null,
   "metadata": {},
   "outputs": [],
   "source": [
    "birdy_uri = 'spotify:artist:2WX2uTcsvV5OnS0inACecP'\n",
    "results = sp.artist_albums(birdy_uri, album_type='album')"
   ]
  },
  {
   "cell_type": "markdown",
   "metadata": {},
   "source": [
    "## Discogs"
   ]
  },
  {
   "cell_type": "code",
   "execution_count": 25,
   "metadata": {},
   "outputs": [],
   "source": [
    "import discogs_client\n",
    "d = discogs_client.Client('jazzmusicians/0.1',user_token=\"LFMgTmNktxNIMJwRHfeZobKBvFEYAHpPtMyroiMW\")\n"
   ]
  },
  {
   "cell_type": "code",
   "execution_count": 49,
   "metadata": {},
   "outputs": [],
   "source": [
    "\n",
    "r = d.search('genre=jazz',type='release')"
   ]
  },
  {
   "cell_type": "code",
   "execution_count": null,
   "metadata": {},
   "outputs": [],
   "source": [
    "\n",
    "results = d.search('',type='release',genre=\"jazz\")\n",
    "print(results.pages)\n",
    "counter = 0\n",
    "for i in range(1,results.pages) :\n",
    "    counter+=len(results.page(i))\n",
    "print(counter)    "
   ]
  },
  {
   "cell_type": "code",
   "execution_count": 4,
   "metadata": {},
   "outputs": [],
   "source": [
    "class Album(object):\n",
    "  def __init__(self,title,artists_name,artists_id,countries,year,labels,labels_id):\n",
    "    self.title = title\n",
    "    self.artists_name = artists_name\n",
    "    self.artists_id = artists_id\n",
    "    self.countries= countries\n",
    "    self.year= year\n",
    "    self.labels= labels\n",
    "    self.labels_id=labels_id\n",
    "\n",
    "  def to_dict(self):\n",
    "        return {\n",
    "            'title': self.title,\n",
    "            'artists_name': self.artists_name,\n",
    "            'artists_id' :self.artists_id,\n",
    "            'countries' : self.countries,\n",
    "            'year' : self.year,\n",
    "            'labels' : self.labels,\n",
    "            'labels_id' : self.labels_id\n",
    "        }   "
   ]
  },
  {
   "cell_type": "code",
   "execution_count": 3,
   "metadata": {},
   "outputs": [],
   "source": [
    "def get_artists_info(data) :\n",
    " artists_name = list()\n",
    " artists_id = list()\n",
    " for i in data : \n",
    "   artists_name.append(i['name'])\n",
    "   artists_id.append(i['id'])\n",
    "\n",
    " return (artists_name,artists_id)\n",
    "\n",
    "def get_labels_info(data) :\n",
    " labels_name = list()\n",
    " #labels_id = list()\n",
    " print(data)\n",
    " for i in data : \n",
    "   labels_name.append(i['name'])\n",
    "   #labels_id.append(i['id'])\n",
    "\n",
    " return labels_name"
   ]
  },
  {
   "cell_type": "code",
   "execution_count": 12,
   "metadata": {},
   "outputs": [],
   "source": [
    "import requests\n",
    "import time"
   ]
  },
  {
   "cell_type": "code",
   "execution_count": 103,
   "metadata": {},
   "outputs": [
    {
     "data": {
      "text/plain": [
       "'60'"
      ]
     },
     "execution_count": 103,
     "metadata": {},
     "output_type": "execute_result"
    }
   ],
   "source": [
    "response =  requests.get(\"https://api.discogs.com/releases/\"+\"11357739\",headers= {\"Authorization\":\"Discogs token=LFMgTmNktxNIMJwRHfeZobKBvFEYAHpPtMyroiMW\"}) \n",
    "#print(response.json()['results'][3][\"id\"])\n",
    "response.headers['X-Discogs-Ratelimit-Remaining']"
   ]
  },
  {
   "cell_type": "code",
   "execution_count": null,
   "metadata": {},
   "outputs": [],
   "source": [
    "response = requests.get(\"https://api.discogs.com/database/search?genre=jazz&type=release&format=album&per_page=100&token=LFMgTmNktxNIMJwRHfeZobKBvFEYAHpPtMyroiMW\")\n",
    "albums_json = response.json()['results']\n",
    "albums_json[1]"
   ]
  },
  {
   "cell_type": "code",
   "execution_count": 5,
   "metadata": {},
   "outputs": [
    {
     "name": "stdout",
     "output_type": "stream",
     "text": [
      "SLEEP...\n"
     ]
    }
   ],
   "source": [
    "response = requests.get(\"https://api.discogs.com/database/search?genre=jazz&type=release&format=album&per_page=100&token=LFMgTmNktxNIMJwRHfeZobKBvFEYAHpPtMyroiMW\")\n",
    "nbPages = response.json()['pagination']['pages']\n",
    "albums = list()\n",
    "for page in range(2,nbPages):\n",
    "    albums_json = response.json()['results']\n",
    "    for i in range(1,len(albums_json)) :\n",
    "        #print(albums_json[i])\n",
    "        #labels_info = get_labels_info(albums_json[i]['label'])\n",
    "        album = Album(albums_json[i]['title'],'','',albums_json[i]['country'],'',albums_json[i]['label'],'')\n",
    "        albums.append(album)\n",
    "    \n",
    "    if int(response.headers['X-Discogs-Ratelimit-Remaining']) == 1:# limit rate : 60 requests/min \n",
    "            print(\"SLEEP...\")\n",
    "            time.sleep(60)    \n",
    "    response = requests.get(\"https://api.discogs.com/database/search?genre=jazz&type=release&format=album&page=\"+ str(page) +\"&per_page=100&token=LFMgTmNktxNIMJwRHfeZobKBvFEYAHpPtMyroiMW\")"
   ]
  },
  {
   "cell_type": "code",
   "execution_count": 6,
   "metadata": {},
   "outputs": [
    {
     "data": {
      "text/plain": [
       "9702"
      ]
     },
     "execution_count": 6,
     "metadata": {},
     "output_type": "execute_result"
    }
   ],
   "source": [
    "len(albums)"
   ]
  },
  {
   "cell_type": "code",
   "execution_count": 7,
   "metadata": {},
   "outputs": [],
   "source": [
    "import numpy as np\n",
    "import pandas as pd\n",
    "df = pd.DataFrame.from_records([a.to_dict() for a in albums])"
   ]
  },
  {
   "cell_type": "code",
   "execution_count": 8,
   "metadata": {},
   "outputs": [
    {
     "data": {
      "text/html": [
       "<div>\n",
       "<style scoped>\n",
       "    .dataframe tbody tr th:only-of-type {\n",
       "        vertical-align: middle;\n",
       "    }\n",
       "\n",
       "    .dataframe tbody tr th {\n",
       "        vertical-align: top;\n",
       "    }\n",
       "\n",
       "    .dataframe thead th {\n",
       "        text-align: right;\n",
       "    }\n",
       "</style>\n",
       "<table border=\"1\" class=\"dataframe\">\n",
       "  <thead>\n",
       "    <tr style=\"text-align: right;\">\n",
       "      <th></th>\n",
       "      <th>title</th>\n",
       "      <th>artists_name</th>\n",
       "      <th>artists_id</th>\n",
       "      <th>countries</th>\n",
       "      <th>year</th>\n",
       "      <th>labels</th>\n",
       "      <th>labels_id</th>\n",
       "    </tr>\n",
       "  </thead>\n",
       "  <tbody>\n",
       "    <tr>\n",
       "      <th>0</th>\n",
       "      <td>Gregory Porter - One Night Only (Live At The R...</td>\n",
       "      <td></td>\n",
       "      <td></td>\n",
       "      <td>Europe</td>\n",
       "      <td></td>\n",
       "      <td>[Blue Note, Eagle Rock Films, Decca Records Fr...</td>\n",
       "      <td></td>\n",
       "    </tr>\n",
       "    <tr>\n",
       "      <th>1</th>\n",
       "      <td>Brother Ah* - Divine Music</td>\n",
       "      <td></td>\n",
       "      <td></td>\n",
       "      <td>US</td>\n",
       "      <td></td>\n",
       "      <td>[Manufactured Recordings]</td>\n",
       "      <td></td>\n",
       "    </tr>\n",
       "    <tr>\n",
       "      <th>2</th>\n",
       "      <td>The Wynton Marsalis Quintet &amp; Richard Galliano...</td>\n",
       "      <td></td>\n",
       "      <td></td>\n",
       "      <td>US</td>\n",
       "      <td></td>\n",
       "      <td>[Rampart Street Records]</td>\n",
       "      <td></td>\n",
       "    </tr>\n",
       "    <tr>\n",
       "      <th>3</th>\n",
       "      <td>Jim Hall &amp; Red Mitchell - Valse Hot - Sweet Ba...</td>\n",
       "      <td></td>\n",
       "      <td></td>\n",
       "      <td>US</td>\n",
       "      <td></td>\n",
       "      <td>[ArtistShare, Sweet Basil, Sterling Sound]</td>\n",
       "      <td></td>\n",
       "    </tr>\n",
       "    <tr>\n",
       "      <th>4</th>\n",
       "      <td>Nah Youn Sun* = 나윤선* - Memory Lane</td>\n",
       "      <td></td>\n",
       "      <td></td>\n",
       "      <td>South Korea</td>\n",
       "      <td></td>\n",
       "      <td>[Seoul Records, Hub Music. Inc., Seoul Records...</td>\n",
       "      <td></td>\n",
       "    </tr>\n",
       "    <tr>\n",
       "      <th>...</th>\n",
       "      <td>...</td>\n",
       "      <td>...</td>\n",
       "      <td>...</td>\n",
       "      <td>...</td>\n",
       "      <td>...</td>\n",
       "      <td>...</td>\n",
       "      <td>...</td>\n",
       "    </tr>\n",
       "    <tr>\n",
       "      <th>9697</th>\n",
       "      <td>Mike Baggetta - Canto</td>\n",
       "      <td></td>\n",
       "      <td></td>\n",
       "      <td>US</td>\n",
       "      <td></td>\n",
       "      <td>[Mabnotes Music, Mabnotes Music, Disc Makers]</td>\n",
       "      <td></td>\n",
       "    </tr>\n",
       "    <tr>\n",
       "      <th>9698</th>\n",
       "      <td>Myriam Alter - If</td>\n",
       "      <td></td>\n",
       "      <td></td>\n",
       "      <td>Japan</td>\n",
       "      <td></td>\n",
       "      <td>[Enja Records]</td>\n",
       "      <td></td>\n",
       "    </tr>\n",
       "    <tr>\n",
       "      <th>9699</th>\n",
       "      <td>Michal Bugala Feat. Seamus Blake, Danny Crisse...</td>\n",
       "      <td></td>\n",
       "      <td></td>\n",
       "      <td>Slovakia</td>\n",
       "      <td></td>\n",
       "      <td>[Hudobný Fond]</td>\n",
       "      <td></td>\n",
       "    </tr>\n",
       "    <tr>\n",
       "      <th>9700</th>\n",
       "      <td>Gerry Mulligan - If You Can't Beat 'Em, Join 'Em!</td>\n",
       "      <td></td>\n",
       "      <td></td>\n",
       "      <td>UK</td>\n",
       "      <td></td>\n",
       "      <td>[Mercury]</td>\n",
       "      <td></td>\n",
       "    </tr>\n",
       "    <tr>\n",
       "      <th>9701</th>\n",
       "      <td>Erroll Garner - Concert</td>\n",
       "      <td></td>\n",
       "      <td></td>\n",
       "      <td>Germany</td>\n",
       "      <td></td>\n",
       "      <td>[Philips, Philips]</td>\n",
       "      <td></td>\n",
       "    </tr>\n",
       "  </tbody>\n",
       "</table>\n",
       "<p>9702 rows × 7 columns</p>\n",
       "</div>"
      ],
      "text/plain": [
       "                                                  title artists_name   \n",
       "0     Gregory Porter - One Night Only (Live At The R...               \\\n",
       "1                            Brother Ah* - Divine Music                \n",
       "2     The Wynton Marsalis Quintet & Richard Galliano...                \n",
       "3     Jim Hall & Red Mitchell - Valse Hot - Sweet Ba...                \n",
       "4                    Nah Youn Sun* = 나윤선* - Memory Lane                \n",
       "...                                                 ...          ...   \n",
       "9697                              Mike Baggetta - Canto                \n",
       "9698                                  Myriam Alter - If                \n",
       "9699  Michal Bugala Feat. Seamus Blake, Danny Crisse...                \n",
       "9700  Gerry Mulligan - If You Can't Beat 'Em, Join 'Em!                \n",
       "9701                            Erroll Garner - Concert                \n",
       "\n",
       "     artists_id    countries year   \n",
       "0                     Europe       \\\n",
       "1                         US        \n",
       "2                         US        \n",
       "3                         US        \n",
       "4                South Korea        \n",
       "...         ...          ...  ...   \n",
       "9697                      US        \n",
       "9698                   Japan        \n",
       "9699                Slovakia        \n",
       "9700                      UK        \n",
       "9701                 Germany        \n",
       "\n",
       "                                                 labels labels_id  \n",
       "0     [Blue Note, Eagle Rock Films, Decca Records Fr...            \n",
       "1                             [Manufactured Recordings]            \n",
       "2                              [Rampart Street Records]            \n",
       "3            [ArtistShare, Sweet Basil, Sterling Sound]            \n",
       "4     [Seoul Records, Hub Music. Inc., Seoul Records...            \n",
       "...                                                 ...       ...  \n",
       "9697      [Mabnotes Music, Mabnotes Music, Disc Makers]            \n",
       "9698                                     [Enja Records]            \n",
       "9699                                     [Hudobný Fond]            \n",
       "9700                                          [Mercury]            \n",
       "9701                                 [Philips, Philips]            \n",
       "\n",
       "[9702 rows x 7 columns]"
      ]
     },
     "execution_count": 8,
     "metadata": {},
     "output_type": "execute_result"
    }
   ],
   "source": [
    "df"
   ]
  },
  {
   "cell_type": "markdown",
   "metadata": {},
   "source": [
    "# Get albums information + credits : \n"
   ]
  },
  {
   "cell_type": "code",
   "execution_count": 1,
   "metadata": {},
   "outputs": [],
   "source": [
    "import musicBrainz.Album\n",
    "import pandas as pd\n",
    "import json\n",
    "import requests\n",
    "import time\n",
    "from urllib.parse import quote "
   ]
  },
  {
   "cell_type": "code",
   "execution_count": 45,
   "metadata": {},
   "outputs": [],
   "source": [
    "df = pd.read_csv(\"data/albums_chart/rym_charts_part3.csv\",sep=\";\")\n",
    "albums = df[\"Album\"]\n",
    "artists = df[\"Artist\"]\n",
    "dates= df[\"Date\"]\n",
    "ranks= df[\"Rank\"]"
   ]
  },
  {
   "cell_type": "code",
   "execution_count": 43,
   "metadata": {},
   "outputs": [],
   "source": [
    "#for all the release we compute the sum of the want and have metric\n",
    "def find_best_release_version(releases) :\n",
    "    max_interest = 0 \n",
    "    choosen_release = None\n",
    "    for r in releases :\n",
    "       sum =  int(r[\"community\"][\"have\"]) +  int(r[\"community\"][\"want\"])\n",
    "       if sum >= max_interest:\n",
    "           max_interest = sum\n",
    "           choosen_release = r\n",
    "    return choosen_release"
   ]
  },
  {
   "cell_type": "code",
   "execution_count": null,
   "metadata": {},
   "outputs": [],
   "source": [
    "url = \"https://api.discogs.com/database/search?artist=\"+ quote(artists[idx]) +\"&release_title=\"+ quote(albums[idx]) +\"&type=release&per_page=100&token=LFMgTmNktxNIMJwRHfeZobKBvFEYAHpPtMyroiMW\""
   ]
  },
  {
   "cell_type": "code",
   "execution_count": 44,
   "metadata": {},
   "outputs": [
    {
     "name": "stdout",
     "output_type": "stream",
     "text": [
      "Sleeping for  53.763720750808716 secondes | Number of album Treated: 13\n",
      "Sleeping for  58.569698333740234 secondes | Number of album Treated: 16\n",
      "Sleeping for  54.78122043609619 secondes | Number of album Treated: 27\n",
      "Sleeping for  57.472413301467896 secondes | Number of album Treated: 32\n",
      "536\n",
      "Sleeping for  54.29809832572937 secondes | Number of album Treated: 41\n",
      "Sleeping for  57.03353023529053 secondes | Number of album Treated: 47\n",
      "Sleeping for  55.80408716201782 secondes | Number of album Treated: 56\n",
      "Sleeping for  57.100499868392944 secondes | Number of album Treated: 62\n",
      "Sleeping for  55.70478677749634 secondes | Number of album Treated: 71\n",
      "Sleeping for  57.102927684783936 secondes | Number of album Treated: 77\n",
      "Sleeping for  55.568344831466675 secondes | Number of album Treated: 86\n",
      "Sleeping for  57.098870515823364 secondes | Number of album Treated: 92\n",
      "Sleeping for  55.61621332168579 secondes | Number of album Treated: 101\n",
      "Sleeping for  57.13920879364014 secondes | Number of album Treated: 107\n",
      "614\n",
      "Sleeping for  55.83007097244263 secondes | Number of album Treated: 115\n",
      "Sleeping for  56.68570804595947 secondes | Number of album Treated: 122\n",
      "630\n",
      "Sleeping for  56.30877947807312 secondes | Number of album Treated: 129\n",
      "Sleeping for  55.94759249687195 secondes | Number of album Treated: 137\n",
      "Sleeping for  56.632521629333496 secondes | Number of album Treated: 144\n",
      "Sleeping for  56.121482372283936 secondes | Number of album Treated: 152\n",
      "Sleeping for  56.68951749801636 secondes | Number of album Treated: 159\n",
      "Sleeping for  55.7349488735199 secondes | Number of album Treated: 167\n",
      "Sleeping for  56.148359537124634 secondes | Number of album Treated: 174\n",
      "Sleeping for  55.45230412483215 secondes | Number of album Treated: 182\n",
      "688\n",
      "Sleeping for  55.882928133010864 secondes | Number of album Treated: 189\n",
      "Sleeping for  55.7589955329895 secondes | Number of album Treated: 197\n",
      "Sleeping for  56.27681517601013 secondes | Number of album Treated: 204\n",
      "Sleeping for  55.82572841644287 secondes | Number of album Treated: 212\n",
      "Sleeping for  56.275758266448975 secondes | Number of album Treated: 219\n",
      "Sleeping for  55.39191198348999 secondes | Number of album Treated: 227\n",
      "Sleeping for  55.94933533668518 secondes | Number of album Treated: 234\n",
      "Sleeping for  56.05300211906433 secondes | Number of album Treated: 242\n",
      "752\n",
      "Sleeping for  55.18030333518982 secondes | Number of album Treated: 249\n",
      "Sleeping for  53.97452235221863 secondes | Number of album Treated: 257\n",
      "Sleeping for  54.03143763542175 secondes | Number of album Treated: 265\n",
      "776\n",
      "Sleeping for  54.21696758270264 secondes | Number of album Treated: 272\n",
      "Sleeping for  54.06466293334961 secondes | Number of album Treated: 280\n",
      "Sleeping for  53.23318028450012 secondes | Number of album Treated: 288\n",
      "Sleeping for  38.37702655792236 secondes | Number of album Treated: 298\n",
      "Sleeping for  55.16404414176941 secondes | Number of album Treated: 304\n",
      "Sleeping for  53.845914363861084 secondes | Number of album Treated: 313\n",
      "Sleeping for  54.74538469314575 secondes | Number of album Treated: 320\n",
      "Sleeping for  54.314311504364014 secondes | Number of album Treated: 328\n",
      "Sleeping for  55.319329023361206 secondes | Number of album Treated: 335\n",
      "Sleeping for  54.18032503128052 secondes | Number of album Treated: 343\n",
      "Sleeping for  53.428004026412964 secondes | Number of album Treated: 351\n",
      "Sleeping for  54.200759410858154 secondes | Number of album Treated: 359\n",
      "Sleeping for  53.57603144645691 secondes | Number of album Treated: 367\n",
      "879\n",
      "Sleeping for  55.010897159576416 secondes | Number of album Treated: 374\n",
      "Sleeping for  53.816094636917114 secondes | Number of album Treated: 382\n",
      "Sleeping for  55.068413972854614 secondes | Number of album Treated: 389\n",
      "Sleeping for  53.77649807929993 secondes | Number of album Treated: 397\n",
      "Sleeping for  53.87703776359558 secondes | Number of album Treated: 405\n",
      "Sleeping for  54.09371733665466 secondes | Number of album Treated: 413\n",
      "Sleeping for  55.04513621330261 secondes | Number of album Treated: 420\n",
      "Sleeping for  53.11376452445984 secondes | Number of album Treated: 428\n",
      "Sleeping for  55.15667986869812 secondes | Number of album Treated: 435\n",
      "Sleeping for  53.812071323394775 secondes | Number of album Treated: 443\n",
      "Sleeping for  53.899470806121826 secondes | Number of album Treated: 451\n",
      "Sleeping for  54.38433527946472 secondes | Number of album Treated: 459\n",
      "Sleeping for  54.16176462173462 secondes | Number of album Treated: 467\n",
      "979\n",
      "Sleeping for  54.69540214538574 secondes | Number of album Treated: 474\n",
      "Sleeping for  53.83525586128235 secondes | Number of album Treated: 482\n",
      "Sleeping for  55.51394724845886 secondes | Number of album Treated: 489\n"
     ]
    }
   ],
   "source": [
    "\n",
    "release_json=[]\n",
    "release_detail_json=[]\n",
    "cnt_album_done = 0\n",
    "start_time = time.time()\n",
    "for idx in range(0,len(albums)) :\n",
    "        \n",
    "    #year = dates[idx].split()[1]\n",
    "    alt_url = \"https://api.discogs.com/database/search?q=\"+ quote(str(artists[idx])) +\" \"+ quote(str(albums[idx])) +\"&type=release&per_page=100&token=LFMgTmNktxNIMJwRHfeZobKBvFEYAHpPtMyroiMW\"\n",
    "    release_response = requests.get(alt_url)\n",
    "\n",
    "    release_result = release_response.json()[\"results\"]\n",
    "    if len(release_result) == 0 :\n",
    "        print(str(ranks[idx]))\n",
    "        unknown_release = str(ranks[idx]) + \"-\"+ str(artists[idx]) +\"-\"+ str(albums[idx]) +\"\\n\"\n",
    "        with open(\"missing_releases.txt\", \"a\",encoding='utf-8') as myfile:\n",
    "            myfile.write(unknown_release)\n",
    "        myfile.close()\n",
    "        continue\n",
    "    \n",
    "    #TO DO : look for the want/have ratio to choose the best release version \n",
    "    release_result = find_best_release_version(release_result)\n",
    "\n",
    "    release_json.append(release_result) \n",
    "    \n",
    "    response = requests.get(release_result[\"resource_url\"])\n",
    "    release_detail_json.append(response.json())\n",
    "    \n",
    "    cnt_album_done+=1\n",
    "    \n",
    "    current_time = time.time() - start_time\n",
    "    if int(response.headers['X-Discogs-Ratelimit-Remaining']) == 0 and  current_time < 60:\n",
    "        sleeping_time = 60 - current_time\n",
    "        print(\"Sleeping for \", sleeping_time, \"secondes | Number of album Treated:\",cnt_album_done)\n",
    "        time.sleep(sleeping_time) \n",
    "        start_time = time.time()\n",
    "\n",
    "    if current_time >=60 :  \n",
    "        start_time = time.time()\n",
    "with open('data/albums_details/release_info_part3.json', 'w', encoding='utf-8') as f:\n",
    "    json.dump(release_json, f, ensure_ascii=False, indent=4)\n",
    "with open('data/albums_details/release_details_part3.json', 'w', encoding='utf-8') as f:\n",
    "    json.dump(release_detail_json, f, ensure_ascii=False, indent=4)            \n"
   ]
  },
  {
   "cell_type": "code",
   "execution_count": 7,
   "metadata": {},
   "outputs": [
    {
     "data": {
      "text/plain": [
       "456"
      ]
     },
     "execution_count": 7,
     "metadata": {},
     "output_type": "execute_result"
    }
   ],
   "source": [
    "len(release_json)"
   ]
  },
  {
   "cell_type": "markdown",
   "metadata": {},
   "source": [
    "# Examples \n"
   ]
  },
  {
   "cell_type": "code",
   "execution_count": null,
   "metadata": {},
   "outputs": [],
   "source": [
    "#try:\n",
    "response = requests.get(\"https://api.discogs.com/database/search?genre=jazz&type=release&format=album&per_page=100&token=LFMgTmNktxNIMJwRHfeZobKBvFEYAHpPtMyroiMW\")\n",
    "nbPages = response.json()['pagination']['pages']\n",
    "for page in range(2,nbPages):\n",
    "    #print(response.json()['results'][3][\"id\"])\n",
    "    albums_json = response.json()['results']\n",
    "    albums = list()\n",
    "    print(\"page=\",len(albums_json))\n",
    "    for i in range(1,len(albums_json)) :  \n",
    "        album_id = albums_json[i][\"id\"]\n",
    "    \n",
    "        response = requests.get(\"https://api.discogs.com/releases/\"+ str(album_id),headers= {\"Authorization\":\"Discogs token=LFMgTmNktxNIMJwRHfeZobKBvFEYAHpPtMyroiMW\"}) \n",
    "        data = response.json()\n",
    "        if int(response.headers['X-Discogs-Ratelimit-Remaining']) == 1:\n",
    "            print(data)\n",
    "    \n",
    "        #print(get_artists_info(data['artists']))\n",
    "        artists_info = get_artists_info(data['artists'])\n",
    "        labels_info = get_labels_info(data['labels'])\n",
    "        #print(data['country'])\n",
    "        album = Album(data['title'],artists_info[0],artists_info[1],data['country'],data['year'],labels_info[0],labels_info[1])\n",
    "        albums.append(album)\n",
    "        print('raimaing: ',response.headers['X-Discogs-Ratelimit-Remaining'])\n",
    "        if int(response.headers['X-Discogs-Ratelimit-Remaining']) == 1:# limit rate : 60 requests/min \n",
    "            print(\"SLEEP...\")\n",
    "            time.sleep(1)\n",
    "    print(page)\n",
    "    response = requests.get(\"https://api.discogs.com/database/search?genre=jazz&type=release&format=album&page=\"+ str(page) +\"&per_page=100&token=LFMgTmNktxNIMJwRHfeZobKBvFEYAHpPtMyroiMW\")\n",
    "#except:\n",
    " #     print(response) \n",
    "  #    print(data)\n",
    "   #   print(data['artists'])\n",
    "    #  print(get_artists_info(data['artists']))     "
   ]
  },
  {
   "cell_type": "code",
   "execution_count": 105,
   "metadata": {},
   "outputs": [
    {
     "data": {
      "text/plain": [
       "49"
      ]
     },
     "execution_count": 105,
     "metadata": {},
     "output_type": "execute_result"
    }
   ],
   "source": [
    "len(albums)\n"
   ]
  },
  {
   "cell_type": "code",
   "execution_count": 9,
   "metadata": {},
   "outputs": [
    {
     "data": {
      "text/plain": [
       "<xml.etree.ElementTree.iterparse.<locals>.IterParseIterator at 0x2a55dda47c0>"
      ]
     },
     "execution_count": 9,
     "metadata": {},
     "output_type": "execute_result"
    }
   ],
   "source": [
    "import xml.etree.ElementTree as ET\n",
    "context = ET.iterparse(\"discogs_20231001_masters.xml\", events=(\"start\", \"end\"))\n",
    "context"
   ]
  },
  {
   "cell_type": "code",
   "execution_count": null,
   "metadata": {},
   "outputs": [],
   "source": [
    "from lxml import etree \n",
    "doc = etree.parse()\n",
    "root = doc.getroot()\n",
    "\n",
    "result = len(root.getchildren())"
   ]
  },
  {
   "cell_type": "code",
   "execution_count": null,
   "metadata": {},
   "outputs": [],
   "source": [
    "import xmltodict, json\n",
    "o = xmltodict.parse('discogs_20231001_masters.xml')\n",
    "json.dumps(o) # '{\"e\": {\"a\": [\"text\", \"text\"]}}'"
   ]
  }
 ],
 "metadata": {
  "kernelspec": {
   "display_name": "Python 3",
   "language": "python",
   "name": "python3"
  },
  "language_info": {
   "codemirror_mode": {
    "name": "ipython",
    "version": 3
   },
   "file_extension": ".py",
   "mimetype": "text/x-python",
   "name": "python",
   "nbconvert_exporter": "python",
   "pygments_lexer": "ipython3",
   "version": "3.9.13"
  },
  "orig_nbformat": 4
 },
 "nbformat": 4,
 "nbformat_minor": 2
}
