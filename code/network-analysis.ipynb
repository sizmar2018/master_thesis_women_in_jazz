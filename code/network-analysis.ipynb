{
 "cells": [
  {
   "cell_type": "markdown",
   "metadata": {},
   "source": [
    "# Master Thesis\n"
   ]
  },
  {
   "cell_type": "code",
   "execution_count": 1,
   "metadata": {},
   "outputs": [],
   "source": [
    "from utils import *\n",
    "from network import *\n",
    "from networkx.algorithms import bipartite\n",
    "\n",
    "from collections import Counter\n",
    "import pandas as pd\n",
    "import json\n",
    "import math\n",
    "from scipy import stats\n",
    "\n",
    "%load_ext autoreload\n",
    "%autoreload 2\n",
    "net = Network()\n"
   ]
  },
  {
   "cell_type": "code",
   "execution_count": 7,
   "metadata": {},
   "outputs": [],
   "source": [
    "def get_results(centrality) : \n",
    "    artists_dict = dict()\n",
    "    for row in results : \n",
    "        for art in row['artists'] :\n",
    "            for c in  centrality:\n",
    "                if art['name'] == c :\n",
    "                    if art['name'] not in artists_dict.keys() :\n",
    "                        artists_dict[art['name']] = set()\n",
    "                    for r in art['role']:\n",
    "                        artists_dict[art['name']].add(r)\n",
    "                    break    \n",
    "    return artists_dict"
   ]
  },
  {
   "cell_type": "markdown",
   "metadata": {},
   "source": [
    "# Bipartite Graph"
   ]
  },
  {
   "cell_type": "code",
   "execution_count": 2,
   "metadata": {},
   "outputs": [],
   "source": [
    "results = None\n",
    "with open('../data/albums/jazz/album-final.json',encoding=\"UTF-8\") as f:\n",
    "        results = json.load(f)   "
   ]
  },
  {
   "cell_type": "code",
   "execution_count": 4,
   "metadata": {},
   "outputs": [],
   "source": [
    "bipartite_jazz_net =  net.build_bipartite_network(results,'title','artists','year')"
   ]
  },
  {
   "cell_type": "code",
   "execution_count": null,
   "metadata": {},
   "outputs": [],
   "source": [
    "centralities = net.get_bipartite_degree_centrality(bipartite_jazz_net)"
   ]
  },
  {
   "cell_type": "code",
   "execution_count": 95,
   "metadata": {},
   "outputs": [],
   "source": [
    "names  = centralities"
   ]
  },
  {
   "cell_type": "code",
   "execution_count": 73,
   "metadata": {},
   "outputs": [
    {
     "name": "stdout",
     "output_type": "stream",
     "text": [
      "1 - rudy van gelder - {'mixed', 'mastered', 'engineer', 'lacquer cut', 'recorded', 'remastered'}\n",
      "2 - manfred eicher - {'liner notes', 'mixed', 'mastered', 'producer', 'executive producer', 'supervised', 'co producer', 'engineer', 'technician', 'edited'}\n",
      "3 - francis wolff - {'design', 'photography', 'producer', 'cover'}\n",
      "4 - reid miles - {'cover', 'artwork', 'art direction', 'design', 'photography'}\n",
      "5 - alfred lion - {'producer'}\n",
      "6 - nat hentoff - {'supervised', 'liner notes', 'producer', 'sleeve notes'}\n",
      "7 - jan erik kongshaug - {'mixed', 'mastered', 'field recording', 'engineer', 'edited', 'recorded'}\n",
      "8 - ron carter - {'main artist', 'recorder', 'double bass', 'producer', 'soloist', 'composed', 'conductor', 'strings', 'written', 'arranged', 'cello', 'piccolo'}\n",
      "9 - creed taylor - {'producer'}\n",
      "10 - herbie hancock - {'main artist', 'organ', 'harp', 'drum programming', 'drum machine', 'conductor', 'written', 'featuring', 'producer', 'piano', 'performer', 'guest', 'percussion', 'arranged', 'synthesizer', 'vocals', 'mellotron', 'executive producer', 'soloist', 'vocoder', 'liner notes', 'backing vocals', 'clavinet', 'keyboards'}\n",
      "11 - orrin keepnews - {'mixed', 'producer', 'executive producer', 'compilation producer', 'supervised', 'engineer', 'remix', 'liner notes', 'sleeve notes'}\n",
      "12 - paul chambers - {'main artist', 'recorder', 'featuring'}\n",
      "13 - ira gitler - {'supervised', 'liner notes', 'sleeve notes'}\n",
      "14 - leonard feather - {'liner notes', 'producer', 'sleeve notes'}\n",
      "15 - chuck stewart - {'photography', 'bells', 'cover'}\n",
      "16 - bob thiele - {'mixed', 'producer', 'executive producer', 'supervised', 'liner notes', 'photography'}\n",
      "17 - greg calbi - {'mastered', 'engineer', 'lacquer cut'}\n",
      "18 - barbara wojirsch - {'design', 'cover', 'artwork', 'layout'}\n",
      "19 - sascha kleis - {'design', 'photography', 'layout'}\n",
      "20 - john zorn - {'main artist', 'vocals', 'producer', 'executive producer', 'saxophone', 'artwork', 'piano', 'composed', 'music', 'created', 'conductor', 'voice', 'arranged', 'liner notes', 'design', 'written'}\n"
     ]
    }
   ],
   "source": [
    "names  = centralities\n",
    "idx =1\n",
    "for n in names :\n",
    "    print(idx,\"-\",n,\"-\",get_results(centralities)[n])\n",
    "    idx+=1"
   ]
  },
  {
   "cell_type": "code",
   "execution_count": 8,
   "metadata": {},
   "outputs": [
    {
     "data": {
      "text/plain": [
       "14"
      ]
     },
     "execution_count": 8,
     "metadata": {},
     "output_type": "execute_result"
    }
   ],
   "source": [
    "len(get_results(centralities).keys())"
   ]
  },
  {
   "cell_type": "markdown",
   "metadata": {},
   "source": [
    "# jazz Album projection network "
   ]
  },
  {
   "cell_type": "code",
   "execution_count": 5,
   "metadata": {},
   "outputs": [
    {
     "name": "stdout",
     "output_type": "stream",
     "text": [
      "nb nodes:  4741\n",
      "nb edges:  369779\n",
      "Min node degree:  0\n",
      "Max node degree:  941\n",
      "Avg node degree:  155.99198481333053\n"
     ]
    }
   ],
   "source": [
    "albums = [x for x,y in bipartite_jazz_net.nodes(data=True) if y['type']=='Album']\n",
    "jazz_album_projection_network =  bipartite.weighted_projected_graph(bipartite_jazz_net, albums, multigraph=False)\n",
    "#jazz_album_projection_network = net.build_album_projection_network(albums,'title','artists','year')\n",
    "net.get_network_info(jazz_album_projection_network)"
   ]
  },
  {
   "cell_type": "code",
   "execution_count": 13,
   "metadata": {},
   "outputs": [
    {
     "name": "stdout",
     "output_type": "stream",
     "text": [
      "get_avg_path_length:  2.8330139350781245\n"
     ]
    }
   ],
   "source": [
    "largest_cc = max(nx.connected_components(jazz_album_projection_network), key=len)\n",
    "largest_cc = jazz_album_projection_network.subgraph(largest_cc)\n",
    "net.get_avg_path_length(largest_cc)"
   ]
  },
  {
   "cell_type": "code",
   "execution_count": 25,
   "metadata": {},
   "outputs": [
    {
     "name": "stdout",
     "output_type": "stream",
     "text": [
      "Diameter :  11\n",
      "Density :  0.0329097014374115\n",
      "Nb connected components :  208\n",
      "Avg weighted degree :  2476025.6645222525\n",
      "Average clustering coefficient :  0.5362826376872663\n"
     ]
    }
   ],
   "source": [
    "net.get_diameter(largest_cc)\n",
    "net.get_density(jazz_album_projection_network)\n",
    "net.get_nb_of_connected_comp(jazz_album_projection_network)\n",
    "net.get_avg_weighted_degree(jazz_album_projection_network)\n",
    "net.get_avg_clustering_coefficent(jazz_album_projection_network)"
   ]
  },
  {
   "cell_type": "markdown",
   "metadata": {},
   "source": [
    "## clustering coefficient"
   ]
  },
  {
   "cell_type": "code",
   "execution_count": 22,
   "metadata": {},
   "outputs": [
    {
     "data": {
      "text/plain": [
       "337"
      ]
     },
     "execution_count": 22,
     "metadata": {},
     "output_type": "execute_result"
    }
   ],
   "source": [
    "nb_solo = 0\n",
    "for r in results : \n",
    "    if len(r['artists']) <= 3 :\n",
    "        nb_solo+=1\n",
    "nb_solo        "
   ]
  },
  {
   "cell_type": "code",
   "execution_count": 16,
   "metadata": {},
   "outputs": [
    {
     "name": "stdout",
     "output_type": "stream",
     "text": [
      "69\n"
     ]
    },
    {
     "data": {
      "image/png": "[encoded data removed]",
      "text/plain": [
       "<Figure size 640x480 with 1 Axes>"
      ]
     },
     "metadata": {},
     "output_type": "display_data"
    }
   ],
   "source": [
    "net.plot_hist_clustering_coeff_by_amount(jazz_album_projection_network)"
   ]
  },
  {
   "cell_type": "code",
   "execution_count": 23,
   "metadata": {},
   "outputs": [
    {
     "data": {
      "image/png": "[encoded data removed]",
      "text/plain": [
       "<Figure size 640x480 with 1 Axes>"
      ]
     },
     "metadata": {},
     "output_type": "display_data"
    }
   ],
   "source": [
    "net.plot_clustering_coeff_by_degree(jazz_album_projection_network)"
   ]
  },
  {
   "cell_type": "code",
   "execution_count": 108,
   "metadata": {},
   "outputs": [],
   "source": [
    "net.save_graph(jazz_album_projection_network,\"../networks/gephi/jazz_album_projection_network.gexf\")"
   ]
  },
  {
   "cell_type": "markdown",
   "metadata": {},
   "source": [
    "# Jazz collaborators network "
   ]
  },
  {
   "cell_type": "code",
   "execution_count": 7,
   "metadata": {},
   "outputs": [],
   "source": [
    "collaborators = [x for x,y in bipartite_jazz_net.nodes(data=True) if y['type']=='Artist']\n",
    "collaborators_projection_network =  bipartite.weighted_projected_graph(bipartite_jazz_net, collaborators, multigraph=False) \n",
    "net.save_graph(collaborators_projection_network,\"../networks/gephi/jazz_collaborators_projection.gexf\")"
   ]
  },
  {
   "cell_type": "markdown",
   "metadata": {},
   "source": [
    "## General Network  info"
   ]
  },
  {
   "cell_type": "code",
   "execution_count": 15,
   "metadata": {},
   "outputs": [],
   "source": [
    "largest_cc = max(nx.connected_components(collaborators_projection_network), key=len)\n",
    "largest_cc = collaborators_projection_network.subgraph(largest_cc)"
   ]
  },
  {
   "cell_type": "code",
   "execution_count": 20,
   "metadata": {},
   "outputs": [
    {
     "name": "stdout",
     "output_type": "stream",
     "text": [
      "Diameter :  12\n",
      "Density :  0.0014801664464818677\n",
      "Nb connected components :  208\n",
      "Avg weighted degree :  3166474822.5064344\n",
      "Average clustering coefficient :  0.8453609697036518\n"
     ]
    }
   ],
   "source": [
    "net.get_network_info(collaborators_projection_network)      \n",
    "net.get_diameter(largest_cc)\n",
    "net.get_density(collaborators_projection_network)\n",
    "net.get_nb_of_connected_comp(collaborators_projection_network)\n",
    "net.get_avg_weighted_degree(collaborators_projection_network)\n",
    "net.get_avg_clustering_coefficent(collaborators_projection_network)\n",
    "net.get_avg_path_length(largest_cc)"
   ]
  },
  {
   "cell_type": "code",
   "execution_count": 113,
   "metadata": {},
   "outputs": [],
   "source": []
  },
  {
   "cell_type": "code",
   "execution_count": null,
   "metadata": {},
   "outputs": [],
   "source": [
    "top50musicians = sorted(collaborators_projection_network.degree, key=lambda x: x[1], reverse=True)\n",
    "top50musicians"
   ]
  },
  {
   "cell_type": "markdown",
   "metadata": {},
   "source": [
    "## Local Clustering coefficient"
   ]
  },
  {
   "cell_type": "code",
   "execution_count": 43,
   "metadata": {},
   "outputs": [
    {
     "name": "stdout",
     "output_type": "stream",
     "text": [
      "153\n"
     ]
    },
    {
     "data": {
      "image/png": "[encoded data removed]",
      "text/plain": [
       "<Figure size 640x480 with 1 Axes>"
      ]
     },
     "metadata": {},
     "output_type": "display_data"
    }
   ],
   "source": [
    "net.plot_hist_clustering_coeff_by_amount(collaborators_projection_network)"
   ]
  },
  {
   "cell_type": "code",
   "execution_count": 37,
   "metadata": {},
   "outputs": [
    {
     "data": {
      "image/png": "[encoded data removed]",
      "text/plain": [
       "<Figure size 640x480 with 1 Axes>"
      ]
     },
     "metadata": {},
     "output_type": "display_data"
    }
   ],
   "source": [
    "net.plot_clustering_coeff_by_degree(collaborators_projection_network)"
   ]
  },
  {
   "cell_type": "markdown",
   "metadata": {},
   "source": [
    "## Centralities Analysis"
   ]
  },
  {
   "cell_type": "markdown",
   "metadata": {},
   "source": [
    "### Degree centralities"
   ]
  },
  {
   "cell_type": "code",
   "execution_count": 106,
   "metadata": {},
   "outputs": [],
   "source": [
    "top_artists_names = net.get_degree_centrality(collaborators_projection_network)[0]\n",
    "idx = 1\n",
    "for n in top_artists_names :\n",
    "    print(idx,\"-\",n,\"-\",get_results(top_artists_names)[n])\n",
    "    idx+=1"
   ]
  },
  {
   "cell_type": "markdown",
   "metadata": {},
   "source": [
    "### Eigenvector centralities"
   ]
  },
  {
   "cell_type": "code",
   "execution_count": null,
   "metadata": {},
   "outputs": [],
   "source": [
    "top_artists_names = net.get_eigenvector_centrality(collaborators_projection_network)[0]\n",
    "idx = 1\n",
    "for n in top_artists_names :\n",
    "    print(idx,\"-\",n,\"-\",get_results(top_artists_names)[n])\n",
    "    idx+=1"
   ]
  },
  {
   "cell_type": "markdown",
   "metadata": {},
   "source": [
    "### Betweenness centrality"
   ]
  },
  {
   "cell_type": "code",
   "execution_count": null,
   "metadata": {},
   "outputs": [],
   "source": [
    "top_artists_names = net.get_betweenness_centrality(collaborators_projection_network)[0]\n",
    "idx = 1\n",
    "for n in top_artists_names :\n",
    "    print(idx,\"-\",n,\"-\",get_results(top_artists_names)[n])\n",
    "    idx+=1"
   ]
  },
  {
   "cell_type": "markdown",
   "metadata": {},
   "source": [
    "### Correlation between the centralities "
   ]
  },
  {
   "cell_type": "code",
   "execution_count": 9,
   "metadata": {},
   "outputs": [
    {
     "name": "stdout",
     "output_type": "stream",
     "text": [
      "Spearman corr between projected degree k and betweenness centrality SignificanceResult(statistic=0.9988715437443674, pvalue=2.8063564772254223e-25)\n",
      "Spearman corr between projected degree k and eigenvector centrality is  SignificanceResult(statistic=0.950163493671981, pvalue=1.502221594959727e-10)\n",
      "Spearman corr between betweenness centrality and eigenvector centrality SignificanceResult(statistic=0.950163493671981, pvalue=1.502221594959727e-10)\n"
     ]
    }
   ],
   "source": [
    "names = net.get_spearman_corr(collaborators_projection_network)"
   ]
  },
  {
   "cell_type": "code",
   "execution_count": 40,
   "metadata": {},
   "outputs": [
    {
     "data": {
      "text/plain": [
       "{'al schmitt',\n",
       " 'bernie grundman',\n",
       " 'bill frisell',\n",
       " 'bob ludwig',\n",
       " 'chick corea',\n",
       " 'dave holland',\n",
       " 'david baker',\n",
       " 'evan parker',\n",
       " 'greg calbi',\n",
       " 'herbie hancock',\n",
       " 'hermeto pascoal',\n",
       " 'jack dejohnette',\n",
       " 'jan erik kongshaug',\n",
       " 'kenny wheeler',\n",
       " 'manfred eicher',\n",
       " 'martin s. gold',\n",
       " 'ron carter',\n",
       " 'rudy van gelder',\n",
       " 'scott hull',\n",
       " 'wayne shorter'}"
      ]
     },
     "execution_count": 40,
     "metadata": {},
     "output_type": "execute_result"
    }
   ],
   "source": [
    "artists_dict = dict()\n",
    "artist_set = set()\n",
    "for c in names:\n",
    "   artist_set.add(collaborators_projection_network.nodes[c]['name'])\n",
    "artist_set"
   ]
  },
  {
   "cell_type": "markdown",
   "metadata": {},
   "source": [
    "# All Time album Network"
   ]
  },
  {
   "cell_type": "code",
   "execution_count": 1,
   "metadata": {},
   "outputs": [
    {
     "ename": "FileNotFoundError",
     "evalue": "[Errno 2] No such file or directory: '../data/albums/all_time_album-final.json'",
     "output_type": "error",
     "traceback": [
      "\u001b[1;31m---------------------------------------------------------------------------\u001b[0m",
      "\u001b[1;31mFileNotFoundError\u001b[0m                         Traceback (most recent call last)",
      "Cell \u001b[1;32mIn[1], line 2\u001b[0m\n\u001b[0;32m      1\u001b[0m albums \u001b[38;5;241m=\u001b[39m \u001b[38;5;28;01mNone\u001b[39;00m\n\u001b[1;32m----> 2\u001b[0m \u001b[38;5;28;01mwith\u001b[39;00m \u001b[38;5;28;43mopen\u001b[39;49m\u001b[43m(\u001b[49m\u001b[38;5;124;43m'\u001b[39;49m\u001b[38;5;124;43m../data/albums/all_time_album-final.json\u001b[39;49m\u001b[38;5;124;43m'\u001b[39;49m\u001b[43m,\u001b[49m\u001b[43mencoding\u001b[49m\u001b[38;5;241;43m=\u001b[39;49m\u001b[38;5;124;43m\"\u001b[39;49m\u001b[38;5;124;43mUTF-8\u001b[39;49m\u001b[38;5;124;43m\"\u001b[39;49m\u001b[43m)\u001b[49m \u001b[38;5;28;01mas\u001b[39;00m f:\n\u001b[0;32m      3\u001b[0m         albums \u001b[38;5;241m=\u001b[39m json\u001b[38;5;241m.\u001b[39mload(f)   \n",
      "File \u001b[1;32m~\\AppData\\Roaming\\Python\\Python39\\site-packages\\IPython\\core\\interactiveshell.py:284\u001b[0m, in \u001b[0;36m_modified_open\u001b[1;34m(file, *args, **kwargs)\u001b[0m\n\u001b[0;32m    277\u001b[0m \u001b[38;5;28;01mif\u001b[39;00m file \u001b[38;5;129;01min\u001b[39;00m {\u001b[38;5;241m0\u001b[39m, \u001b[38;5;241m1\u001b[39m, \u001b[38;5;241m2\u001b[39m}:\n\u001b[0;32m    278\u001b[0m     \u001b[38;5;28;01mraise\u001b[39;00m \u001b[38;5;167;01mValueError\u001b[39;00m(\n\u001b[0;32m    279\u001b[0m         \u001b[38;5;124mf\u001b[39m\u001b[38;5;124m\"\u001b[39m\u001b[38;5;124mIPython won\u001b[39m\u001b[38;5;124m'\u001b[39m\u001b[38;5;124mt let you open fd=\u001b[39m\u001b[38;5;132;01m{\u001b[39;00mfile\u001b[38;5;132;01m}\u001b[39;00m\u001b[38;5;124m by default \u001b[39m\u001b[38;5;124m\"\u001b[39m\n\u001b[0;32m    280\u001b[0m         \u001b[38;5;124m\"\u001b[39m\u001b[38;5;124mas it is likely to crash IPython. If you know what you are doing, \u001b[39m\u001b[38;5;124m\"\u001b[39m\n\u001b[0;32m    281\u001b[0m         \u001b[38;5;124m\"\u001b[39m\u001b[38;5;124myou can use builtins\u001b[39m\u001b[38;5;124m'\u001b[39m\u001b[38;5;124m open.\u001b[39m\u001b[38;5;124m\"\u001b[39m\n\u001b[0;32m    282\u001b[0m     )\n\u001b[1;32m--> 284\u001b[0m \u001b[38;5;28;01mreturn\u001b[39;00m io_open(file, \u001b[38;5;241m*\u001b[39margs, \u001b[38;5;241m*\u001b[39m\u001b[38;5;241m*\u001b[39mkwargs)\n",
      "\u001b[1;31mFileNotFoundError\u001b[0m: [Errno 2] No such file or directory: '../data/albums/all_time_album-final.json'"
     ]
    }
   ],
   "source": [
    "albums = None\n",
    "with open('../data/albums/all_time_album-final.json',encoding=\"UTF-8\") as f:\n",
    "        albums = json.load(f)   "
   ]
  },
  {
   "cell_type": "code",
   "execution_count": 33,
   "metadata": {},
   "outputs": [
    {
     "name": "stdout",
     "output_type": "stream",
     "text": [
      "nb nodes:  3971\n",
      "nb edges:  46696\n",
      "Min node degree:  0\n",
      "Max node degree:  200\n",
      "Avg node degree:  23.518509191639385\n"
     ]
    }
   ],
   "source": [
    "album_projection_network = net.build_album_projection_network(albums,'title','artists')\n",
    "net.get_network_info(album_projection_network)"
   ]
  },
  {
   "cell_type": "code",
   "execution_count": 34,
   "metadata": {},
   "outputs": [],
   "source": [
    "net.save_graph(album_projection_network,\"../networks/gephi/all_time_album_projection.gexf\")"
   ]
  },
  {
   "cell_type": "code",
   "execution_count": 30,
   "metadata": {},
   "outputs": [
    {
     "name": "stdout",
     "output_type": "stream",
     "text": [
      "nb nodes:  27406\n",
      "nb edges:  37354\n",
      "Min node degree:  1\n",
      "Max node degree:  153\n",
      "Avg node degree:  2.725972414799679\n"
     ]
    }
   ],
   "source": [
    "collaborators_projection_network = net.build_collaborators_projection_network(albums,'artists')\n",
    "net.get_network_info(collaborators_projection_network)     "
   ]
  },
  {
   "cell_type": "code",
   "execution_count": 31,
   "metadata": {},
   "outputs": [],
   "source": [
    "net.save_graph(collaborators_projection_network,\"../networks/gephi/all_time_collaborators_projection.gexf\")"
   ]
  },
  {
   "cell_type": "markdown",
   "metadata": {},
   "source": [
    "# Montreux"
   ]
  },
  {
   "cell_type": "code",
   "execution_count": 2,
   "metadata": {},
   "outputs": [],
   "source": [
    "mjf = None\n",
    "with open('../data/mjf/mfj_export_clean-final.json',encoding=\"UTF-8\") as f:\n",
    "        mjf = json.load(f)      \n",
    "results = mjf"
   ]
  },
  {
   "cell_type": "code",
   "execution_count": 22,
   "metadata": {},
   "outputs": [],
   "source": [
    "def get_results_bipartite(c) : \n",
    "    artists_dict = dict()\n",
    "    for row in results : \n",
    "        for art in row['musicians'] :\n",
    "                if art['name'] == c :\n",
    "                    if art['name'] not in artists_dict.keys() :\n",
    "                        artists_dict[art['name']] = list()\n",
    "                    for r in art['role']:\n",
    "                        artists_dict[art['name']].append(r)\n",
    "                    break    \n",
    "    return artists_dict"
   ]
  },
  {
   "cell_type": "code",
   "execution_count": 23,
   "metadata": {},
   "outputs": [],
   "source": [
    "def get_results(c) : \n",
    "    artists_dict = dict()\n",
    "    for row in results : \n",
    "        for art in row['musicians'] :\n",
    "                if art['id'] == int(str(c)[3:]) :\n",
    "                    if art['name'] not in artists_dict.keys() :\n",
    "                        artists_dict[art['name']] = list()\n",
    "                   \n",
    "                    if len( art['role']) == 0 : \n",
    "                        artists_dict[art['name']].append(\"none\")\n",
    "\n",
    "                    for r in art['role']:\n",
    "                        artists_dict[art['name']].append(r)\n",
    "                   \n",
    "                    break    \n",
    "                \n",
    "    return artists_dict"
   ]
  },
  {
   "cell_type": "code",
   "execution_count": 24,
   "metadata": {},
   "outputs": [],
   "source": [
    "def get_details_by_centrality(centrality) :\n",
    "    idx = 1\n",
    "    for n in centrality :\n",
    "        result = get_results(n)\n",
    "        print(idx,\"-\",list(result.keys())[0],\"-\",Counter(list(result.values())[0]))\n",
    "        idx+=1"
   ]
  },
  {
   "cell_type": "code",
   "execution_count": 6,
   "metadata": {},
   "outputs": [],
   "source": [
    "def gender_dist_top100(musicians,df_gender):\n",
    "    #Gender distribution\n",
    "    genders = list()\n",
    "    for id in musicians[:100]  :\n",
    "        gender = df_gender[df_gender[\"id\"] == int(str(id)[3:])][\"gender\"].iloc[0]\n",
    "        if gender != \"unknown\":\n",
    "            genders.append(gender)\n",
    "    print(pd.Series(Counter(genders)))"
   ]
  },
  {
   "cell_type": "code",
   "execution_count": 7,
   "metadata": {},
   "outputs": [],
   "source": [
    "df = pd.read_csv(\"../data/artists/mjf_art_gender.csv\",sep=\",\")"
   ]
  },
  {
   "cell_type": "markdown",
   "metadata": {},
   "source": [
    "## Bipartite Graph"
   ]
  },
  {
   "cell_type": "code",
   "execution_count": 3,
   "metadata": {},
   "outputs": [
    {
     "name": "stdout",
     "output_type": "stream",
     "text": [
      "nb nodes:  21919\n",
      "nb edges:  26552\n",
      "Min node degree:  1\n",
      "Max node degree:  83\n",
      "Avg node degree:  2.4227382636069166\n"
     ]
    }
   ],
   "source": [
    "bipartite_mjf_net = net.build_bipartite_network(results,'name','musicians','date','categories',2000)\n",
    "net.get_network_info(bipartite_mjf_net)"
   ]
  },
  {
   "cell_type": "code",
   "execution_count": 68,
   "metadata": {},
   "outputs": [],
   "source": [
    "bd_centralities = net.get_bipartite_degree_centrality(bipartite_mjf_net)[0][:20]"
   ]
  },
  {
   "cell_type": "markdown",
   "metadata": {},
   "source": [
    "### Bipartite degree centrality before year 2000"
   ]
  },
  {
   "cell_type": "code",
   "execution_count": 18,
   "metadata": {},
   "outputs": [
    {
     "name": "stdout",
     "output_type": "stream",
     "text": [
      "1 - claude nobs - Counter({'harmonica': 63, 'none': 9, 'harp': 1, 'vocals': 1, 'percussions': 1})\n",
      "2 - george duke - Counter({'keyboards': 33, 'piano': 30, 'vocals': 4, 'none': 2, 'synthesizer': 1})\n",
      "3 - herbie hancock - Counter({'piano': 35, 'keyboards': 14, 'none': 1})\n",
      "4 - david sanborn - Counter({'saxophone': 32})\n",
      "5 - milt jackson - Counter({'vibraphone': 19})\n",
      "6 - nathan east - Counter({'recorder': 23, 'vocals': 3})\n",
      "7 - niels pedersen - Counter({'recorder': 15, 'double bass': 1})\n",
      "8 - dizzy gillespie - Counter({'trumpet': 13, 'none': 3, 'vocals': 1, 'harp': 1})\n",
      "9 - al jarreau - Counter({'vocals': 22, 'none': 2, 'vocal': 1, 'marimba': 1, 'drums': 1})\n",
      "10 - rachelle ferrell - Counter({'vocals': 20, 'piano': 4, 'keyboards': 1})\n",
      "11 - calep emphrey, jr. - Counter({'drums': 20})\n",
      "12 - billy cobham - Counter({'drums': 19, 'percussions': 1, 'none': 1})\n",
      "13 - michael brecker - Counter({'saxophone': 12, 'recorder': 5, 'electronic wind instrument   ewi': 2})\n",
      "14 - clark terry - Counter({'trumpet': 11, 'flugelhorn': 3, 'none': 2, 'vocals': 1})\n",
      "15 - oscar peterson - Counter({'piano': 15})\n",
      "16 - joe sample - Counter({'piano': 19, 'keyboards': 9, 'none': 1})\n",
      "17 - steve ferrone - Counter({'drums': 14, 'percussions': 2})\n",
      "18 - ray brown - Counter({'recorder': 12, 'trumpet': 3})\n",
      "19 - b.b. king - Counter({'guitar': 22, 'vocals': 17})\n",
      "20 - chaka khan - Counter({'vocals': 20, 'none': 1})\n"
     ]
    }
   ],
   "source": [
    "bd_centralities = net.get_bipartite_degree_centrality(bipartite_mjf_net)[0]\n",
    "get_details_by_centrality(bd_centralities[:20])"
   ]
  },
  {
   "cell_type": "code",
   "execution_count": 13,
   "metadata": {},
   "outputs": [
    {
     "name": "stdout",
     "output_type": "stream",
     "text": [
      "male      94\n",
      "female     5\n",
      "dtype: int64\n"
     ]
    }
   ],
   "source": [
    "gender_dist_top100(bd_centralities[:100],df)"
   ]
  },
  {
   "cell_type": "code",
   "execution_count": 16,
   "metadata": {},
   "outputs": [
    {
     "data": {
      "text/plain": [
       "[999845,\n",
       " 999133,\n",
       " 999628,\n",
       " 999864,\n",
       " 9997804,\n",
       " 9994056,\n",
       " 99913730,\n",
       " 999143,\n",
       " 9991529,\n",
       " 9991112,\n",
       " 9997401,\n",
       " 999517,\n",
       " 9996698,\n",
       " 99912624,\n",
       " 9997806,\n",
       " 9991610,\n",
       " 99914193,\n",
       " 99914259,\n",
       " 9991093,\n",
       " 999139]"
      ]
     },
     "execution_count": 16,
     "metadata": {},
     "output_type": "execute_result"
    }
   ],
   "source": [
    "bd_centralities[:20]"
   ]
  },
  {
   "cell_type": "code",
   "execution_count": 17,
   "metadata": {},
   "outputs": [
    {
     "data": {
      "text/plain": [
       "[(907, 51),\n",
       " (999845, 50),\n",
       " (2349, 48),\n",
       " (2408, 48),\n",
       " (999133, 41),\n",
       " (2780, 41),\n",
       " (2781, 40),\n",
       " (2604, 39),\n",
       " (909, 38),\n",
       " (2566, 37),\n",
       " (1206, 35),\n",
       " (915, 32),\n",
       " (858, 32),\n",
       " (1240, 31),\n",
       " (2645, 30),\n",
       " (894, 29),\n",
       " (2429, 28),\n",
       " (709, 27),\n",
       " (2479, 27),\n",
       " (2363, 26),\n",
       " (2362, 25),\n",
       " (2663, 25),\n",
       " (2778, 25),\n",
       " (1345, 25),\n",
       " (2277, 24),\n",
       " (2078, 24),\n",
       " (2361, 24),\n",
       " (2784, 24),\n",
       " (1179, 24),\n",
       " (1468, 24),\n",
       " (95, 23),\n",
       " (1249, 23),\n",
       " (932, 22),\n",
       " (1832, 22),\n",
       " (2384, 22),\n",
       " (2483, 22),\n",
       " (2638, 22),\n",
       " (2779, 22),\n",
       " (321, 21),\n",
       " (999628, 21),\n",
       " (999864, 21),\n",
       " (2276, 21),\n",
       " (2139, 21),\n",
       " (2427, 21),\n",
       " (1264, 21),\n",
       " (1392, 21),\n",
       " (1967, 20),\n",
       " (2268, 20),\n",
       " (2371, 20),\n",
       " (2434, 20),\n",
       " (1317, 20),\n",
       " (4047, 19),\n",
       " (9997804, 19),\n",
       " (6393, 19),\n",
       " (2169, 19),\n",
       " (2278, 19),\n",
       " (2099, 19),\n",
       " (992, 19),\n",
       " (718, 19),\n",
       " (901, 19),\n",
       " (2375, 19),\n",
       " (2544, 19),\n",
       " (2580, 19),\n",
       " (2782, 19),\n",
       " (1464, 19),\n",
       " (1266, 19),\n",
       " (360, 18),\n",
       " (328, 18),\n",
       " (205, 18),\n",
       " (588, 18),\n",
       " (9994056, 18),\n",
       " (759, 18),\n",
       " (2532, 18),\n",
       " (1337, 18),\n",
       " (4067, 17),\n",
       " (317, 17),\n",
       " (1871, 17),\n",
       " (1914, 17),\n",
       " (2132, 17),\n",
       " (2141, 17),\n",
       " (783, 17),\n",
       " (2389, 17),\n",
       " (2641, 17),\n",
       " (2761, 17),\n",
       " (2773, 17),\n",
       " (99913730, 16),\n",
       " (999143, 16),\n",
       " (9991529, 16),\n",
       " (1806, 16),\n",
       " (2039, 16),\n",
       " (2098, 16),\n",
       " (9991112, 16),\n",
       " (782, 16),\n",
       " (900, 16),\n",
       " (2358, 16),\n",
       " (2446, 16),\n",
       " (2470, 16),\n",
       " (2642, 16),\n",
       " (2689, 16),\n",
       " (2727, 16),\n",
       " (1221, 16),\n",
       " (1415, 16),\n",
       " (9997401, 15),\n",
       " (999517, 15),\n",
       " (9996698, 15),\n",
       " (312, 15),\n",
       " (1900, 15),\n",
       " (120, 15),\n",
       " (2005, 15),\n",
       " (2168, 15),\n",
       " (2210, 15),\n",
       " (987, 15),\n",
       " (2079, 15),\n",
       " (758, 15),\n",
       " (760, 15),\n",
       " (2342, 15),\n",
       " (908, 15),\n",
       " (2391, 15),\n",
       " (2755, 15),\n",
       " (1185, 15),\n",
       " (1205, 15),\n",
       " (1248, 15),\n",
       " (1290, 15),\n",
       " (1296, 15),\n",
       " (1303, 15),\n",
       " (99912624, 14),\n",
       " (495, 14),\n",
       " (9997806, 14),\n",
       " (9991610, 14),\n",
       " (99914193, 14),\n",
       " (99914259, 14),\n",
       " (9991093, 14),\n",
       " (159, 14),\n",
       " (132, 14),\n",
       " (1964, 14),\n",
       " (971, 14),\n",
       " (999139, 14),\n",
       " (2269, 14),\n",
       " (2345, 14),\n",
       " (893, 14),\n",
       " (912, 14),\n",
       " (2459, 14),\n",
       " (2502, 14),\n",
       " (2658, 14),\n",
       " (1180, 14),\n",
       " (1223, 14),\n",
       " (1239, 14),\n",
       " (1295, 14),\n",
       " (1321, 14),\n",
       " (1342, 14),\n",
       " (1258, 14),\n",
       " (99912646, 13),\n",
       " (999166, 13),\n",
       " (999185, 13),\n",
       " (9994075, 13),\n",
       " (211, 13),\n",
       " (999350, 13),\n",
       " (99914143, 13),\n",
       " (74, 13),\n",
       " (1944, 13),\n",
       " (9991107, 13),\n",
       " (2008, 13),\n",
       " (2194, 13),\n",
       " (2077, 13),\n",
       " (2344, 13),\n",
       " (4195, 13),\n",
       " (2365, 13),\n",
       " (2510, 13),\n",
       " (2485, 13),\n",
       " (2572, 13),\n",
       " (2607, 13),\n",
       " (2665, 13),\n",
       " (1210, 13),\n",
       " (1230, 13),\n",
       " (1318, 13),\n",
       " (1364, 13),\n",
       " (1398, 13),\n",
       " (1429, 13),\n",
       " (99912876, 12),\n",
       " (9992484, 12),\n",
       " (187, 12),\n",
       " (322, 12),\n",
       " (309, 12),\n",
       " (1868, 12),\n",
       " (619, 12),\n",
       " (9991102, 12),\n",
       " (1917, 12),\n",
       " (4135, 12),\n",
       " (2222, 12),\n",
       " (2223, 12),\n",
       " (691, 12),\n",
       " (2124, 12),\n",
       " (916, 12),\n",
       " (715, 12),\n",
       " (768, 12),\n",
       " (2343, 12),\n",
       " (895, 12),\n",
       " (4196, 12),\n",
       " (2368, 12),\n",
       " (4199, 12),\n",
       " (2402, 12),\n",
       " (2425, 12),\n",
       " (826, 12),\n",
       " (2543, 12),\n",
       " (2581, 12),\n",
       " (2589, 12),\n",
       " (2628, 12),\n",
       " (2747, 12),\n",
       " (1200, 12),\n",
       " (1209, 12),\n",
       " (1242, 12),\n",
       " (1330, 12),\n",
       " (1421, 12),\n",
       " (1422, 12),\n",
       " (1430, 12),\n",
       " (9992958, 11),\n",
       " (497, 11),\n",
       " (78, 11),\n",
       " (929, 11),\n",
       " (75, 11),\n",
       " (1829, 11),\n",
       " (225, 11),\n",
       " (221, 11),\n",
       " (251, 11),\n",
       " (597, 11),\n",
       " (163, 11),\n",
       " (255, 11),\n",
       " (116, 11),\n",
       " (99910015, 11),\n",
       " (950, 11),\n",
       " (998, 11),\n",
       " (877, 11),\n",
       " (958, 11),\n",
       " (2188, 11),\n",
       " (2213, 11),\n",
       " (2226, 11),\n",
       " (9993128, 11),\n",
       " (2071, 11),\n",
       " (2084, 11),\n",
       " (2101, 11),\n",
       " (696, 11),\n",
       " (701, 11),\n",
       " (767, 11),\n",
       " (2350, 11),\n",
       " (2359, 11),\n",
       " (2376, 11),\n",
       " (2385, 11),\n",
       " (2407, 11),\n",
       " (2420, 11),\n",
       " (854, 11),\n",
       " (1142, 11),\n",
       " (2448, 11),\n",
       " (2456, 11),\n",
       " (2466, 11),\n",
       " (2526, 11),\n",
       " (2487, 11),\n",
       " (2626, 11),\n",
       " (2657, 11),\n",
       " (2667, 11),\n",
       " (2739, 11),\n",
       " (2764, 11),\n",
       " (2696, 11),\n",
       " (1181, 11),\n",
       " (1208, 11),\n",
       " (99912576, 10),\n",
       " (9998134, 10),\n",
       " (9999060, 10),\n",
       " (473, 10),\n",
       " (4054, 10),\n",
       " (9991366, 10),\n",
       " (99910434, 10),\n",
       " (9994375, 10),\n",
       " (999379, 10),\n",
       " (180, 10),\n",
       " (99913914, 10),\n",
       " (9994557, 10),\n",
       " (99913824, 10),\n",
       " (310, 10),\n",
       " (242, 10),\n",
       " (249, 10),\n",
       " (99915072, 10),\n",
       " (585, 10),\n",
       " (622, 10),\n",
       " (621, 10),\n",
       " (99911314, 10),\n",
       " (876, 10),\n",
       " (872, 10),\n",
       " (1986, 10),\n",
       " (1988, 10),\n",
       " (2166, 10),\n",
       " (2017, 10),\n",
       " (2027, 10),\n",
       " (2038, 10),\n",
       " (2200, 10),\n",
       " (2203, 10),\n",
       " (2211, 10),\n",
       " (973, 10),\n",
       " (2064, 10),\n",
       " (988, 10),\n",
       " (2065, 10),\n",
       " (2239, 10),\n",
       " (2257, 10),\n",
       " (2280, 10),\n",
       " (2293, 10),\n",
       " (990, 10),\n",
       " (2299, 10),\n",
       " (137, 10),\n",
       " (2116, 10),\n",
       " (702, 10),\n",
       " (703, 10),\n",
       " (716, 10),\n",
       " (719, 10),\n",
       " (2144, 10),\n",
       " (726, 10),\n",
       " (728, 10),\n",
       " (736, 10),\n",
       " (681, 10),\n",
       " (2339, 10),\n",
       " (9991477, 10),\n",
       " (2411, 10),\n",
       " (1117, 10),\n",
       " (1118, 10),\n",
       " (1123, 10),\n",
       " (1156, 10),\n",
       " (1155, 10),\n",
       " (1749, 10),\n",
       " (2515, 10),\n",
       " (2552, 10),\n",
       " (2553, 10),\n",
       " (2491, 10),\n",
       " (2494, 10),\n",
       " (2500, 10),\n",
       " (2488, 10),\n",
       " (2603, 10),\n",
       " (2649, 10),\n",
       " (2669, 10),\n",
       " (2685, 10),\n",
       " (2687, 10),\n",
       " (2752, 10),\n",
       " (2693, 10),\n",
       " (1178, 10),\n",
       " (1192, 10),\n",
       " (1222, 10),\n",
       " (1224, 10),\n",
       " (1263, 10),\n",
       " (1294, 10),\n",
       " (4223, 10),\n",
       " (4224, 10),\n",
       " (1341, 10),\n",
       " (1370, 10),\n",
       " (1394, 10),\n",
       " (1418, 10),\n",
       " (1423, 10),\n",
       " (1428, 10),\n",
       " (4241, 10),\n",
       " (1434, 10),\n",
       " (99912550, 9),\n",
       " (9991454, 9),\n",
       " (99912631, 9),\n",
       " (4002, 9),\n",
       " (451, 9),\n",
       " (1769, 9),\n",
       " (307, 9),\n",
       " (99913642, 9),\n",
       " (9992112, 9),\n",
       " (9995990, 9),\n",
       " (99914145, 9),\n",
       " (531, 9),\n",
       " (930, 9),\n",
       " (534, 9),\n",
       " (233, 9),\n",
       " (937, 9),\n",
       " (9993983, 9),\n",
       " (574, 9),\n",
       " (615, 9),\n",
       " (620, 9),\n",
       " (623, 9),\n",
       " (611, 9),\n",
       " (612, 9),\n",
       " (1906, 9),\n",
       " (161, 9),\n",
       " (100, 9),\n",
       " (630, 9),\n",
       " (638, 9),\n",
       " (9994556, 9),\n",
       " (9991619, 9),\n",
       " (633, 9),\n",
       " (105, 9),\n",
       " (99916808, 9),\n",
       " (949, 9),\n",
       " (1960, 9),\n",
       " (1978, 9),\n",
       " (1982, 9),\n",
       " (1994, 9),\n",
       " (2187, 9),\n",
       " (2193, 9),\n",
       " (2201, 9),\n",
       " (984, 9),\n",
       " (2059, 9),\n",
       " (2237, 9),\n",
       " (985, 9),\n",
       " (989, 9),\n",
       " (2256, 9),\n",
       " (2260, 9),\n",
       " (99910029, 9),\n",
       " (2271, 9),\n",
       " (2290, 9),\n",
       " (993, 9),\n",
       " (881, 9),\n",
       " (2110, 9),\n",
       " (2133, 9),\n",
       " (2134, 9),\n",
       " (917, 9),\n",
       " (722, 9),\n",
       " (727, 9),\n",
       " (733, 9),\n",
       " (741, 9),\n",
       " (762, 9),\n",
       " (885, 9),\n",
       " (2348, 9),\n",
       " (2351, 9),\n",
       " (2354, 9),\n",
       " (2360, 9),\n",
       " (2364, 9),\n",
       " (914, 9),\n",
       " (2377, 9),\n",
       " (2396, 9),\n",
       " (2404, 9),\n",
       " (2430, 9),\n",
       " (827, 9),\n",
       " (1162, 9),\n",
       " (1154, 9),\n",
       " (2472, 9),\n",
       " (2473, 9),\n",
       " (2505, 9),\n",
       " (2511, 9),\n",
       " (2512, 9),\n",
       " (2501, 9),\n",
       " (2530, 9),\n",
       " (2545, 9),\n",
       " (2567, 9),\n",
       " (2498, 9),\n",
       " (2593, 9),\n",
       " (2594, 9),\n",
       " (2612, 9),\n",
       " (2617, 9),\n",
       " (2646, 9),\n",
       " (2653, 9),\n",
       " (2654, 9),\n",
       " (2668, 9),\n",
       " (2674, 9),\n",
       " (2680, 9),\n",
       " (2709, 9),\n",
       " (2729, 9),\n",
       " (2734, 9),\n",
       " (2754, 9),\n",
       " (2695, 9),\n",
       " (1176, 9),\n",
       " (1182, 9),\n",
       " (1211, 9),\n",
       " (1214, 9),\n",
       " (1307, 9),\n",
       " (1316, 9),\n",
       " (1323, 9),\n",
       " (1343, 9),\n",
       " (1348, 9),\n",
       " (1389, 9),\n",
       " (1416, 9),\n",
       " (1417, 9),\n",
       " (4239, 9),\n",
       " (1436, 9),\n",
       " (352, 8),\n",
       " (9999751, 8),\n",
       " (9999389, 8),\n",
       " (9997725, 8),\n",
       " (335, 8),\n",
       " (999119, 8),\n",
       " (99913007, 8),\n",
       " (99910072, 8),\n",
       " (99913048, 8),\n",
       " (4049, 8),\n",
       " (4066, 8),\n",
       " (485, 8),\n",
       " (486, 8),\n",
       " (999141, 8),\n",
       " (4075, 8),\n",
       " (9999740, 8),\n",
       " (188, 8),\n",
       " (99913734, 8),\n",
       " (9994088, 8),\n",
       " (99913876, 8),\n",
       " (217, 8),\n",
       " (540, 8),\n",
       " (99914138, 8),\n",
       " (80, 8),\n",
       " (1823, 8),\n",
       " (535, 8),\n",
       " (9996337, 8),\n",
       " (227, 8),\n",
       " (397, 8),\n",
       " (9996228, 8),\n",
       " (9997864, 8),\n",
       " (99914776, 8),\n",
       " (246, 8),\n",
       " (126, 8),\n",
       " (250, 8),\n",
       " (145, 8),\n",
       " (1867, 8),\n",
       " (4104, 8),\n",
       " (1881, 8),\n",
       " (99916590, 8),\n",
       " (122, 8),\n",
       " (606, 8),\n",
       " (1904, 8),\n",
       " (86, 8),\n",
       " (626, 8),\n",
       " (999120, 8),\n",
       " (99, 8),\n",
       " (1927, 8),\n",
       " (133, 8),\n",
       " (1950, 8),\n",
       " (9993946, 8),\n",
       " (1959, 8),\n",
       " (99916862, 8),\n",
       " (1961, 8),\n",
       " (951, 8),\n",
       " (99917146, 8),\n",
       " (9995889, 8),\n",
       " (2016, 8),\n",
       " (961, 8),\n",
       " (956, 8),\n",
       " (957, 8),\n",
       " (99917589, 8),\n",
       " (2041, 8),\n",
       " (2183, 8),\n",
       " (2186, 8),\n",
       " (2189, 8),\n",
       " (2053, 8),\n",
       " (2054, 8),\n",
       " (2055, 8),\n",
       " (2057, 8),\n",
       " (2058, 8),\n",
       " (2220, 8),\n",
       " (974, 8),\n",
       " (980, 8),\n",
       " (2225, 8),\n",
       " (1709, 8),\n",
       " (982, 8),\n",
       " (2061, 8),\n",
       " (2234, 8),\n",
       " (999870, 8),\n",
       " (972, 8),\n",
       " (2241, 8),\n",
       " (2254, 8),\n",
       " (2259, 8),\n",
       " (874, 8),\n",
       " (2076, 8),\n",
       " (2081, 8),\n",
       " (2085, 8),\n",
       " (2088, 8),\n",
       " (884, 8),\n",
       " (2105, 8),\n",
       " (924, 8),\n",
       " (2135, 8),\n",
       " (2140, 8),\n",
       " (2143, 8),\n",
       " (717, 8),\n",
       " (735, 8),\n",
       " (742, 8),\n",
       " (743, 8),\n",
       " (746, 8),\n",
       " (753, 8),\n",
       " (754, 8),\n",
       " (757, 8),\n",
       " (2346, 8),\n",
       " (898, 8),\n",
       " (899, 8),\n",
       " (99921674, 8),\n",
       " (99921676, 8),\n",
       " (99921860, 8),\n",
       " (99921863, 8),\n",
       " (99921866, 8),\n",
       " (910, 8),\n",
       " (4198, 8),\n",
       " (2379, 8),\n",
       " (2387, 8),\n",
       " (2406, 8),\n",
       " (4202, 8),\n",
       " (2415, 8),\n",
       " (838, 8),\n",
       " (842, 8),\n",
       " (1163, 8),\n",
       " (2433, 8),\n",
       " (2435, 8),\n",
       " (2458, 8),\n",
       " (2469, 8),\n",
       " (2478, 8),\n",
       " (2517, 8),\n",
       " (2520, 8),\n",
       " (2524, 8),\n",
       " (2525, 8),\n",
       " (2503, 8),\n",
       " (2528, 8),\n",
       " (2551, 8),\n",
       " (2497, 8),\n",
       " (2499, 8),\n",
       " (2579, 8),\n",
       " (2584, 8),\n",
       " (2591, 8),\n",
       " (2613, 8),\n",
       " (2614, 8),\n",
       " (2627, 8),\n",
       " (2636, 8),\n",
       " (2656, 8),\n",
       " (2662, 8),\n",
       " (2664, 8),\n",
       " (2666, 8),\n",
       " (2679, 8),\n",
       " (2702, 8),\n",
       " (2703, 8),\n",
       " (2706, 8),\n",
       " (2725, 8),\n",
       " (2735, 8),\n",
       " (2736, 8),\n",
       " (2750, 8),\n",
       " (2762, 8),\n",
       " (2765, 8),\n",
       " (2783, 8),\n",
       " (1195, 8),\n",
       " (1199, 8),\n",
       " (1213, 8),\n",
       " (1219, 8),\n",
       " (1220, 8),\n",
       " (1226, 8),\n",
       " (1232, 8),\n",
       " (1247, 8),\n",
       " (1257, 8),\n",
       " (1261, 8),\n",
       " (1465, 8),\n",
       " (1319, 8),\n",
       " (1322, 8),\n",
       " (1344, 8),\n",
       " (1347, 8),\n",
       " (1363, 8),\n",
       " (1405, 8),\n",
       " (1407, 8),\n",
       " (1420, 8),\n",
       " (4238, 8),\n",
       " (1433, 8),\n",
       " (3966, 7),\n",
       " (3965, 7),\n",
       " (9995673, 7),\n",
       " (4000, 7),\n",
       " (99912696, 7),\n",
       " (9991371, 7),\n",
       " (99912788, 7),\n",
       " (432, 7),\n",
       " (99912810, 7),\n",
       " (4037, 7),\n",
       " (482, 7),\n",
       " (241, 7),\n",
       " (462, 7),\n",
       " (870, 7),\n",
       " (477, 7),\n",
       " (347, 7),\n",
       " (99913337, 7),\n",
       " (4059, 7),\n",
       " (483, 7),\n",
       " (99913439, 7),\n",
       " (4068, 7),\n",
       " (99913558, 7),\n",
       " (264, 7),\n",
       " (331, 7),\n",
       " (168, 7),\n",
       " (4072, 7),\n",
       " (181, 7),\n",
       " (99913740, 7),\n",
       " (193, 7),\n",
       " (196, 7),\n",
       " (1792, 7),\n",
       " (1793, 7),\n",
       " (99914598, 7),\n",
       " (197, 7),\n",
       " (99913880, 7),\n",
       " (204, 7),\n",
       " (215, 7),\n",
       " (529, 7),\n",
       " (99914139, 7),\n",
       " (936, 7),\n",
       " (318, 7),\n",
       " (1828, 7),\n",
       " (532, 7),\n",
       " (311, 7),\n",
       " (148, 7),\n",
       " (130, 7),\n",
       " (99911792, 7),\n",
       " (9995237, 7),\n",
       " (224, 7),\n",
       " (9996693, 7),\n",
       " (245, 7),\n",
       " (234, 7),\n",
       " (231, 7),\n",
       " (1865, 7),\n",
       " (144, 7),\n",
       " (1882, 7),\n",
       " (600, 7),\n",
       " (592, 7),\n",
       " (565, 7),\n",
       " (583, 7),\n",
       " (678, 7),\n",
       " (4121, 7),\n",
       " (99910360, 7),\n",
       " (156, 7),\n",
       " (162, 7),\n",
       " (115, 7),\n",
       " (99916161, 7),\n",
       " (91, 7),\n",
       " (9993830, 7),\n",
       " (643, 7),\n",
       " (99916286, 7),\n",
       " (99916298, 7),\n",
       " (9996019, 7),\n",
       " (99916367, 7),\n",
       " (103, 7),\n",
       " (1925, 7),\n",
       " (867, 7),\n",
       " (1929, 7),\n",
       " (943, 7),\n",
       " (1939, 7),\n",
       " (945, 7),\n",
       " (689, 7),\n",
       " (1963, 7),\n",
       " (1976, 7),\n",
       " (1985, 7),\n",
       " (1987, 7),\n",
       " (2007, 7),\n",
       " (99917211, 7),\n",
       " (4143, 7),\n",
       " (962, 7),\n",
       " (995, 7),\n",
       " (99917369, 7),\n",
       " (942, 7),\n",
       " (2172, 7),\n",
       " (2173, 7),\n",
       " (2025, 7),\n",
       " (2026, 7),\n",
       " (9995677, 7),\n",
       " (2046, 7),\n",
       " (2205, 7),\n",
       " (969, 7),\n",
       " (970, 7),\n",
       " (979, 7),\n",
       " (875, 7),\n",
       " (9991023, 7),\n",
       " (2060, 7),\n",
       " (2233, 7),\n",
       " (9991144, 7),\n",
       " (9991137, 7),\n",
       " (2067, 7),\n",
       " (4169, 7),\n",
       " (2251, 7),\n",
       " (2255, 7),\n",
       " (2263, 7),\n",
       " (2270, 7),\n",
       " (2272, 7),\n",
       " (2295, 7),\n",
       " (2074, 7),\n",
       " (2083, 7),\n",
       " (9993006, 7),\n",
       " (9994066, 7),\n",
       " (692, 7),\n",
       " (2123, 7),\n",
       " (697, 7),\n",
       " (2126, 7),\n",
       " (721, 7),\n",
       " (729, 7),\n",
       " (730, 7),\n",
       " (731, 7),\n",
       " (732, 7),\n",
       " (739, 7),\n",
       " (9991103, 7),\n",
       " (9998794, 7),\n",
       " (772, 7),\n",
       " (886, 7),\n",
       " (9993030, 7),\n",
       " (889, 7),\n",
       " (2347, 7),\n",
       " (892, 7),\n",
       " (99921256, 7),\n",
       " (2355, 7),\n",
       " (2357, 7),\n",
       " (902, 7),\n",
       " (903, 7),\n",
       " (4197, 7),\n",
       " (905, 7),\n",
       " (99921846, 7),\n",
       " (99921850, 7),\n",
       " (99921859, 7),\n",
       " (2388, 7),\n",
       " (2395, 7),\n",
       " (2405, 7),\n",
       " (852, 7),\n",
       " (841, 7),\n",
       " (846, 7),\n",
       " (1108, 7),\n",
       " (1109, 7),\n",
       " (1110, 7),\n",
       " (1115, 7),\n",
       " (1121, 7),\n",
       " (1131, 7),\n",
       " (1157, 7),\n",
       " (1143, 7),\n",
       " (2439, 7),\n",
       " (2440, 7),\n",
       " (2467, 7),\n",
       " (2507, 7),\n",
       " (2585, 7),\n",
       " (2546, 7),\n",
       " (2547, 7),\n",
       " (2486, 7),\n",
       " (2495, 7),\n",
       " (2563, 7),\n",
       " (2565, 7),\n",
       " (2569, 7),\n",
       " (2590, 7),\n",
       " (2605, 7),\n",
       " (2606, 7),\n",
       " (2610, 7),\n",
       " (2618, 7),\n",
       " (2661, 7),\n",
       " (2677, 7),\n",
       " (2690, 7),\n",
       " (4213, 7),\n",
       " (2701, 7),\n",
       " (2710, 7),\n",
       " (2721, 7),\n",
       " (2730, 7),\n",
       " (2743, 7),\n",
       " (2744, 7),\n",
       " (2774, 7),\n",
       " (2692, 7),\n",
       " (1172, 7),\n",
       " (1175, 7),\n",
       " (1177, 7),\n",
       " (1198, 7),\n",
       " (1204, 7),\n",
       " (1212, 7),\n",
       " (99927275, 7),\n",
       " (1269, 7),\n",
       " (1283, 7),\n",
       " (1308, 7),\n",
       " (1311, 7),\n",
       " (866, 7),\n",
       " (1320, 7),\n",
       " (1324, 7),\n",
       " (1467, 7),\n",
       " (1338, 7),\n",
       " (1340, 7),\n",
       " (1349, 7),\n",
       " (1351, 7),\n",
       " (1357, 7),\n",
       " (1362, 7),\n",
       " (1371, 7),\n",
       " (1384, 7),\n",
       " (1391, 7),\n",
       " (1406, 7),\n",
       " (4230, 7),\n",
       " (1411, 7),\n",
       " (1419, 7),\n",
       " (1426, 7),\n",
       " (350, 6),\n",
       " (354, 6),\n",
       " (357, 6),\n",
       " (9992874, 6),\n",
       " (9996388, 6),\n",
       " (9999879, 6),\n",
       " (3974, 6),\n",
       " (99912471, 6),\n",
       " (3977, 6),\n",
       " (3981, 6),\n",
       " (999999, 6),\n",
       " (3987, 6),\n",
       " (376, 6),\n",
       " (99912574, 6),\n",
       " (380, 6),\n",
       " (383, 6),\n",
       " (99912650, 6),\n",
       " (4005, 6),\n",
       " (4001, 6),\n",
       " (99912663, 6),\n",
       " (4009, 6),\n",
       " (4008, 6),\n",
       " (4007, 6),\n",
       " (4006, 6),\n",
       " (266, 6),\n",
       " (287, 6),\n",
       " (302, 6),\n",
       " (408, 6),\n",
       " (409, 6),\n",
       " (413, 6),\n",
       " (290, 6),\n",
       " (414, 6),\n",
       " (447, 6),\n",
       " (423, 6),\n",
       " (454, 6),\n",
       " (99912909, 6),\n",
       " (9992101, 6),\n",
       " (4030, 6),\n",
       " (4032, 6),\n",
       " (4042, 6),\n",
       " (4048, 6),\n",
       " (478, 6),\n",
       " (99913255, 6),\n",
       " (999387, 6),\n",
       " (4057, 6),\n",
       " (479, 6),\n",
       " (9993012, 6),\n",
       " (487, 6),\n",
       " (99913504, 6),\n",
       " (99911650, 6),\n",
       " (330, 6),\n",
       " (9997160, 6),\n",
       " (99913592, 6),\n",
       " (99913594, 6),\n",
       " (99913699, 6),\n",
       " (99913705, 6),\n",
       " (341, 6),\n",
       " (340, 6),\n",
       " (99913768, 6),\n",
       " (338, 6),\n",
       " (99914363, 6),\n",
       " (99914376, 6),\n",
       " (202, 6),\n",
       " (305, 6),\n",
       " (1801, 6),\n",
       " (210, 6),\n",
       " (934, 6),\n",
       " (1817, 6),\n",
       " (999928, 6),\n",
       " (9996831, 6),\n",
       " (1822, 6),\n",
       " (320, 6),\n",
       " (1824, 6),\n",
       " (175, 6),\n",
       " (1831, 6),\n",
       " (243, 6),\n",
       " (559, 6),\n",
       " (99914664, 6),\n",
       " (216, 6),\n",
       " (232, 6),\n",
       " (123, 6),\n",
       " (9995039, 6),\n",
       " (260, 6),\n",
       " (229, 6),\n",
       " (556, 6),\n",
       " (220, 6),\n",
       " (5970, 6),\n",
       " (599, 6),\n",
       " (1866, 6),\n",
       " (1869, 6),\n",
       " (1870, 6),\n",
       " (99915105, 6),\n",
       " (1872, 6),\n",
       " (128, 6),\n",
       " (4105, 6),\n",
       " (99915211, 6),\n",
       " (4101, 6),\n",
       " (594, 6),\n",
       " (580, 6),\n",
       " (238, 6),\n",
       " (590, 6),\n",
       " (1901, 6),\n",
       " (1905, 6),\n",
       " (9993022, 6),\n",
       " (1910, 6),\n",
       " (1916, 6),\n",
       " (1918, 6),\n",
       " (1919, 6),\n",
       " (154, 6),\n",
       " (99915960, 6),\n",
       " (647, 6),\n",
       " (635, 6),\n",
       " (112, 6),\n",
       " (644, 6),\n",
       " (110, 6),\n",
       " (99916295, 6),\n",
       " (646, 6),\n",
       " (636, 6),\n",
       " (117, 6),\n",
       " (652, 6),\n",
       " (96, 6),\n",
       " (113, 6),\n",
       " (1926, 6),\n",
       " (1931, 6),\n",
       " (1933, 6),\n",
       " (147, 6),\n",
       " (1938, 6),\n",
       " (99918591, 6),\n",
       " (135, 6),\n",
       " (1953, 6),\n",
       " ...]"
      ]
     },
     "execution_count": 17,
     "metadata": {},
     "output_type": "execute_result"
    }
   ],
   "source": [
    "sorted(bipartite_mjf_net.degree, key=lambda x: x[1], reverse=True)"
   ]
  },
  {
   "cell_type": "markdown",
   "metadata": {},
   "source": [
    "### Bipartite degree centrality after year 2000"
   ]
  },
  {
   "cell_type": "code",
   "execution_count": 20,
   "metadata": {},
   "outputs": [
    {
     "name": "stdout",
     "output_type": "stream",
     "text": [
      "1 - claude nobs - Counter({'harmonica': 63, 'none': 9, 'harp': 1, 'vocals': 1, 'percussions': 1})\n",
      "2 - herbie hancock - Counter({'piano': 35, 'keyboards': 14, 'none': 1})\n",
      "3 - angélique kidjo - Counter({'vocals': 17, 'none': 2})\n",
      "4 - carlos santana - Counter({'guitar': 18, 'none': 4, 'vocals': 4, 'percussions': 1})\n",
      "5 - george duke - Counter({'keyboards': 33, 'piano': 30, 'vocals': 4, 'none': 2, 'synthesizer': 1})\n",
      "6 - joe sample - Counter({'piano': 19, 'keyboards': 9, 'none': 1})\n",
      "7 - chick corea - Counter({'piano': 21, 'keyboards': 5, 'organ': 1})\n",
      "8 - george benson - Counter({'guitar': 23, 'vocals': 22, 'none': 3})\n",
      "9 - marcus miller - Counter({'recorder': 19, 'clarinet': 6, 'saxophone': 4, 'vocals': 2, 'none': 2, 'turntables': 1, 'double bass': 1, 'keyboards': 1, 'gumbri': 1})\n",
      "10 - quincy jones - Counter({'none': 19, 'vocals': 4})\n",
      "11 - john mclaughlin - Counter({'guitar': 25, 'vocals': 1})\n",
      "12 - lee ritenour - Counter({'guitar': 17})\n",
      "13 - david sanborn - Counter({'saxophone': 32})\n",
      "14 - chester thompson - Counter({'keyboards': 11, 'drums': 5, 'vocals': 2})\n",
      "15 - andy vargas - Counter({'vocals': 11})\n",
      "16 - benny rietveld - Counter({'recorder': 14})\n",
      "17 - dennis chambers - Counter({'drums': 15})\n",
      "18 - monty alexander - Counter({'piano': 21, 'keyboards': 3, 'none': 1})\n",
      "19 - al jarreau - Counter({'vocals': 22, 'none': 2, 'vocal': 1, 'marimba': 1, 'drums': 1})\n",
      "20 - michael o'neill - Counter({'guitar': 12, 'vocals': 9})\n"
     ]
    }
   ],
   "source": [
    "bd_centralities = net.get_bipartite_degree_centrality(bipartite_mjf_net)[0]\n",
    "get_details_by_centrality(bd_centralities[:20])"
   ]
  },
  {
   "cell_type": "code",
   "execution_count": 21,
   "metadata": {},
   "outputs": [
    {
     "name": "stdout",
     "output_type": "stream",
     "text": [
      "male      88\n",
      "female    11\n",
      "dtype: int64\n"
     ]
    }
   ],
   "source": [
    "gender_dist_top100(bd_centralities[:100],df)"
   ]
  },
  {
   "cell_type": "code",
   "execution_count": 22,
   "metadata": {},
   "outputs": [
    {
     "data": {
      "text/plain": [
       "[999845,\n",
       " 999628,\n",
       " 999949,\n",
       " 9991371,\n",
       " 999133,\n",
       " 9991610,\n",
       " 9991454,\n",
       " 9991107,\n",
       " 999120,\n",
       " 9991477]"
      ]
     },
     "execution_count": 22,
     "metadata": {},
     "output_type": "execute_result"
    }
   ],
   "source": [
    "bd_centralities[:10]"
   ]
  },
  {
   "cell_type": "code",
   "execution_count": 23,
   "metadata": {},
   "outputs": [
    {
     "data": {
      "text/plain": [
       "[(3148, 83),\n",
       " (5590, 77),\n",
       " (5267, 67),\n",
       " (3394, 57),\n",
       " (3392, 51),\n",
       " (4313, 48),\n",
       " (5383, 48),\n",
       " (4375, 45),\n",
       " (3257, 41),\n",
       " (3961, 41),\n",
       " (3301, 35),\n",
       " (5254, 35),\n",
       " (3836, 30),\n",
       " (4543, 28),\n",
       " (4682, 28),\n",
       " (3566, 27),\n",
       " (3777, 26),\n",
       " (4369, 26),\n",
       " (5499, 25),\n",
       " (1075, 24),\n",
       " (999845, 24),\n",
       " (3206, 24),\n",
       " (3254, 24),\n",
       " (5013, 24),\n",
       " (5353, 24),\n",
       " (3570, 23),\n",
       " (5465, 23),\n",
       " (999628, 22),\n",
       " (3808, 22),\n",
       " (3807, 22),\n",
       " (3393, 21),\n",
       " (3246, 21),\n",
       " (4367, 21),\n",
       " (4368, 21),\n",
       " (1444, 20),\n",
       " (3732, 20),\n",
       " (3571, 20),\n",
       " (3329, 20),\n",
       " (3144, 20),\n",
       " (3346, 19),\n",
       " (3263, 19),\n",
       " (5432, 19),\n",
       " (1550, 18),\n",
       " (1578, 18),\n",
       " (3292, 18),\n",
       " (3199, 18),\n",
       " (6588, 18),\n",
       " (685, 17),\n",
       " (3793, 17),\n",
       " (3509, 17),\n",
       " (3578, 17),\n",
       " (3414, 17),\n",
       " (3463, 17),\n",
       " (3159, 17),\n",
       " (3171, 17),\n",
       " (3291, 17),\n",
       " (3211, 17),\n",
       " (3222, 17),\n",
       " (5365, 17),\n",
       " (5387, 17),\n",
       " (1101, 16),\n",
       " (1533, 16),\n",
       " (999949, 16),\n",
       " (1685, 16),\n",
       " (9991371, 16),\n",
       " (3711, 16),\n",
       " (3561, 16),\n",
       " (3465, 16),\n",
       " (3163, 16),\n",
       " (3174, 16),\n",
       " (3178, 16),\n",
       " (3219, 16),\n",
       " (3920, 16),\n",
       " (5259, 16),\n",
       " (5565, 16),\n",
       " (6569, 16),\n",
       " (6538, 16),\n",
       " (4249, 15),\n",
       " (1043, 15),\n",
       " (999133, 15),\n",
       " (1442, 15),\n",
       " (5149, 15),\n",
       " (1547, 15),\n",
       " (1618, 15),\n",
       " (3794, 15),\n",
       " (3797, 15),\n",
       " (3708, 15),\n",
       " (3712, 15),\n",
       " (3723, 15),\n",
       " (3480, 15),\n",
       " (4657, 15),\n",
       " (3274, 15),\n",
       " (3240, 15),\n",
       " (5430, 15),\n",
       " (5506, 15),\n",
       " (6475, 15),\n",
       " (6526, 15),\n",
       " (6534, 15),\n",
       " (1063, 14),\n",
       " (1093, 14),\n",
       " (9991610, 14),\n",
       " (9991454, 14),\n",
       " (1681, 14),\n",
       " (3710, 14),\n",
       " (3546, 14),\n",
       " (3569, 14),\n",
       " (3581, 14),\n",
       " (3361, 14),\n",
       " (3142, 14),\n",
       " (3165, 14),\n",
       " (3300, 14),\n",
       " (3251, 14),\n",
       " (3259, 14),\n",
       " (3193, 14),\n",
       " (3210, 14),\n",
       " (4356, 14),\n",
       " (4685, 14),\n",
       " (5210, 14),\n",
       " (5343, 14),\n",
       " (5386, 14),\n",
       " (5417, 14),\n",
       " (5592, 14),\n",
       " (6485, 14),\n",
       " (1438, 13),\n",
       " (1440, 13),\n",
       " (9991107, 13),\n",
       " (1455, 13),\n",
       " (1334, 13),\n",
       " (1531, 13),\n",
       " (999120, 13),\n",
       " (1584, 13),\n",
       " (1591, 13),\n",
       " (1599, 13),\n",
       " (1603, 13),\n",
       " (1706, 13),\n",
       " (1728, 13),\n",
       " (3698, 13),\n",
       " (3490, 13),\n",
       " (3495, 13),\n",
       " (3560, 13),\n",
       " (3473, 13),\n",
       " (9991477, 13),\n",
       " (3108, 13),\n",
       " (3145, 13),\n",
       " (3181, 13),\n",
       " (3321, 13),\n",
       " (3220, 13),\n",
       " (3858, 13),\n",
       " (3859, 13),\n",
       " (4669, 13),\n",
       " (4687, 13),\n",
       " (5402, 13),\n",
       " (5414, 13),\n",
       " (6530, 13),\n",
       " (1449, 12),\n",
       " (999185, 12),\n",
       " (1545, 12),\n",
       " (1611, 12),\n",
       " (1631, 12),\n",
       " (1663, 12),\n",
       " (3740, 12),\n",
       " (3773, 12),\n",
       " (3811, 12),\n",
       " (3809, 12),\n",
       " (9991108, 12),\n",
       " (3665, 12),\n",
       " (3725, 12),\n",
       " (3584, 12),\n",
       " (3526, 12),\n",
       " (5972, 12),\n",
       " (3412, 12),\n",
       " (3348, 12),\n",
       " (3385, 12),\n",
       " (3391, 12),\n",
       " (3296, 12),\n",
       " (3261, 12),\n",
       " (3288, 12),\n",
       " (3195, 12),\n",
       " (3189, 12),\n",
       " (3869, 12),\n",
       " (3884, 12),\n",
       " (3887, 12),\n",
       " (4729, 12),\n",
       " (4679, 12),\n",
       " (4681, 12),\n",
       " (5006, 12),\n",
       " (5260, 12),\n",
       " (5367, 12),\n",
       " (5373, 12),\n",
       " (5399, 12),\n",
       " (5406, 12),\n",
       " (5655, 12),\n",
       " (6448, 12),\n",
       " (1044, 11),\n",
       " (1061, 11),\n",
       " (1088, 11),\n",
       " (999864, 11),\n",
       " (1445, 11),\n",
       " (1508, 11),\n",
       " (1532, 11),\n",
       " (9992432, 11),\n",
       " (1310, 11),\n",
       " (1312, 11),\n",
       " (1607, 11),\n",
       " (1612, 11),\n",
       " (1629, 11),\n",
       " (1638, 11),\n",
       " (1692, 11),\n",
       " (9991377, 11),\n",
       " (9996212, 11),\n",
       " (9991373, 11),\n",
       " (3799, 11),\n",
       " (4661, 11),\n",
       " (3675, 11),\n",
       " (3565, 11),\n",
       " (3551, 11),\n",
       " (3462, 11),\n",
       " (3464, 11),\n",
       " (3477, 11),\n",
       " (3366, 11),\n",
       " (999350, 11),\n",
       " (3400, 11),\n",
       " (3153, 11),\n",
       " (3298, 11),\n",
       " (3190, 11),\n",
       " (3237, 11),\n",
       " (3256, 11),\n",
       " (3192, 11),\n",
       " (4358, 11),\n",
       " (4666, 11),\n",
       " (4680, 11),\n",
       " (4964, 11),\n",
       " (4994, 11),\n",
       " (5004, 11),\n",
       " (5015, 11),\n",
       " (5204, 11),\n",
       " (5388, 11),\n",
       " (5507, 11),\n",
       " (5513, 11),\n",
       " (5589, 11),\n",
       " (9991529, 10),\n",
       " (1102, 10),\n",
       " (1437, 10),\n",
       " (9991135, 10),\n",
       " (9991137, 10),\n",
       " (9991138, 10),\n",
       " (1451, 10),\n",
       " (1477, 10),\n",
       " (1481, 10),\n",
       " (9991372, 10),\n",
       " (1522, 10),\n",
       " (1525, 10),\n",
       " (9992484, 10),\n",
       " (1530, 10),\n",
       " (1536, 10),\n",
       " (1231, 10),\n",
       " (3854, 10),\n",
       " (1556, 10),\n",
       " (1600, 10),\n",
       " (1041, 10),\n",
       " (1609, 10),\n",
       " (1627, 10),\n",
       " (9994259, 10),\n",
       " (1653, 10),\n",
       " (1683, 10),\n",
       " (1699, 10),\n",
       " (1702, 10),\n",
       " (1731, 10),\n",
       " (3742, 10),\n",
       " (3748, 10),\n",
       " (3776, 10),\n",
       " (9991469, 10),\n",
       " (3783, 10),\n",
       " (3792, 10),\n",
       " (3798, 10),\n",
       " (3817, 10),\n",
       " (3655, 10),\n",
       " (3628, 10),\n",
       " (3637, 10),\n",
       " (3693, 10),\n",
       " (3706, 10),\n",
       " (3707, 10),\n",
       " (3713, 10),\n",
       " (3538, 10),\n",
       " (3487, 10),\n",
       " (3508, 10),\n",
       " (9991716, 10),\n",
       " (3525, 10),\n",
       " (3530, 10),\n",
       " (3544, 10),\n",
       " (3577, 10),\n",
       " (3582, 10),\n",
       " (5971, 10),\n",
       " (3409, 10),\n",
       " (3417, 10),\n",
       " (3421, 10),\n",
       " (3434, 10),\n",
       " (3483, 10),\n",
       " (3338, 10),\n",
       " (3378, 10),\n",
       " (3386, 10),\n",
       " (3388, 10),\n",
       " (3389, 10),\n",
       " (3395, 10),\n",
       " (3397, 10),\n",
       " (3399, 10),\n",
       " (3127, 10),\n",
       " (3173, 10),\n",
       " (3180, 10),\n",
       " (3295, 10),\n",
       " (3319, 10),\n",
       " (9991925, 10),\n",
       " (3191, 10),\n",
       " (3876, 10),\n",
       " (4354, 10),\n",
       " (4355, 10),\n",
       " (4366, 10),\n",
       " (4959, 10),\n",
       " (4996, 10),\n",
       " (4999, 10),\n",
       " (5250, 10),\n",
       " (5369, 10),\n",
       " (5371, 10),\n",
       " (5372, 10),\n",
       " (5605, 10),\n",
       " (5583, 10),\n",
       " (5585, 10),\n",
       " (5587, 10),\n",
       " (6445, 10),\n",
       " (1553, 9),\n",
       " (1066, 9),\n",
       " (1089, 9),\n",
       " (1092, 9),\n",
       " (9991760, 9),\n",
       " (1096, 9),\n",
       " (1100, 9),\n",
       " (9991093, 9),\n",
       " (9991100, 9),\n",
       " (9991101, 9),\n",
       " (9991102, 9),\n",
       " (9991103, 9),\n",
       " (1456, 9),\n",
       " (1457, 9),\n",
       " (1458, 9),\n",
       " (5142, 9),\n",
       " (1471, 9),\n",
       " (1512, 9),\n",
       " (1516, 9),\n",
       " (1526, 9),\n",
       " (9993983, 9),\n",
       " (9991611, 9),\n",
       " (1546, 9),\n",
       " (1566, 9),\n",
       " (1579, 9),\n",
       " (9993012, 9),\n",
       " (9993018, 9),\n",
       " (1605, 9),\n",
       " (1616, 9),\n",
       " (1625, 9),\n",
       " (1628, 9),\n",
       " (1651, 9),\n",
       " (1668, 9),\n",
       " (1679, 9),\n",
       " (1688, 9),\n",
       " (1690, 9),\n",
       " (1693, 9),\n",
       " (9993063, 9),\n",
       " (9992134, 9),\n",
       " (1732, 9),\n",
       " (3760, 9),\n",
       " (3762, 9),\n",
       " (9991471, 9),\n",
       " (9991470, 9),\n",
       " (3801, 9),\n",
       " (3804, 9),\n",
       " (3631, 9),\n",
       " (3699, 9),\n",
       " (3535, 9),\n",
       " (3540, 9),\n",
       " (3458, 9),\n",
       " (3469, 9),\n",
       " (3474, 9),\n",
       " (3367, 9),\n",
       " (3370, 9),\n",
       " (3380, 9),\n",
       " (3387, 9),\n",
       " (3122, 9),\n",
       " (3123, 9),\n",
       " (3130, 9),\n",
       " (3157, 9),\n",
       " (999891, 9),\n",
       " (3162, 9),\n",
       " (3166, 9),\n",
       " (3286, 9),\n",
       " (3294, 9),\n",
       " (3236, 9),\n",
       " (3252, 9),\n",
       " (3201, 9),\n",
       " (3241, 9),\n",
       " (3242, 9),\n",
       " (3250, 9),\n",
       " (3888, 9),\n",
       " (3933, 9),\n",
       " (3915, 9),\n",
       " (3914, 9),\n",
       " (3871, 9),\n",
       " (4332, 9),\n",
       " (4345, 9),\n",
       " (4749, 9),\n",
       " (4675, 9),\n",
       " (4683, 9),\n",
       " (4986, 9),\n",
       " (4992, 9),\n",
       " (5047, 9),\n",
       " (4958, 9),\n",
       " (5002, 9),\n",
       " (5233, 9),\n",
       " (5266, 9),\n",
       " (5298, 9),\n",
       " (5366, 9),\n",
       " (5377, 9),\n",
       " (5380, 9),\n",
       " (5482, 9),\n",
       " (5606, 9),\n",
       " (5614, 9),\n",
       " (5632, 9),\n",
       " (6329, 9),\n",
       " (6330, 9),\n",
       " (6331, 9),\n",
       " (6484, 9),\n",
       " (6480, 9),\n",
       " (6504, 9),\n",
       " (6583, 9),\n",
       " (6545, 9),\n",
       " (6546, 9),\n",
       " (1047, 8),\n",
       " (1054, 8),\n",
       " (1056, 8),\n",
       " (1060, 8),\n",
       " (9992496, 8),\n",
       " (99932000, 8),\n",
       " (1085, 8),\n",
       " (1086, 8),\n",
       " (1439, 8),\n",
       " (1441, 8),\n",
       " (9992319, 8),\n",
       " (9992323, 8),\n",
       " (9992337, 8),\n",
       " (9992338, 8),\n",
       " (5144, 8),\n",
       " (1474, 8),\n",
       " (1485, 8),\n",
       " (1490, 8),\n",
       " (1514, 8),\n",
       " (1527, 8),\n",
       " (1529, 8),\n",
       " (4258, 8),\n",
       " (1534, 8),\n",
       " (1535, 8),\n",
       " (1555, 8),\n",
       " (1585, 8),\n",
       " (1608, 8),\n",
       " (999379, 8),\n",
       " (1626, 8),\n",
       " (1630, 8),\n",
       " (1633, 8),\n",
       " (3829, 8),\n",
       " (1636, 8),\n",
       " (1694, 8),\n",
       " (1700, 8),\n",
       " (9991619, 8),\n",
       " (3739, 8),\n",
       " (3745, 8),\n",
       " (3747, 8),\n",
       " (3750, 8),\n",
       " (3755, 8),\n",
       " (3772, 8),\n",
       " (3771, 8),\n",
       " (3781, 8),\n",
       " (3795, 8),\n",
       " (3796, 8),\n",
       " (9991230, 8),\n",
       " (3617, 8),\n",
       " (3648, 8),\n",
       " (3701, 8),\n",
       " (3702, 8),\n",
       " (3709, 8),\n",
       " (3715, 8),\n",
       " (3722, 8),\n",
       " (3724, 8),\n",
       " (3528, 8),\n",
       " (3531, 8),\n",
       " (3592, 8),\n",
       " (3500, 8),\n",
       " (3516, 8),\n",
       " (3529, 8),\n",
       " (3562, 8),\n",
       " (3407, 8),\n",
       " (3410, 8),\n",
       " (3411, 8),\n",
       " (3419, 8),\n",
       " (3423, 8),\n",
       " (3427, 8),\n",
       " (3433, 8),\n",
       " (3435, 8),\n",
       " (3441, 8),\n",
       " (3451, 8),\n",
       " (3453, 8),\n",
       " (3460, 8),\n",
       " (3476, 8),\n",
       " (3481, 8),\n",
       " (3333, 8),\n",
       " (3356, 8),\n",
       " (3374, 8),\n",
       " (3398, 8),\n",
       " (3097, 8),\n",
       " (3124, 8),\n",
       " (3150, 8),\n",
       " (3161, 8),\n",
       " (3186, 8),\n",
       " (3309, 8),\n",
       " (3313, 8),\n",
       " (3317, 8),\n",
       " (3253, 8),\n",
       " (3216, 8),\n",
       " (3217, 8),\n",
       " (3221, 8),\n",
       " (3234, 8),\n",
       " (3902, 8),\n",
       " (3934, 8),\n",
       " (3904, 8),\n",
       " (99911342, 8),\n",
       " (3907, 8),\n",
       " (3909, 8),\n",
       " (3872, 8),\n",
       " (3873, 8),\n",
       " (4386, 8),\n",
       " (4404, 8),\n",
       " (4435, 8),\n",
       " (4416, 8),\n",
       " (4351, 8),\n",
       " (4703, 8),\n",
       " (4712, 8),\n",
       " (4667, 8),\n",
       " (4678, 8),\n",
       " (5048, 8),\n",
       " (4993, 8),\n",
       " (4995, 8),\n",
       " (5011, 8),\n",
       " (5274, 8),\n",
       " (5315, 8),\n",
       " (5321, 8),\n",
       " (5345, 8),\n",
       " (5352, 8),\n",
       " (5378, 8),\n",
       " (5502, 8),\n",
       " (5460, 8),\n",
       " (5479, 8),\n",
       " (5415, 8),\n",
       " (5601, 8),\n",
       " (5631, 8),\n",
       " (5566, 8),\n",
       " (5575, 8),\n",
       " (5577, 8),\n",
       " (6341, 8),\n",
       " (6439, 8),\n",
       " (6513, 8),\n",
       " (6503, 8),\n",
       " (6511, 8),\n",
       " (6562, 8),\n",
       " (6580, 8),\n",
       " (6519, 8),\n",
       " (6528, 8),\n",
       " (9992710, 7),\n",
       " (1053, 7),\n",
       " (1057, 7),\n",
       " (1079, 7),\n",
       " (1097, 7),\n",
       " (1443, 7),\n",
       " (1448, 7),\n",
       " (1450, 7),\n",
       " (9991840, 7),\n",
       " (9992645, 7),\n",
       " (5140, 7),\n",
       " (1470, 7),\n",
       " (1476, 7),\n",
       " (1486, 7),\n",
       " (1488, 7),\n",
       " (1506, 7),\n",
       " (1521, 7),\n",
       " (1539, 7),\n",
       " (1543, 7),\n",
       " (1552, 7),\n",
       " (1558, 7),\n",
       " (1561, 7),\n",
       " (1572, 7),\n",
       " (1574, 7),\n",
       " (1575, 7),\n",
       " (1586, 7),\n",
       " (1587, 7),\n",
       " (9991104, 7),\n",
       " (1601, 7),\n",
       " (1610, 7),\n",
       " (9993530, 7),\n",
       " (1614, 7),\n",
       " (1615, 7),\n",
       " (1622, 7),\n",
       " (9996544, 7),\n",
       " (1632, 7),\n",
       " (3832, 7),\n",
       " (1637, 7),\n",
       " (1649, 7),\n",
       " (1652, 7),\n",
       " (1657, 7),\n",
       " (1672, 7),\n",
       " (1701, 7),\n",
       " (1711, 7),\n",
       " (1712, 7),\n",
       " (1716, 7),\n",
       " (999163, 7),\n",
       " (999908, 7),\n",
       " (3758, 7),\n",
       " (3757, 7),\n",
       " (3763, 7),\n",
       " (3767, 7),\n",
       " (3766, 7),\n",
       " (9992339, 7),\n",
       " (9998877, 7),\n",
       " (3802, 7),\n",
       " (3805, 7),\n",
       " (3813, 7),\n",
       " (9993020, 7),\n",
       " (3812, 7),\n",
       " (3815, 7),\n",
       " (999119, 7),\n",
       " (3599, 7),\n",
       " (3625, 7),\n",
       " (3644, 7),\n",
       " (3690, 7),\n",
       " (3714, 7),\n",
       " (3720, 7),\n",
       " (3721, 7),\n",
       " (9995542, 7),\n",
       " (9993127, 7),\n",
       " (3484, 7),\n",
       " (3502, 7),\n",
       " (3517, 7),\n",
       " (999139, 7),\n",
       " (3539, 7),\n",
       " (3543, 7),\n",
       " (3554, 7),\n",
       " (3563, 7),\n",
       " (3406, 7),\n",
       " (9992965, 7),\n",
       " (9992034, 7),\n",
       " (3426, 7),\n",
       " (3432, 7),\n",
       " (3452, 7),\n",
       " (3457, 7),\n",
       " (9991350, 7),\n",
       " (3475, 7),\n",
       " (3328, 7),\n",
       " (3362, 7),\n",
       " (3381, 7),\n",
       " (3390, 7),\n",
       " (9992964, 7),\n",
       " (3396, 7),\n",
       " (3114, 7),\n",
       " (3115, 7),\n",
       " (3125, 7),\n",
       " (3135, 7),\n",
       " (3136, 7),\n",
       " (3146, 7),\n",
       " (999878, 7),\n",
       " (3158, 7),\n",
       " (3167, 7),\n",
       " (3176, 7),\n",
       " (3276, 7),\n",
       " (3306, 7),\n",
       " (3310, 7),\n",
       " (3197, 7),\n",
       " (3214, 7),\n",
       " (3243, 7),\n",
       " (3900, 7),\n",
       " (3905, 7),\n",
       " (3906, 7),\n",
       " (3925, 7),\n",
       " (3929, 7),\n",
       " (3912, 7),\n",
       " (3931, 7),\n",
       " (3928, 7),\n",
       " (3921, 7),\n",
       " (3857, 7),\n",
       " (3879, 7),\n",
       " (3880, 7),\n",
       " (3881, 7),\n",
       " (4395, 7),\n",
       " (4396, 7),\n",
       " (4403, 7),\n",
       " (4411, 7),\n",
       " (4436, 7),\n",
       " (4346, 7),\n",
       " (4363, 7),\n",
       " (4370, 7),\n",
       " (4371, 7),\n",
       " (4871, 7),\n",
       " (4711, 7),\n",
       " (4738, 7),\n",
       " (4671, 7),\n",
       " (4672, 7),\n",
       " (4673, 7),\n",
       " (4684, 7),\n",
       " (4971, 7),\n",
       " (4973, 7),\n",
       " (5024, 7),\n",
       " (5025, 7),\n",
       " (5049, 7),\n",
       " (5053, 7),\n",
       " (5054, 7),\n",
       " (5064, 7),\n",
       " (4961, 7),\n",
       " (4998, 7),\n",
       " (99957674, 7),\n",
       " (5014, 7),\n",
       " (5016, 7),\n",
       " (5160, 7),\n",
       " (5226, 7),\n",
       " (5229, 7),\n",
       " (5205, 7),\n",
       " (5253, 7),\n",
       " (5255, 7),\n",
       " (5264, 7),\n",
       " (5268, 7),\n",
       " (5278, 7),\n",
       " (5284, 7),\n",
       " (5301, 7),\n",
       " (5312, 7),\n",
       " (5335, 7),\n",
       " (5355, 7),\n",
       " (5370, 7),\n",
       " (5375, 7),\n",
       " (5382, 7),\n",
       " (5435, 7),\n",
       " (5503, 7),\n",
       " (5471, 7),\n",
       " (5401, 7),\n",
       " (5412, 7),\n",
       " (5511, 7),\n",
       " (5425, 7),\n",
       " (5426, 7),\n",
       " (5428, 7),\n",
       " (5598, 7),\n",
       " (5610, 7),\n",
       " (5612, 7),\n",
       " (5640, 7),\n",
       " (5652, 7),\n",
       " (6438, 7),\n",
       " (6468, 7),\n",
       " (6469, 7),\n",
       " (6500, 7),\n",
       " (6450, 7),\n",
       " (6455, 7),\n",
       " (6493, 7),\n",
       " (6574, 7),\n",
       " (6537, 7),\n",
       " (6540, 7),\n",
       " (6544, 7),\n",
       " (1045, 6),\n",
       " (1051, 6),\n",
       " (1052, 6),\n",
       " (9998437, 6),\n",
       " (1065, 6),\n",
       " (1076, 6),\n",
       " (9992130, 6),\n",
       " (1099, 6),\n",
       " (9991515, 6),\n",
       " (9992874, 6),\n",
       " (1460, 6),\n",
       " (1479, 6),\n",
       " (1483, 6),\n",
       " (1484, 6),\n",
       " (1495, 6),\n",
       " (1502, 6),\n",
       " (9998597, 6),\n",
       " (1524, 6),\n",
       " (1528, 6),\n",
       " (99960218, 6),\n",
       " (1538, 6),\n",
       " (9997726, 6),\n",
       " (9992112, 6),\n",
       " (3853, 6),\n",
       " (1039, 6),\n",
       " (9992887, 6),\n",
       " (1557, 6),\n",
       " (1559, 6),\n",
       " (1573, 6),\n",
       " (1577, 6),\n",
       " (1581, 6),\n",
       " (3848, 6),\n",
       " (1596, 6),\n",
       " (1597, 6),\n",
       " (1598, 6),\n",
       " (9991603, 6),\n",
       " (9996265, 6),\n",
       " (5526, 6),\n",
       " (5532, 6),\n",
       " (1655, 6),\n",
       " (1660, 6),\n",
       " (1662, 6),\n",
       " (1664, 6),\n",
       " (1678, 6),\n",
       " (1687, 6),\n",
       " (9993079, 6),\n",
       " (3839, 6),\n",
       " (1715, 6),\n",
       " (1725, 6),\n",
       " (1727, 6),\n",
       " (5537, 6),\n",
       " (5550, 6),\n",
       " (3749, 6),\n",
       " (3761, 6),\n",
       " (3770, 6),\n",
       " (3775, 6),\n",
       " (3729, 6),\n",
       " (3730, 6),\n",
       " (9995694, 6),\n",
       " (3787, 6),\n",
       " (3814, 6),\n",
       " (9993019, 6),\n",
       " (9993021, 6),\n",
       " (3806, 6),\n",
       " (3816, 6),\n",
       " (9995690, 6),\n",
       " (9995697, 6),\n",
       " (3604, 6),\n",
       " (3624, 6),\n",
       " (3646, 6),\n",
       " (3651, 6),\n",
       " (3670, 6),\n",
       " (999568, 6),\n",
       " (3597, 6),\n",
       " (3614, 6),\n",
       " (3626, 6),\n",
       " (3633, 6),\n",
       " (3641, 6),\n",
       " (3643, 6),\n",
       " (3662, 6),\n",
       " (3717, 6),\n",
       " (3541, 6),\n",
       " (3547, 6),\n",
       " (3580, 6),\n",
       " (3588, 6),\n",
       " (3485, 6),\n",
       " (3492, 6),\n",
       " (9992029, 6),\n",
       " (3503, 6),\n",
       " (3511, 6),\n",
       " (3518, 6),\n",
       " (3515, 6),\n",
       " (4935, 6),\n",
       " (3555, 6),\n",
       " (3585, 6),\n",
       " (3589, 6),\n",
       " (3416, 6),\n",
       " (3418, 6),\n",
       " (3422, 6),\n",
       " (3438, 6),\n",
       " (3439, 6),\n",
       " (3450, 6),\n",
       " (3454, 6),\n",
       " (999523, 6),\n",
       " (9995149, 6),\n",
       " (3479, 6),\n",
       " (3482, 6),\n",
       " (3327, 6),\n",
       " (3330, 6),\n",
       " (3331, 6),\n",
       " (9993093, 6),\n",
       " (3341, 6),\n",
       " (3349, 6),\n",
       " (3359, 6),\n",
       " (9991306, 6),\n",
       " (3377, 6),\n",
       " (3384, 6),\n",
       " (999202, 6),\n",
       " (3116, 6),\n",
       " (3120, 6),\n",
       " (3121, 6),\n",
       " (3138, 6),\n",
       " (3155, 6),\n",
       " (3160, 6),\n",
       " (3164, 6),\n",
       " (3168, 6),\n",
       " (3169, 6),\n",
       " (3170, 6),\n",
       " (3172, 6),\n",
       " (3179, 6),\n",
       " (3183, 6),\n",
       " (3184, 6),\n",
       " (3270, 6),\n",
       " (3278, 6),\n",
       " (3279, 6),\n",
       " (3308, 6),\n",
       " (3312, 6),\n",
       " (3316, 6),\n",
       " (2854, 6),\n",
       " (3266, 6),\n",
       " (3272, 6),\n",
       " (3273, 6),\n",
       " (3280, 6),\n",
       " (3318, 6),\n",
       " (3194, 6),\n",
       " (3196, 6),\n",
       " (3198, 6),\n",
       " (3209, 6),\n",
       " (3213, 6),\n",
       " (9991624, 6),\n",
       " (3232, 6),\n",
       " (3239, 6),\n",
       " (3258, 6),\n",
       " (9991518, 6),\n",
       " (3227, 6),\n",
       " (3233, 6),\n",
       " (3238, 6),\n",
       " (99911346, 6),\n",
       " (3913, 6),\n",
       " (3916, 6),\n",
       " (3919, 6),\n",
       " (3923, 6),\n",
       " (3856, 6),\n",
       " (3861, 6),\n",
       " (3860, 6),\n",
       " (3863, 6),\n",
       " (3864, 6),\n",
       " (3867, 6),\n",
       " (3875, 6),\n",
       " (3877, 6),\n",
       " (4331, 6),\n",
       " (4391, 6),\n",
       " (4333, 6),\n",
       " (4335, 6),\n",
       " (4336, 6),\n",
       " (4337, 6),\n",
       " (4399, 6),\n",
       " (4414, 6),\n",
       " (4340, 6),\n",
       " (4433, 6),\n",
       " (4357, 6),\n",
       " (4343, 6),\n",
       " (4344, 6),\n",
       " (4374, 6),\n",
       " (4713, 6),\n",
       " (4726, 6),\n",
       " (4733, 6),\n",
       " (4735, 6),\n",
       " (4739, 6),\n",
       " (4751, 6),\n",
       " (4753, 6),\n",
       " (4756, 6),\n",
       " (4759, 6),\n",
       " (4664, 6),\n",
       " (4676, 6),\n",
       " (4691, 6),\n",
       " (4969, 6),\n",
       " (4970, 6),\n",
       " (5018, 6),\n",
       " (5020, 6),\n",
       " (5034, 6),\n",
       " (4980, 6),\n",
       " (4988, 6),\n",
       " (5050, 6),\n",
       " (5051, 6),\n",
       " (5059, 6),\n",
       " (5061, 6),\n",
       " (4960, 6),\n",
       " (5000, 6),\n",
       " (5001, 6),\n",
       " (5225, 6),\n",
       " (5237, 6),\n",
       " (5242, 6),\n",
       " (5177, 6),\n",
       " (5181, 6),\n",
       " (5182, 6),\n",
       " (5183, 6),\n",
       " (5270, 6),\n",
       " (5203, 6),\n",
       " (5186, 6),\n",
       " (5249, 6),\n",
       " (5262, 6),\n",
       " (5263, 6),\n",
       " (5287, 6),\n",
       " (5295, 6),\n",
       " (5300, 6),\n",
       " (5303, 6),\n",
       " (5304, 6),\n",
       " (5320, 6),\n",
       " (5329, 6),\n",
       " (5336, 6),\n",
       " (99959897, 6),\n",
       " (5339, 6),\n",
       " ...]"
      ]
     },
     "execution_count": 23,
     "metadata": {},
     "output_type": "execute_result"
    }
   ],
   "source": [
    "sorted(bipartite_mjf_net.degree, key=lambda x: x[1], reverse=True)"
   ]
  },
  {
   "cell_type": "markdown",
   "metadata": {},
   "source": [
    "## Events Network"
   ]
  },
  {
   "cell_type": "code",
   "execution_count": 15,
   "metadata": {},
   "outputs": [
    {
     "name": "stdout",
     "output_type": "stream",
     "text": [
      "nb nodes:  4280\n",
      "nb edges:  22057\n",
      "Min node degree:  0\n",
      "Max node degree:  306\n",
      "Avg node degree:  10.307009345794393\n"
     ]
    }
   ],
   "source": [
    "#mjf_event_net = net.build_album_projection_network(results,'name','musicians','date')\n",
    "albums = [x for x,y in bipartite_mjf_net.nodes(data=True) if y['type']=='Album']\n",
    "mjf_event_net = bipartite.weighted_projected_graph(bipartite_mjf_net, albums)\n",
    "net.get_network_info(mjf_event_net)"
   ]
  },
  {
   "cell_type": "code",
   "execution_count": 16,
   "metadata": {},
   "outputs": [],
   "source": [
    "net.save_graph(mjf_event_net,\"../networks/gephi/mjf/mjf_concerts_network.gexf\")"
   ]
  },
  {
   "cell_type": "code",
   "execution_count": 7,
   "metadata": {},
   "outputs": [
    {
     "name": "stdout",
     "output_type": "stream",
     "text": [
      "nb nodes : 2875\n",
      "percentage of nodes in the giant component:  67.17289719626169 %\n"
     ]
    }
   ],
   "source": [
    "largest_cc = max(nx.connected_components(mjf_event_net), key=len)\n",
    "largest_cc = mjf_event_net.subgraph(largest_cc)\n",
    "print(\"nb nodes :\", len(largest_cc))\n",
    "print(\"percentage of nodes in the giant component: \",(len(largest_cc) *100)/len(mjf_event_net),\"%\")"
   ]
  },
  {
   "cell_type": "code",
   "execution_count": 15,
   "metadata": {},
   "outputs": [
    {
     "name": "stdout",
     "output_type": "stream",
     "text": [
      "Diameter :  17\n",
      "Density :  0.0024087425440042984\n",
      "Nb connected components :  1133\n",
      "Average clustering coefficient :  0.38695234543548535\n"
     ]
    }
   ],
   "source": [
    "largest_cc = max(nx.connected_components(mjf_event_net), key=len)\n",
    "largest_cc = mjf_event_net.subgraph(largest_cc)\n",
    "net.get_diameter(largest_cc)\n",
    "net.get_density(mjf_event_net)\n",
    "net.get_nb_of_connected_comp(mjf_event_net)\n",
    "#net.get_avg_weighted_degree(mjf_event_net)\n",
    "net.get_avg_clustering_coefficent(mjf_event_net)"
   ]
  },
  {
   "cell_type": "code",
   "execution_count": 24,
   "metadata": {},
   "outputs": [],
   "source": []
  },
  {
   "cell_type": "markdown",
   "metadata": {},
   "source": [
    "## Collaboration network "
   ]
  },
  {
   "cell_type": "code",
   "execution_count": 4,
   "metadata": {},
   "outputs": [
    {
     "name": "stdout",
     "output_type": "stream",
     "text": [
      "nb nodes:  17639\n",
      "nb edges:  108230\n",
      "Min node degree:  0\n",
      "Max node degree:  550\n",
      "Avg node degree:  12.271670729633199\n"
     ]
    }
   ],
   "source": [
    "collaborators = [x for x,y in bipartite_mjf_net.nodes(data=True) if y['type']=='Artist']\n",
    "mjf_collaboration_net = bipartite.weighted_projected_graph(bipartite_mjf_net, collaborators)\n",
    "\n",
    "net.get_network_info(mjf_collaboration_net)"
   ]
  },
  {
   "cell_type": "code",
   "execution_count": 13,
   "metadata": {},
   "outputs": [],
   "source": [
    "net.save_graph(mjf_collaboration_net,\"../networks/gephi/mjf_collaboration_network.gexf\")"
   ]
  },
  {
   "cell_type": "markdown",
   "metadata": {},
   "source": [
    "### Clusterirng "
   ]
  },
  {
   "cell_type": "code",
   "execution_count": 18,
   "metadata": {},
   "outputs": [
    {
     "name": "stdout",
     "output_type": "stream",
     "text": [
      "133\n"
     ]
    },
    {
     "data": {
      "image/png": "[encoded data removed]",
      "text/plain": [
       "<Figure size 640x480 with 1 Axes>"
      ]
     },
     "metadata": {},
     "output_type": "display_data"
    }
   ],
   "source": [
    "net.plot_hist_clustering_coeff_by_amount(mjf_collaboration_net)"
   ]
  },
  {
   "cell_type": "code",
   "execution_count": 20,
   "metadata": {},
   "outputs": [
    {
     "data": {
      "image/png": "[encoded data removed]",
      "text/plain": [
       "<Figure size 640x480 with 1 Axes>"
      ]
     },
     "metadata": {},
     "output_type": "display_data"
    }
   ],
   "source": [
    "net.plot_clustering_coeff_by_degree(mjf_collaboration_net)"
   ]
  },
  {
   "cell_type": "code",
   "execution_count": 9,
   "metadata": {},
   "outputs": [
    {
     "name": "stdout",
     "output_type": "stream",
     "text": [
      "nb nodes : 11727\n",
      "percentage of nodes in the giant component:  66.48336073473553 %\n"
     ]
    }
   ],
   "source": [
    "largest_cc = max(nx.connected_components(mjf_collaboration_net), key=len)\n",
    "largest_cc = mjf_collaboration_net.subgraph(largest_cc)\n",
    "print(\"nb nodes :\", len(largest_cc))\n",
    "#percentage of nodes in the giant component :\n",
    "print(\"percentage of nodes in the giant component: \",(len(largest_cc) *100)/len(mjf_collaboration_net),\"%\")"
   ]
  },
  {
   "cell_type": "code",
   "execution_count": 17,
   "metadata": {},
   "outputs": [
    {
     "name": "stdout",
     "output_type": "stream",
     "text": [
      "Diameter :  18\n",
      "Density :  0.000695751827283887\n",
      "Nb connected components :  1133\n",
      "Average clustering coefficient :  0.8844055712809402\n"
     ]
    }
   ],
   "source": [
    "largest_cc = max(nx.connected_components(mjf_collaboration_net), key=len)\n",
    "largest_cc = mjf_collaboration_net.subgraph(largest_cc)\n",
    "net.get_diameter(largest_cc)\n",
    "net.get_density(mjf_collaboration_net)\n",
    "net.get_nb_of_connected_comp(mjf_collaboration_net)\n",
    "#net.get_avg_weighted_degree(mjf_collaboration_net)\n",
    "net.get_avg_clustering_coefficent(mjf_collaboration_net)"
   ]
  },
  {
   "cell_type": "markdown",
   "metadata": {},
   "source": [
    "## Centralities"
   ]
  },
  {
   "cell_type": "code",
   "execution_count": 10,
   "metadata": {},
   "outputs": [],
   "source": [
    "def get_gender_dist_by_genre(ids,df):\n",
    "    gender_dist_by_genre_dict = dict()\n",
    "    for id in ids :\n",
    "        result = get_results(id)\n",
    "        genres_dist = dict(Counter(list(result.values())[0]))\n",
    "        #representative_genre = max(genres_dist,key=genres_dist.get)\n",
    "        for key, value in genres_dist.items():\n",
    "        \n",
    "            if key not in list(gender_dist_by_genre_dict.keys()) :\n",
    "                gender_dist_by_genre_dict[key] = [0,0,0] #male,female,other\n",
    "              \n",
    "            current_gender = df[df[\"id\"] == int(str(id)[3:])][\"gender\"].iloc[0]\n",
    "            if current_gender == \"male\" :\n",
    "                gender_dist_by_genre_dict[key][0]+=value\n",
    "            elif current_gender == \"female\":\n",
    "                gender_dist_by_genre_dict[key][1]+=value\n",
    "            elif  current_gender == \"other\":\n",
    "                gender_dist_by_genre_dict[key][2]+=value\n",
    "    \n",
    "    return gender_dist_by_genre_dict"
   ]
  },
  {
   "cell_type": "code",
   "execution_count": 11,
   "metadata": {},
   "outputs": [],
   "source": [
    "def get_role_dist_by_gender_detailed(ids,df,gender):\n",
    "    role_dist_female_dict = dict()\n",
    "    for id in ids :\n",
    "        result = get_results(id)\n",
    "        genres_dist = dict(Counter(list(result.values())[0]))\n",
    "        #representative_genre = max(genres_dist,key=genres_dist.get)\n",
    "        for key, value in genres_dist.items():\n",
    "       \n",
    "            if key not in list(role_dist_female_dict.keys()):\n",
    "                role_dist_female_dict[key] = 0 #female    \n",
    "                \n",
    "            current_gender = df[df[\"id\"] == int(str(id)[3:])][\"gender\"].iloc[0]\n",
    "         \n",
    "            if current_gender == gender:\n",
    "                role_dist_female_dict[key] += value\n",
    "        \n",
    "    return role_dist_female_dict"
   ]
  },
  {
   "cell_type": "code",
   "execution_count": 12,
   "metadata": {},
   "outputs": [],
   "source": [
    "def get_role_dist_female(ids,df):\n",
    "    role_dist_female_dict = dict()\n",
    "    for id in ids :\n",
    "        result = get_results(id)\n",
    "        genres_dist = dict(Counter(list(result.values())[0]))\n",
    "        #representative_genre = max(genres_dist,key=genres_dist.get)\n",
    "        for key, value in genres_dist.items():\n",
    "            current_role = key\n",
    "            if key == \"vocal\" or key==\"vocals\" :\n",
    "                current_role = \"vocal\"\n",
    "            else :\n",
    "                current_role = \"instrument\"\n",
    "\n",
    "            if current_role not in list(role_dist_female_dict.keys()):\n",
    "                role_dist_female_dict[current_role] = 0 #female    \n",
    "                \n",
    "            current_gender = df[df[\"id\"] == int(str(id)[3:])][\"gender\"].iloc[0]\n",
    "         \n",
    "            if current_gender == \"female\":\n",
    "                role_dist_female_dict[current_role] += value\n",
    "        \n",
    "    return role_dist_female_dict"
   ]
  },
  {
   "cell_type": "code",
   "execution_count": null,
   "metadata": {},
   "outputs": [],
   "source": [
    "net.get_degree_centrality(mjf_collaboration_net)[1]"
   ]
  },
  {
   "cell_type": "code",
   "execution_count": null,
   "metadata": {},
   "outputs": [],
   "source": [
    "sorted(mjf_collaboration_net.degree, key=lambda x: x[1], reverse=True)"
   ]
  },
  {
   "cell_type": "code",
   "execution_count": null,
   "metadata": {},
   "outputs": [],
   "source": [
    "d_centralities = net.get_degree_centrality(mjf_collaboration_net)[0]\n",
    "get_details_by_centrality(d_centralities[:21])"
   ]
  },
  {
   "cell_type": "markdown",
   "metadata": {},
   "source": [
    "### Degree centrality Before 2000"
   ]
  },
  {
   "cell_type": "code",
   "execution_count": 39,
   "metadata": {},
   "outputs": [
    {
     "name": "stdout",
     "output_type": "stream",
     "text": [
      "1 - claude nobs - Counter({'harmonica': 63, 'harp': 1, 'vocals': 1, 'percussions': 1})\n",
      "2 - george duke - Counter({'keyboards': 33, 'piano': 30, 'vocals': 4, 'synthesizer': 1})\n",
      "3 - quincy jones - Counter({'vocals': 4})\n",
      "4 - nathan east - Counter({'recorder': 23, 'vocals': 3})\n",
      "5 - chaka khan - Counter({'vocals': 20})\n",
      "6 - steve ferrone - Counter({'drums': 14, 'percussions': 2})\n",
      "7 - toots thielemans - Counter({'harmonica': 13, 'guitar': 3})\n",
      "8 - greg phillinganes - Counter({'keyboards': 13, 'vocals': 2, 'piano': 2})\n",
      "9 - howard johnson - Counter({'tuba': 8, 'saxophone': 6, 'recorder': 1, 'clarinet': 1})\n",
      "10 - james \"hutch\" hutchinson - Counter({'recorder': 4, 'vocals': 1})\n",
      "11 - david sanborn - Counter({'saxophone': 32})\n",
      "12 - john marshall - Counter({'trumpet': 7, 'drums': 3})\n",
      "13 - keith wilson - Counter({'vocal': 2, 'drums': 1, 'vocals': 1})\n",
      "14 - carmen momon - Counter()\n",
      "15 - linda d. cummings - Counter()\n",
      "16 - penny ray - Counter()\n",
      "17 - ray cooper - Counter({'percussions': 8})\n",
      "18 - rachelle ferrell - Counter({'vocals': 20, 'piano': 4, 'keyboards': 1})\n",
      "19 - paul milton jackson. jr - Counter({'guitar': 8})\n",
      "20 - tom \"bones\" malone - Counter({'trombone': 6, 'tuba': 2, 'synthesizer': 1, 'piccolo': 1})\n",
      "21 - milt jackson - Counter({'vibraphone': 19})\n"
     ]
    }
   ],
   "source": [
    "d_centralities = net.get_degree_centrality(mjf_collaboration_net)[0]\n",
    "get_details_by_centrality(d_centralities[:21])"
   ]
  },
  {
   "cell_type": "markdown",
   "metadata": {},
   "source": [
    "#### Degree centrality After 2000"
   ]
  },
  {
   "cell_type": "code",
   "execution_count": 27,
   "metadata": {},
   "outputs": [
    {
     "name": "stdout",
     "output_type": "stream",
     "text": [
      "1 - claude nobs - Counter({'harmonica': 63, 'harp': 1, 'vocals': 1, 'percussions': 1})\n",
      "2 - herbie hancock - Counter({'piano': 35, 'keyboards': 14})\n",
      "3 - angélique kidjo - Counter({'vocals': 17})\n",
      "4 - pepe lienhard - Counter({'flute': 1, 'saxophone': 1})\n",
      "5 - patti austin - Counter({'vocals': 11})\n",
      "6 - lee ritenour - Counter({'guitar': 17})\n",
      "7 - adrian pflugshaupt - Counter({'saxophone': 6, 'flute': 1})\n",
      "8 - ibrahim maalouf - Counter({'trumpet': 6, 'keyboards': 1})\n",
      "9 - ronan yvin - Counter({'trombone': 2, 'recorder': 1})\n",
      "10 - quincy jones - Counter({'vocals': 4})\n",
      "11 - fanny martin-loren - Counter({'violin': 1})\n",
      "12 - wolf schenk - Counter({'trombone': 3, 'recorder': 1})\n",
      "13 - monty alexander - Counter({'piano': 21, 'keyboards': 3})\n",
      "14 - gilbert tinner - Counter({'trombone': 3})\n",
      "15 - jon batiste - Counter({'piano': 3, 'vocals': 2, 'melodica': 1})\n",
      "16 - paolo nutini - Counter({'vocals': 9, 'guitar': 2, 'vocal': 1})\n",
      "17 - katia trabé - Counter()\n",
      "18 - tamara elias - Counter()\n",
      "19 - lilia leutenegger-chepikova - Counter()\n",
      "20 - yevgeniya suminova - Counter()\n",
      "21 - nadia strijbos - Counter()\n"
     ]
    }
   ],
   "source": [
    "d_centralities = net.get_degree_centrality(mjf_collaboration_net)[0]\n",
    "get_details_by_centrality(d_centralities[:21])"
   ]
  },
  {
   "cell_type": "markdown",
   "metadata": {},
   "source": [
    "### Pie chart "
   ]
  },
  {
   "cell_type": "code",
   "execution_count": 28,
   "metadata": {},
   "outputs": [],
   "source": []
  },
  {
   "cell_type": "code",
   "execution_count": 29,
   "metadata": {},
   "outputs": [],
   "source": [
    "gender_dist_by_genre = get_gender_dist_by_genre(d_centralities[:100],df)"
   ]
  },
  {
   "cell_type": "code",
   "execution_count": 44,
   "metadata": {},
   "outputs": [],
   "source": [
    "female_role_dist = get_role_dist_female(d_centralities,df)"
   ]
  },
  {
   "cell_type": "code",
   "execution_count": 141,
   "metadata": {},
   "outputs": [],
   "source": [
    "female_role_dist_detailed = get_role_dist_by_gender_detailed(d_centralities,df,\"female\")"
   ]
  },
  {
   "cell_type": "code",
   "execution_count": 39,
   "metadata": {},
   "outputs": [],
   "source": [
    "male_role_dist_detailed = get_role_dist_by_gender_detailed(d_centralities,df,\"male\")"
   ]
  },
  {
   "cell_type": "code",
   "execution_count": 16,
   "metadata": {},
   "outputs": [],
   "source": [
    "gender_dist_by_genre\n",
    "gender_dist_by_genre_final = dict(sorted(gender_dist_by_genre.items(), key=lambda item: item[1],reverse=True))"
   ]
  },
  {
   "cell_type": "code",
   "execution_count": 33,
   "metadata": {},
   "outputs": [],
   "source": [
    "gender_dist_by_genre_final = dict(list(gender_dist_by_genre_final.items())[0:10])"
   ]
  },
  {
   "cell_type": "code",
   "execution_count": 45,
   "metadata": {},
   "outputs": [
    {
     "data": {
      "text/plain": [
       "{'instrument': 915, 'vocal': 1044}"
      ]
     },
     "execution_count": 45,
     "metadata": {},
     "output_type": "execute_result"
    }
   ],
   "source": [
    "female_role_dist"
   ]
  },
  {
   "cell_type": "code",
   "execution_count": 40,
   "metadata": {},
   "outputs": [],
   "source": [
    "temp_dict = male_role_dist_detailed"
   ]
  },
  {
   "cell_type": "code",
   "execution_count": 42,
   "metadata": {},
   "outputs": [],
   "source": [
    "del temp_dict['vocals']\n",
    "del temp_dict['vocal']\n",
    "male_role_dist_detailed_srt = dict(sorted(temp_dict.items(), key=lambda item: item[1],reverse=True))\n",
    "male_role_dist_detailed_final = dict(list(male_role_dist_detailed_srt.items())[0:10])"
   ]
  },
  {
   "cell_type": "code",
   "execution_count": 43,
   "metadata": {},
   "outputs": [],
   "source": [
    "dict_other = dict(list(male_role_dist_detailed_srt.items())[11:])\n",
    "sum_other = sum(dict_other.values())\n",
    "male_role_dist_detailed_final[\"other\"] = sum_other"
   ]
  },
  {
   "cell_type": "code",
   "execution_count": 44,
   "metadata": {},
   "outputs": [
    {
     "data": {
      "text/plain": [
       "{'guitar': 3632,\n",
       " 'recorder': 3208,\n",
       " 'drums': 2926,\n",
       " 'keyboards': 2080,\n",
       " 'saxophone': 1557,\n",
       " 'piano': 1303,\n",
       " 'trumpet': 1170,\n",
       " 'percussions': 1087,\n",
       " 'trombone': 613,\n",
       " 'flute': 355,\n",
       " 'other': 2618}"
      ]
     },
     "execution_count": 44,
     "metadata": {},
     "output_type": "execute_result"
    }
   ],
   "source": [
    "male_role_dist_detailed_final"
   ]
  },
  {
   "cell_type": "code",
   "execution_count": 158,
   "metadata": {},
   "outputs": [
    {
     "data": {
      "text/plain": [
       "dict_values([22, 17, 17, 13, 11, 8, 8, 8, 7, 6, 6, 6, 5, 5, 4, 4, 4, 4, 3, 3, 3, 3, 2, 2, 2, 2, 2, 2, 2, 2, 2, 2, 1, 1, 1, 1, 1, 1, 1, 1, 1, 1, 1, 1, 1, 1, 1, 1, 1, 1, 1, 1, 1, 1, 1, 1, 1, 1, 1, 1, 1, 1, 1, 1, 1, 0, 0, 0, 0, 0, 0, 0, 0, 0, 0, 0, 0, 0, 0, 0, 0, 0, 0, 0, 0, 0, 0, 0, 0, 0, 0, 0, 0, 0, 0, 0, 0, 0, 0, 0, 0, 0, 0, 0, 0, 0, 0, 0, 0, 0, 0, 0, 0, 0, 0, 0, 0, 0, 0, 0, 0, 0, 0, 0, 0, 0, 0, 0, 0, 0, 0, 0, 0, 0, 0, 0, 0, 0, 0, 0, 0, 0, 0, 0, 0, 0, 0, 0, 0, 0, 0, 0, 0, 0, 0, 0, 0, 0, 0, 0, 0, 0, 0, 0, 0, 0, 0, 0, 0, 0, 0, 0, 0, 0, 0, 0, 0, 0, 0, 0, 0, 0, 0, 0, 0, 0, 0, 0, 0, 0, 0, 0, 0, 0, 0, 0, 0, 0, 0, 0, 0, 0, 0, 0, 0, 0, 0, 0, 0, 0, 0, 0, 0, 0, 0, 0, 0, 0, 0, 0, 0, 0, 0, 0, 0, 0, 0, 0, 0, 0, 0, 0, 0, 0, 0, 0, 0, 0, 0, 0, 0, 0])"
      ]
     },
     "execution_count": 158,
     "metadata": {},
     "output_type": "execute_result"
    }
   ],
   "source": [
    "dict_other.values()"
   ]
  },
  {
   "cell_type": "code",
   "execution_count": 45,
   "metadata": {},
   "outputs": [
    {
     "data": {
      "text/plain": [
       "20549"
      ]
     },
     "execution_count": 45,
     "metadata": {},
     "output_type": "execute_result"
    }
   ],
   "source": [
    "sum(male_role_dist_detailed_final.values())"
   ]
  },
  {
   "cell_type": "code",
   "execution_count": 161,
   "metadata": {},
   "outputs": [
    {
     "data": {
      "text/plain": [
       "20758"
      ]
     },
     "execution_count": 161,
     "metadata": {},
     "output_type": "execute_result"
    }
   ],
   "source": [
    "sum(male_role_dist_detailed.values())"
   ]
  },
  {
   "cell_type": "code",
   "execution_count": 135,
   "metadata": {},
   "outputs": [
    {
     "data": {
      "text/plain": [
       "501"
      ]
     },
     "execution_count": 135,
     "metadata": {},
     "output_type": "execute_result"
    }
   ],
   "source": [
    "female_role_dist_detailed_final\n",
    "sum(female_role_dist_detailed_final.values())"
   ]
  },
  {
   "cell_type": "code",
   "execution_count": 40,
   "metadata": {},
   "outputs": [],
   "source": [
    "     "
   ]
  },
  {
   "cell_type": "code",
   "execution_count": 41,
   "metadata": {},
   "outputs": [
    {
     "data": {
      "text/plain": [
       "male      79\n",
       "female    19\n",
       "dtype: int64"
      ]
     },
     "execution_count": 41,
     "metadata": {},
     "output_type": "execute_result"
    }
   ],
   "source": []
  },
  {
   "cell_type": "code",
   "execution_count": 185,
   "metadata": {},
   "outputs": [
    {
     "data": {
      "image/png": "[encoded data removed]",
      "text/plain": [
       "<Figure size 640x480 with 1 Axes>"
      ]
     },
     "metadata": {},
     "output_type": "display_data"
    }
   ],
   "source": [
    "#Counter(genders)\n",
    "y =  pd.Series(Counter(genders))\n",
    "mylabels = [\"male\", \"female\"]\n",
    "colors = cm.rainbow(np.linspace(0, 1, len(mylabels)))\n",
    "plt.pie(y, labels = mylabels,startangle = 70, autopct=lambda x: '{:.0f}'.format(x*y.sum()/100),colors=colors)\n",
    "plt.legend(title = \"Genders repartition\",loc=\"upper left\")\n",
    "plt.savefig(\"../data/repartition/gender_bf_2000_top500.png\", format=\"png\",transparent=True)\n",
    "plt.show() "
   ]
  },
  {
   "cell_type": "code",
   "execution_count": 191,
   "metadata": {},
   "outputs": [
    {
     "data": {
      "image/png": "[encoded data removed]",
      "text/plain": [
       "<Figure size 1000x600 with 1 Axes>"
      ]
     },
     "metadata": {},
     "output_type": "display_data"
    }
   ],
   "source": [
    "c = []\n",
    "v = []             \n",
    "for key, val in gender_dist_by_genre.items():\n",
    "    c.append(key)\n",
    "    v.append(val)\n",
    "v = np.array(v)\n",
    "fig, ax = plt.subplots(figsize=(10,6))\n",
    "\n",
    "\n",
    "p= plt.bar(range(len(c)), v[:,0],label=\"Male\",color=\"#f39d47\",bottom= np.zeros(10))\n",
    "ticklabel = [f\"{'%.2f'%((100*a)/(b+a))}%\" for a,b in zip( v[:,0],  v[:,1]) ]\n",
    "ax.bar_label(p, label_type='center', labels=ticklabel)\n",
    "\n",
    "p= plt.bar(range(len(c)), v[:,1], bottom=v[:,0],label=\"Female\",color=\"#72bbff\")\n",
    "ticklabel = [f\"{'%.2f'%((100*b)/(b+a))}%\" for a,b in zip( v[:,0],  v[:,1]) ]\n",
    "ax.bar_label(p, label_type='center', labels=ticklabel)\n",
    "\n",
    "plt.title(\"Gender distribution by music genres before year 2000\")\n",
    "plt.xticks(range(len(c)), c,rotation=85)\n",
    "plt.legend()\n",
    "plt.savefig(\"../data/repartition/gender_dist_by_genre_bf2000.png\", format=\"png\",transparent=True)\n",
    "plt.show()"
   ]
  },
  {
   "cell_type": "code",
   "execution_count": 23,
   "metadata": {},
   "outputs": [
    {
     "data": {
      "text/plain": [
       "{'guitar': [3632, 220, 1],\n",
       " 'recorder': [3208, 122, 0],\n",
       " 'drums': [2926, 87, 0],\n",
       " 'keyboards': [2080, 151, 2],\n",
       " 'saxophone': [1557, 58, 0],\n",
       " 'piano': [1303, 124, 2],\n",
       " 'trumpet': [1170, 33, 0],\n",
       " 'percussions': [1087, 100, 1],\n",
       " 'trombone': [613, 17, 0],\n",
       " 'flute': [355, 22, 0],\n",
       " 'harmonica': [209, 4, 0],\n",
       " 'dj': [177, 11, 0],\n",
       " 'violin': [173, 90, 0],\n",
       " 'clarinet': [129, 7, 0],\n",
       " 'flugelhorn': [129, 2, 0]}"
      ]
     },
     "execution_count": 23,
     "metadata": {},
     "output_type": "execute_result"
    }
   ],
   "source": [
    "gender_dist_by_genre_final"
   ]
  },
  {
   "cell_type": "code",
   "execution_count": 32,
   "metadata": {},
   "outputs": [
    {
     "data": {
      "text/plain": [
       "{'guitar': [3632, 220, 1],\n",
       " 'recorder': [3208, 122, 0],\n",
       " 'drums': [2926, 87, 0],\n",
       " 'keyboards': [2080, 151, 2],\n",
       " 'saxophone': [1557, 58, 0],\n",
       " 'piano': [1303, 124, 2],\n",
       " 'trumpet': [1170, 33, 0],\n",
       " 'percussions': [1087, 100, 1],\n",
       " 'trombone': [613, 17, 0],\n",
       " 'flute': [355, 22, 0],\n",
       " 'harmonica': [209, 4, 0],\n",
       " 'dj': [177, 11, 0],\n",
       " 'violin': [173, 90, 0],\n",
       " 'clarinet': [129, 7, 0],\n",
       " 'flugelhorn': [129, 2, 0]}"
      ]
     },
     "execution_count": 32,
     "metadata": {},
     "output_type": "execute_result"
    }
   ],
   "source": [
    "gender_dist_by_genre_final"
   ]
  },
  {
   "cell_type": "code",
   "execution_count": 35,
   "metadata": {},
   "outputs": [
    {
     "data": {
      "image/png": "[encoded data removed]",
      "text/plain": [
       "<Figure size 1500x600 with 1 Axes>"
      ]
     },
     "metadata": {},
     "output_type": "display_data"
    }
   ],
   "source": [
    "c = []\n",
    "v = []             \n",
    "for key, val in gender_dist_by_genre_final.items():\n",
    "    c.append(key)\n",
    "    v.append(val)\n",
    "v = np.array(v)\n",
    "fig, ax = plt.subplots(figsize=(15,6))\n",
    "\n",
    "p= plt.bar(range(len(c)), v[:,0],label=\"Male\",color=\"#f39d47\",bottom= np.zeros(10))\n",
    "ticklabel = [f\"{'%.2f'%((100*a)/(b+a))}%\" for a,b in zip( v[:,0],  v[:,1]) ]\n",
    "ax.bar_label(p, label_type='center', labels=ticklabel)\n",
    "\n",
    "p= plt.bar(range(len(c)), v[:,1], bottom=v[:,0],label=\"Female\",color=\"#72bbff\")\n",
    "ticklabel = [f\"{'%.2f'%((100*b)/(b+a))}%\" for a,b in zip( v[:,0],  v[:,1]) ]\n",
    "ax.bar_label(p, label_type='center', labels=ticklabel)\n",
    "\n",
    "plt.title(\"Gender distribution by music instruments\")\n",
    "plt.xticks(range(len(c)), c,rotation=85)\n",
    "plt.legend()\n",
    "plt.savefig(\"../data/repartition/instrument_dist.png\", format=\"png\",transparent=True)\n",
    "plt.show()\n"
   ]
  },
  {
   "cell_type": "code",
   "execution_count": 175,
   "metadata": {},
   "outputs": [
    {
     "data": {
      "image/png": "[encoded data removed]",
      "text/plain": [
       "<Figure size 640x480 with 1 Axes>"
      ]
     },
     "metadata": {},
     "output_type": "display_data"
    }
   ],
   "source": [
    "y =  pd.Series(Counter(male_role_dist_detailed_final))\n",
    "mylabels = list(male_role_dist_detailed_final.keys())\n",
    "colors = cm.rainbow(np.linspace(0, 1, len(mylabels)))\n",
    "plt.pie(y, labels = mylabels,startangle = 70, autopct='%1.0f%%',colors=colors)\n",
    "plt.legend(bbox_to_anchor=(1.15, 1), loc=2, borderaxespad=0.)                                                                                                                                                                                                                                  \n",
    "plt.title(\" Instruments zoom distribution for male\")\n",
    "#plt.savefig(\"../data/repartition/instrument_zoom_dist_bf_2000_male_per.png\", format=\"png\",transparent=True,bbox_inches='tight')\n",
    "plt.show() "
   ]
  },
  {
   "cell_type": "markdown",
   "metadata": {},
   "source": [
    "### Betweenness centrality"
   ]
  },
  {
   "cell_type": "code",
   "execution_count": 103,
   "metadata": {},
   "outputs": [],
   "source": [
    "b_centralities = net.get_betweenness_centrality(mjf_collaboration_net)[0][:25]"
   ]
  },
  {
   "cell_type": "code",
   "execution_count": 115,
   "metadata": {},
   "outputs": [
    {
     "name": "stdout",
     "output_type": "stream",
     "text": [
      "1 - claude nobs - Counter({'harmonica': 63, 'harp': 1, 'vocals': 1, 'percussions': 1})\n",
      "2 - quincy jones - Counter({'vocals': 4})\n",
      "3 - george duke - Counter({'keyboards': 33, 'piano': 30, 'vocals': 4, 'synthesizer': 1})\n",
      "4 - herbie hancock - Counter({'piano': 35, 'keyboards': 14})\n",
      "5 - monty alexander - Counter({'piano': 21, 'keyboards': 3})\n",
      "6 - angélique kidjo - Counter({'vocals': 17})\n",
      "7 - toots thielemans - Counter({'harmonica': 13, 'guitar': 3})\n",
      "8 - david sanborn - Counter({'saxophone': 32})\n",
      "9 - chaka khan - Counter({'vocals': 20})\n",
      "10 - gilberto gil - Counter({'guitar': 14, 'vocals': 12, 'percussions': 1, 'vocal': 1})\n",
      "11 - paolo nutini - Counter({'vocals': 9, 'guitar': 2, 'vocal': 1})\n",
      "12 - marcus miller - Counter({'recorder': 19, 'clarinet': 6, 'saxophone': 4, 'vocals': 2, 'turntables': 1, 'double bass': 1, 'keyboards': 1, 'gumbri': 1})\n",
      "13 - elba ramalho - Counter({'vocals': 8})\n",
      "14 - carlos santana - Counter({'guitar': 18, 'vocals': 4, 'percussions': 1})\n",
      "15 - sophie hunger - Counter({'vocals': 7, 'piano': 4, 'guitar': 4, 'harmonica': 1})\n",
      "16 - van morrison - Counter({'vocals': 21, 'guitar': 11, 'saxophone': 11, 'harmonica': 8, 'piano': 2, 'vocal': 1, 'keyboards': 1})\n",
      "17 - grace jones - Counter({'vocals': 3})\n",
      "18 - billy cobham - Counter({'drums': 19, 'percussions': 1})\n",
      "19 - raul rekow - Counter({'congas': 12, 'percussions': 7, 'vocals': 2, 'guitar': 1})\n",
      "20 - james morrison - Counter({'trumpet': 6, 'trombone': 6, 'brass': 2, 'vocals': 1})\n",
      "21 - joe sample - Counter({'piano': 19, 'keyboards': 9})\n",
      "22 - al jarreau - Counter({'vocals': 22, 'vocal': 1, 'marimba': 1, 'drums': 1})\n",
      "23 - richard bona - Counter({'recorder': 9, 'vocals': 5})\n",
      "24 - carlinhos brown - Counter({'percussions': 4, 'vocals': 3, 'drums': 2, 'guitar': 1, 'bandolin': 1})\n",
      "25 - patti austin - Counter({'vocals': 11})\n"
     ]
    }
   ],
   "source": [
    "get_details_by_centrality(b_centralities)"
   ]
  },
  {
   "cell_type": "markdown",
   "metadata": {},
   "source": [
    "### Eigenvector centrality"
   ]
  },
  {
   "cell_type": "code",
   "execution_count": 13,
   "metadata": {},
   "outputs": [],
   "source": [
    "e_centralities = net.get_eigenvector_centrality(mjf_collaboration_net)[0][:30]"
   ]
  },
  {
   "cell_type": "code",
   "execution_count": 16,
   "metadata": {},
   "outputs": [
    {
     "name": "stdout",
     "output_type": "stream",
     "text": [
      "1 - nathan east - Counter({'recorder': 23, 'vocals': 3})\n",
      "2 - quincy jones - Counter({'none': 19, 'vocals': 4})\n",
      "3 - george duke - Counter({'keyboards': 33, 'piano': 30, 'vocals': 4, 'none': 2, 'synthesizer': 1})\n",
      "4 - steve ferrone - Counter({'drums': 14, 'percussions': 2})\n",
      "5 - greg phillinganes - Counter({'keyboards': 13, 'vocals': 2, 'piano': 2})\n",
      "6 - claude nobs - Counter({'harmonica': 63, 'none': 9, 'harp': 1, 'vocals': 1, 'percussions': 1})\n",
      "7 - ray cooper - Counter({'percussions': 8})\n",
      "8 - paul milton jackson. jr - Counter({'guitar': 8})\n",
      "9 - james \"hutch\" hutchinson - Counter({'recorder': 4, 'none': 4, 'vocals': 1})\n",
      "10 - keith wilson - Counter({'vocal': 2, 'drums': 1, 'none': 1, 'vocals': 1})\n",
      "11 - carmen momon - Counter({'none': 4})\n",
      "12 - penny ray - Counter({'none': 4})\n",
      "13 - linda d. cummings - Counter({'none': 4})\n",
      "14 - melle mel - Counter({'vocals': 4})\n",
      "15 - valerie simpson - Counter({'vocals': 3})\n",
      "16 - kool moe dee - Counter({'vocals': 3})\n",
      "17 - marilyn randolph - Counter({'none': 3})\n",
      "18 - margaret davie - Counter({'none': 3})\n",
      "19 - robin brown - Counter({'none': 3})\n",
      "20 - lashaun jones - Counter({'none': 3})\n"
     ]
    }
   ],
   "source": [
    "get_details_by_centrality(e_centralities[:20])"
   ]
  },
  {
   "cell_type": "markdown",
   "metadata": {},
   "source": [
    "### correlation between centralities"
   ]
  },
  {
   "cell_type": "code",
   "execution_count": 7,
   "metadata": {},
   "outputs": [
    {
     "name": "stdout",
     "output_type": "stream",
     "text": [
      "Spearman corr between projected degree k and betweenness centrality is SignificanceResult(statistic=0.7035444174272443, pvalue=0.0)\n",
      "Spearman corr between projected degree k and eigenvector centrality is SignificanceResult(statistic=0.997901868207399, pvalue=0.0)\n",
      "Spearman corr between betweenness centrality and eigenvector centrality is SignificanceResult(statistic=0.7023793249650162, pvalue=0.0)\n"
     ]
    }
   ],
   "source": [
    "net.get_spearman_corr(mjf_collaboration_net)"
   ]
  },
  {
   "cell_type": "markdown",
   "metadata": {},
   "source": [
    "## Meta-Network genres"
   ]
  },
  {
   "cell_type": "code",
   "execution_count": 28,
   "metadata": {},
   "outputs": [],
   "source": [
    "df = pd.read_csv(\"../data/genres/musician_genre.csv\",sep=';')\n",
    "df[\"genres\"] = df[\"genres\"].apply(lambda x : str(x).split(\",\"))"
   ]
  },
  {
   "cell_type": "code",
   "execution_count": 11,
   "metadata": {},
   "outputs": [
    {
     "data": {
      "text/html": [
       "<div>\n",
       "<style scoped>\n",
       "    .dataframe tbody tr th:only-of-type {\n",
       "        vertical-align: middle;\n",
       "    }\n",
       "\n",
       "    .dataframe tbody tr th {\n",
       "        vertical-align: top;\n",
       "    }\n",
       "\n",
       "    .dataframe thead th {\n",
       "        text-align: right;\n",
       "    }\n",
       "</style>\n",
       "<table border=\"1\" class=\"dataframe\">\n",
       "  <thead>\n",
       "    <tr style=\"text-align: right;\">\n",
       "      <th></th>\n",
       "      <th>id</th>\n",
       "      <th>genres</th>\n",
       "    </tr>\n",
       "  </thead>\n",
       "  <tbody>\n",
       "    <tr>\n",
       "      <th>0</th>\n",
       "      <td>30407</td>\n",
       "      <td>[World Music]</td>\n",
       "    </tr>\n",
       "    <tr>\n",
       "      <th>1</th>\n",
       "      <td>9124</td>\n",
       "      <td>[World Music, Electronic/Dance]</td>\n",
       "    </tr>\n",
       "    <tr>\n",
       "      <th>2</th>\n",
       "      <td>30423</td>\n",
       "      <td>[World Music]</td>\n",
       "    </tr>\n",
       "    <tr>\n",
       "      <th>3</th>\n",
       "      <td>30421</td>\n",
       "      <td>[World Music]</td>\n",
       "    </tr>\n",
       "    <tr>\n",
       "      <th>4</th>\n",
       "      <td>30420</td>\n",
       "      <td>[World Music]</td>\n",
       "    </tr>\n",
       "  </tbody>\n",
       "</table>\n",
       "</div>"
      ],
      "text/plain": [
       "      id                           genres\n",
       "0  30407                    [World Music]\n",
       "1   9124  [World Music, Electronic/Dance]\n",
       "2  30423                    [World Music]\n",
       "3  30421                    [World Music]\n",
       "4  30420                    [World Music]"
      ]
     },
     "execution_count": 11,
     "metadata": {},
     "output_type": "execute_result"
    }
   ],
   "source": [
    "df.head()"
   ]
  },
  {
   "cell_type": "code",
   "execution_count": 6,
   "metadata": {},
   "outputs": [],
   "source": [
    "cat = None\n",
    "with open(\"../data/genres/genres_cat.json\",encoding=\"utf-8\") as f:\n",
    "            cat = json.load(f)  "
   ]
  },
  {
   "cell_type": "code",
   "execution_count": null,
   "metadata": {},
   "outputs": [],
   "source": [
    "#if M1 and M2 collabored together multiple time weigth of edge increases, so what to do? count once the collaboration or leave it => solved\n",
    "treated = set()\n",
    "meta_net_genres = nx.Graph()\n",
    "treated_node_weight = set()\n",
    "\n",
    "for cate in cat['categories']:\n",
    "    meta_net_genres.add_node(cate['category'],weight=0)\n",
    "\n",
    "for n,d in mjf_collaboration_net.nodes(data=True):\n",
    "    treated.add(int(str(n)[3:]))  \n",
    "    musician_in = df[df['id'] == int(str(n)[3:])]   \n",
    "    for g in musician_in['genres'].squeeze(): \n",
    "        meta_net_genres.nodes[g]['weight'] += 1 \n",
    "         \n",
    "    for neighbor in mjf_collaboration_net.neighbors(n):\n",
    "        if int(str(neighbor)[3:]) not in treated :\n",
    "            musician_out = df[df['id'] == int(str(neighbor)[3:])] \n",
    "            \n",
    "            for g_in in musician_out['genres'].squeeze():\n",
    "                for g2 in musician_in['genres'].squeeze():   \n",
    "                    if g_in >= g2 : \n",
    "                        continue      \n",
    "                    if not meta_net_genres.has_edge(g_in,g2) :                     \n",
    "                        meta_net_genres.add_edge(g_in, g2,weight = 1)   \n",
    "                    else :\n",
    "                        meta_net_genres[g_in][g2]['weight'] += 1      \n",
    "                                 "
   ]
  },
  {
   "cell_type": "code",
   "execution_count": 46,
   "metadata": {},
   "outputs": [],
   "source": [
    "net.save_graph(meta_net_genres,\"../networks/gephi/meta_net_genres_final.gexf\")"
   ]
  },
  {
   "cell_type": "markdown",
   "metadata": {},
   "source": [
    "### Meta network of jazz subgenres"
   ]
  },
  {
   "cell_type": "code",
   "execution_count": 7,
   "metadata": {},
   "outputs": [],
   "source": [
    "normalized_dict = pd.json_normalize(cat['categories'], sep=',')\n",
    "jazz_subgenres = list(normalized_dict[(normalized_dict['category'] == 'Jazz')]['genres'])[0]\n",
    "jazz_subgenres.remove(\"Jazz\")"
   ]
  },
  {
   "cell_type": "code",
   "execution_count": 8,
   "metadata": {},
   "outputs": [],
   "source": [
    "jazz_subgenres_clean =list()\n",
    "for g in jazz_subgenres :\n",
    "    jazz_subgenres_clean.append(g.lower())"
   ]
  },
  {
   "cell_type": "code",
   "execution_count": 9,
   "metadata": {},
   "outputs": [],
   "source": [
    "df = pd.read_csv(\"../data/genres/musician_jazz_sub_genre.csv\",sep=';')\n",
    "df[\"genres\"] = df[\"genres\"].apply(lambda x : str(x).split(\",\"))"
   ]
  },
  {
   "cell_type": "code",
   "execution_count": 10,
   "metadata": {},
   "outputs": [],
   "source": [
    "treated = set()\n",
    "meta_net_genres = nx.Graph()\n",
    "treated_node_weight = set()\n",
    "#Initialize a node with weight zero for each jazz genre\n",
    "for cate in jazz_subgenres_clean:\n",
    "    meta_net_genres.add_node(cate,weight=0)\n",
    "\n",
    "#loop over all node in colloboration network\n",
    "for n,d in mjf_collaboration_net.nodes(data=True):\n",
    "    treated.add(int(str(n)[3:]))  \n",
    "    musician_in = df[df['id'] == int(str(n)[3:])]   \n",
    "    musician_in_genre  = musician_in['genres'].squeeze()\n",
    "  \n",
    "    if  len(musician_in_genre) != 0 and str(musician_in_genre[0]) != 'nan':\n",
    "    \n",
    "        for g in musician_in_genre: \n",
    "             if g != \"jazz\":\n",
    "                meta_net_genres.nodes[g]['weight'] += 1 \n",
    "         \n",
    "        for neighbor in mjf_collaboration_net.neighbors(n):\n",
    "             if int(str(neighbor)[3:]) not in treated :\n",
    "                musician_out = df[df['id'] == int(str(neighbor)[3:])] \n",
    "                musician_out_genre = musician_out['genres'].squeeze()\n",
    "                if len(musician_out_genre)!=0 and str(musician_out_genre[0])!= 'nan':\n",
    "                    for g_in in musician_out_genre:\n",
    "                        for g2 in musician_in_genre:   \n",
    "                            if g_in >= g2 or g_in == \"jazz\" or g2 == \"jazz\": \n",
    "                                continue      \n",
    "                            if not meta_net_genres.has_edge(g_in,g2) :                     \n",
    "                                meta_net_genres.add_edge(g_in, g2,weight = 1)   \n",
    "                            else :\n",
    "                                meta_net_genres[g_in][g2]['weight'] += 1      \n",
    "                                 "
   ]
  },
  {
   "cell_type": "code",
   "execution_count": 11,
   "metadata": {},
   "outputs": [],
   "source": [
    "net.save_graph(meta_net_genres,\"../networks/gephi/mjf/meta-networks/mjf_meta_net_jazz_subgenres.gexf\")"
   ]
  },
  {
   "cell_type": "markdown",
   "metadata": {},
   "source": [
    "## Role specific network"
   ]
  },
  {
   "cell_type": "code",
   "execution_count": 10,
   "metadata": {},
   "outputs": [
    {
     "data": {
      "text/html": [
       "<div>\n",
       "<style scoped>\n",
       "    .dataframe tbody tr th:only-of-type {\n",
       "        vertical-align: middle;\n",
       "    }\n",
       "\n",
       "    .dataframe tbody tr th {\n",
       "        vertical-align: top;\n",
       "    }\n",
       "\n",
       "    .dataframe thead th {\n",
       "        text-align: right;\n",
       "    }\n",
       "</style>\n",
       "<table border=\"1\" class=\"dataframe\">\n",
       "  <thead>\n",
       "    <tr style=\"text-align: right;\">\n",
       "      <th></th>\n",
       "      <th>name</th>\n",
       "    </tr>\n",
       "  </thead>\n",
       "  <tbody>\n",
       "    <tr>\n",
       "      <th>0</th>\n",
       "      <td>ableton</td>\n",
       "    </tr>\n",
       "    <tr>\n",
       "      <th>1</th>\n",
       "      <td>accordion</td>\n",
       "    </tr>\n",
       "    <tr>\n",
       "      <th>2</th>\n",
       "      <td>acoustic drums</td>\n",
       "    </tr>\n",
       "    <tr>\n",
       "      <th>3</th>\n",
       "      <td>ad</td>\n",
       "    </tr>\n",
       "    <tr>\n",
       "      <th>4</th>\n",
       "      <td>agogo</td>\n",
       "    </tr>\n",
       "  </tbody>\n",
       "</table>\n",
       "</div>"
      ],
      "text/plain": [
       "             name\n",
       "0         ableton\n",
       "1       accordion\n",
       "2  acoustic drums\n",
       "3              ad\n",
       "4           agogo"
      ]
     },
     "execution_count": 10,
     "metadata": {},
     "output_type": "execute_result"
    }
   ],
   "source": [
    "instruments = pd.read_csv(\"../data/instruments/mjf_instruments.csv\",sep=\",\")\n",
    "instruments.head()"
   ]
  },
  {
   "cell_type": "code",
   "execution_count": 11,
   "metadata": {},
   "outputs": [],
   "source": [
    "cnames=['instrument','nb_nodes' ,'size_of_the_GC', 'fraction_of_omitted_edges','nb_of_omitted_edges','nb_edges']\n",
    "df = pd.DataFrame(columns=cnames)"
   ]
  },
  {
   "cell_type": "code",
   "execution_count": 12,
   "metadata": {},
   "outputs": [],
   "source": [
    "for instru in instruments['name']:\n",
    "\n",
    "    role_specific_network = net.build_role_specific_network(results,'name','musicians','date','categories',instru)\n",
    "    collaborators = [x for x,y in role_specific_network.nodes(data=True) if y['type']=='Artist']\n",
    "    role_specific_network = nx.projected_graph(role_specific_network, collaborators, multigraph=False)\n",
    "    largest_cc = max(nx.connected_components(role_specific_network), key=len)\n",
    "    largest_cc = role_specific_network.subgraph(largest_cc)\n",
    "    \n",
    "    nb_nodes = len(largest_cc)\n",
    "    per_size_of_GC = (len(largest_cc) *100)/len(mjf_collaboration_net)\n",
    "    per_ommited_eges = 100 - (len(role_specific_network.edges)*100)/len(mjf_collaboration_net.edges)\n",
    "\n",
    "    df.loc[-1]  = [instru,nb_nodes,per_size_of_GC,per_ommited_eges,abs(len(role_specific_network.edges) - len(mjf_collaboration_net.edges) ),len(largest_cc.edges)]\n",
    "    df.index = df.index + 1\n",
    "    #print(\"Number of nodes in the giant component\",len(largest_cc))\n",
    "    #print(\"percentage of nodes in the giant component: \",(len(largest_cc) *100)/len(mjf_collaboration_net),\"%\")\n",
    "    #print(\"Fraction of ommited edges:\",100 - (len(role_specific_network.edges)*100)/len(mjf_collaboration_net.edges),\"%\")\n",
    "df = df.sort_index() \n",
    "df = df.sort_values('size_of_the_GC')"
   ]
  },
  {
   "cell_type": "code",
   "execution_count": 13,
   "metadata": {},
   "outputs": [],
   "source": [
    "df = df.iloc[0:len(df)-1,:]"
   ]
  },
  {
   "cell_type": "code",
   "execution_count": 14,
   "metadata": {},
   "outputs": [
    {
     "data": {
      "text/html": [
       "<div>\n",
       "<style scoped>\n",
       "    .dataframe tbody tr th:only-of-type {\n",
       "        vertical-align: middle;\n",
       "    }\n",
       "\n",
       "    .dataframe tbody tr th {\n",
       "        vertical-align: top;\n",
       "    }\n",
       "\n",
       "    .dataframe thead th {\n",
       "        text-align: right;\n",
       "    }\n",
       "</style>\n",
       "<table border=\"1\" class=\"dataframe\">\n",
       "  <thead>\n",
       "    <tr style=\"text-align: right;\">\n",
       "      <th></th>\n",
       "      <th>nb_nodes</th>\n",
       "      <th>size_of_the_GC</th>\n",
       "      <th>fraction_of_omitted_edges</th>\n",
       "      <th>nb_of_omitted_edges</th>\n",
       "      <th>nb_edges</th>\n",
       "    </tr>\n",
       "  </thead>\n",
       "  <tbody>\n",
       "    <tr>\n",
       "      <th>count</th>\n",
       "      <td>254.000000</td>\n",
       "      <td>254.000000</td>\n",
       "      <td>254.000000</td>\n",
       "      <td>254.000000</td>\n",
       "      <td>254.00000</td>\n",
       "    </tr>\n",
       "    <tr>\n",
       "      <th>mean</th>\n",
       "      <td>11658.917323</td>\n",
       "      <td>66.097383</td>\n",
       "      <td>0.717392</td>\n",
       "      <td>776.433071</td>\n",
       "      <td>89630.07874</td>\n",
       "    </tr>\n",
       "    <tr>\n",
       "      <th>std</th>\n",
       "      <td>322.996367</td>\n",
       "      <td>1.831149</td>\n",
       "      <td>3.183746</td>\n",
       "      <td>3445.768187</td>\n",
       "      <td>3172.89904</td>\n",
       "    </tr>\n",
       "    <tr>\n",
       "      <th>min</th>\n",
       "      <td>8758.000000</td>\n",
       "      <td>49.651341</td>\n",
       "      <td>0.000000</td>\n",
       "      <td>0.000000</td>\n",
       "      <td>61270.00000</td>\n",
       "    </tr>\n",
       "    <tr>\n",
       "      <th>25%</th>\n",
       "      <td>11721.000000</td>\n",
       "      <td>66.449345</td>\n",
       "      <td>0.006699</td>\n",
       "      <td>7.250000</td>\n",
       "      <td>90296.00000</td>\n",
       "    </tr>\n",
       "    <tr>\n",
       "      <th>50%</th>\n",
       "      <td>11726.000000</td>\n",
       "      <td>66.477691</td>\n",
       "      <td>0.016631</td>\n",
       "      <td>18.000000</td>\n",
       "      <td>90345.00000</td>\n",
       "    </tr>\n",
       "    <tr>\n",
       "      <th>75%</th>\n",
       "      <td>11727.000000</td>\n",
       "      <td>66.483361</td>\n",
       "      <td>0.069297</td>\n",
       "      <td>75.000000</td>\n",
       "      <td>90355.75000</td>\n",
       "    </tr>\n",
       "    <tr>\n",
       "      <th>max</th>\n",
       "      <td>11727.000000</td>\n",
       "      <td>66.483361</td>\n",
       "      <td>29.337522</td>\n",
       "      <td>31752.000000</td>\n",
       "      <td>90359.00000</td>\n",
       "    </tr>\n",
       "  </tbody>\n",
       "</table>\n",
       "</div>"
      ],
      "text/plain": [
       "           nb_nodes  size_of_the_GC  fraction_of_omitted_edges  \\\n",
       "count    254.000000      254.000000                 254.000000   \n",
       "mean   11658.917323       66.097383                   0.717392   \n",
       "std      322.996367        1.831149                   3.183746   \n",
       "min     8758.000000       49.651341                   0.000000   \n",
       "25%    11721.000000       66.449345                   0.006699   \n",
       "50%    11726.000000       66.477691                   0.016631   \n",
       "75%    11727.000000       66.483361                   0.069297   \n",
       "max    11727.000000       66.483361                  29.337522   \n",
       "\n",
       "       nb_of_omitted_edges     nb_edges  \n",
       "count           254.000000    254.00000  \n",
       "mean            776.433071  89630.07874  \n",
       "std            3445.768187   3172.89904  \n",
       "min               0.000000  61270.00000  \n",
       "25%               7.250000  90296.00000  \n",
       "50%              18.000000  90345.00000  \n",
       "75%              75.000000  90355.75000  \n",
       "max           31752.000000  90359.00000  "
      ]
     },
     "execution_count": 14,
     "metadata": {},
     "output_type": "execute_result"
    }
   ],
   "source": [
    "df.describe()"
   ]
  },
  {
   "cell_type": "code",
   "execution_count": 34,
   "metadata": {},
   "outputs": [
    {
     "data": {
      "text/html": [
       "<div>\n",
       "<style scoped>\n",
       "    .dataframe tbody tr th:only-of-type {\n",
       "        vertical-align: middle;\n",
       "    }\n",
       "\n",
       "    .dataframe tbody tr th {\n",
       "        vertical-align: top;\n",
       "    }\n",
       "\n",
       "    .dataframe thead th {\n",
       "        text-align: right;\n",
       "    }\n",
       "</style>\n",
       "<table border=\"1\" class=\"dataframe\">\n",
       "  <thead>\n",
       "    <tr style=\"text-align: right;\">\n",
       "      <th></th>\n",
       "      <th>instrument</th>\n",
       "      <th>nb_nodes</th>\n",
       "      <th>size_of_the_GC</th>\n",
       "      <th>fraction_of_omitted_edges</th>\n",
       "      <th>nb_of_omitted_edges</th>\n",
       "      <th>nb_edges</th>\n",
       "    </tr>\n",
       "  </thead>\n",
       "  <tbody>\n",
       "    <tr>\n",
       "      <th>9</th>\n",
       "      <td>vocals</td>\n",
       "      <td>8758</td>\n",
       "      <td>49.651341</td>\n",
       "      <td>29.337522</td>\n",
       "      <td>31752</td>\n",
       "      <td>61270</td>\n",
       "    </tr>\n",
       "    <tr>\n",
       "      <th>146</th>\n",
       "      <td>guitar</td>\n",
       "      <td>9400</td>\n",
       "      <td>53.291003</td>\n",
       "      <td>20.464751</td>\n",
       "      <td>22149</td>\n",
       "      <td>70556</td>\n",
       "    </tr>\n",
       "    <tr>\n",
       "      <th>181</th>\n",
       "      <td>drums</td>\n",
       "      <td>9775</td>\n",
       "      <td>55.416974</td>\n",
       "      <td>17.463735</td>\n",
       "      <td>18901</td>\n",
       "      <td>73625</td>\n",
       "    </tr>\n",
       "    <tr>\n",
       "      <th>71</th>\n",
       "      <td>recorder</td>\n",
       "      <td>9818</td>\n",
       "      <td>55.660752</td>\n",
       "      <td>19.276541</td>\n",
       "      <td>20863</td>\n",
       "      <td>72571</td>\n",
       "    </tr>\n",
       "    <tr>\n",
       "      <th>124</th>\n",
       "      <td>keyboards</td>\n",
       "      <td>10404</td>\n",
       "      <td>58.982936</td>\n",
       "      <td>13.490714</td>\n",
       "      <td>14601</td>\n",
       "      <td>77341</td>\n",
       "    </tr>\n",
       "    <tr>\n",
       "      <th>63</th>\n",
       "      <td>saxophone</td>\n",
       "      <td>10665</td>\n",
       "      <td>60.462611</td>\n",
       "      <td>13.186732</td>\n",
       "      <td>14272</td>\n",
       "      <td>76888</td>\n",
       "    </tr>\n",
       "    <tr>\n",
       "      <th>79</th>\n",
       "      <td>percussions</td>\n",
       "      <td>10750</td>\n",
       "      <td>60.944498</td>\n",
       "      <td>9.597154</td>\n",
       "      <td>10387</td>\n",
       "      <td>80208</td>\n",
       "    </tr>\n",
       "    <tr>\n",
       "      <th>78</th>\n",
       "      <td>piano</td>\n",
       "      <td>10864</td>\n",
       "      <td>61.590793</td>\n",
       "      <td>6.969417</td>\n",
       "      <td>7543</td>\n",
       "      <td>79672</td>\n",
       "    </tr>\n",
       "    <tr>\n",
       "      <th>22</th>\n",
       "      <td>trumpet</td>\n",
       "      <td>10867</td>\n",
       "      <td>61.607801</td>\n",
       "      <td>11.993902</td>\n",
       "      <td>12981</td>\n",
       "      <td>77601</td>\n",
       "    </tr>\n",
       "    <tr>\n",
       "      <th>23</th>\n",
       "      <td>trombone</td>\n",
       "      <td>11178</td>\n",
       "      <td>63.370939</td>\n",
       "      <td>7.614340</td>\n",
       "      <td>8241</td>\n",
       "      <td>81960</td>\n",
       "    </tr>\n",
       "  </tbody>\n",
       "</table>\n",
       "</div>"
      ],
      "text/plain": [
       "      instrument  nb_nodes  size_of_the_GC  fraction_of_omitted_edges  \\\n",
       "9         vocals      8758       49.651341                  29.337522   \n",
       "146       guitar      9400       53.291003                  20.464751   \n",
       "181        drums      9775       55.416974                  17.463735   \n",
       "71      recorder      9818       55.660752                  19.276541   \n",
       "124    keyboards     10404       58.982936                  13.490714   \n",
       "63     saxophone     10665       60.462611                  13.186732   \n",
       "79   percussions     10750       60.944498                   9.597154   \n",
       "78         piano     10864       61.590793                   6.969417   \n",
       "22       trumpet     10867       61.607801                  11.993902   \n",
       "23      trombone     11178       63.370939                   7.614340   \n",
       "\n",
       "     nb_of_omitted_edges  nb_edges  \n",
       "9                  31752     61270  \n",
       "146                22149     70556  \n",
       "181                18901     73625  \n",
       "71                 20863     72571  \n",
       "124                14601     77341  \n",
       "63                 14272     76888  \n",
       "79                 10387     80208  \n",
       "78                  7543     79672  \n",
       "22                 12981     77601  \n",
       "23                  8241     81960  "
      ]
     },
     "execution_count": 34,
     "metadata": {},
     "output_type": "execute_result"
    }
   ],
   "source": [
    "#Social network\n",
    "df.iloc[0:10,:]"
   ]
  },
  {
   "cell_type": "code",
   "execution_count": 16,
   "metadata": {},
   "outputs": [],
   "source": [
    "cnames=['instrument','nb_nodes' ,'size_of_the_GC', 'fraction_of_omitted_edges','nb_of_omitted_edges','nb_edges']\n",
    "df2 = pd.DataFrame(columns=cnames)\n",
    "for instru in instruments['name']:\n",
    "\n",
    "    role_specific_network = net.build_role_specific_network(results,'name','musicians','date','categories',instru)\n",
    "    albums = [x for x,y in bipartite_mjf_net.nodes(data=True) if y['type']=='Album']\n",
    "    role_specific_network = nx.projected_graph(role_specific_network, albums, multigraph=False)\n",
    "    largest_cc = max(nx.connected_components(role_specific_network), key=len)\n",
    "    largest_cc = role_specific_network.subgraph(largest_cc)\n",
    "    \n",
    "    nb_nodes = len(largest_cc)\n",
    "    per_size_of_GC = (len(largest_cc) *100)/len(mjf_event_net)\n",
    "    per_ommited_eges = 100 - (len(role_specific_network.edges)*100)/len(mjf_event_net.edges)\n",
    "    df2.loc[-1]  = [instru,nb_nodes,per_size_of_GC,per_ommited_eges,abs(len(role_specific_network.edges) - len(mjf_event_net.edges) ),len(largest_cc.edges)]\n",
    "    df2.index = df2.index + 1\n",
    "    #print(\"Number of nodes in the giant component\",len(largest_cc))\n",
    "    #print(\"percentage of nodes in the giant component: \",(len(largest_cc) *100)/len(mjf_collaboration_net),\"%\")\n",
    "    #print(\"Fraction of ommited edges:\",100 - (len(role_specific_network.edges)*100)/len(mjf_collaboration_net.edges),\"%\")\n",
    "df2 = df2.sort_index() \n",
    "df2 = df2.sort_values('size_of_the_GC')    \n"
   ]
  },
  {
   "cell_type": "code",
   "execution_count": 17,
   "metadata": {},
   "outputs": [],
   "source": [
    "df2 = df2.iloc[0:len(df2)-1,:]"
   ]
  },
  {
   "cell_type": "code",
   "execution_count": 38,
   "metadata": {},
   "outputs": [
    {
     "data": {
      "text/html": [
       "<div>\n",
       "<style scoped>\n",
       "    .dataframe tbody tr th:only-of-type {\n",
       "        vertical-align: middle;\n",
       "    }\n",
       "\n",
       "    .dataframe tbody tr th {\n",
       "        vertical-align: top;\n",
       "    }\n",
       "\n",
       "    .dataframe thead th {\n",
       "        text-align: right;\n",
       "    }\n",
       "</style>\n",
       "<table border=\"1\" class=\"dataframe\">\n",
       "  <thead>\n",
       "    <tr style=\"text-align: right;\">\n",
       "      <th></th>\n",
       "      <th>nb_nodes</th>\n",
       "      <th>size_of_the_GC</th>\n",
       "      <th>fraction_of_omitted_edges</th>\n",
       "      <th>nb_of_omitted_edges</th>\n",
       "      <th>nb_edges</th>\n",
       "    </tr>\n",
       "  </thead>\n",
       "  <tbody>\n",
       "    <tr>\n",
       "      <th>count</th>\n",
       "      <td>254.000000</td>\n",
       "      <td>254.000000</td>\n",
       "      <td>254.000000</td>\n",
       "      <td>254.000000</td>\n",
       "      <td>254.000000</td>\n",
       "    </tr>\n",
       "    <tr>\n",
       "      <th>mean</th>\n",
       "      <td>2867.649606</td>\n",
       "      <td>67.001159</td>\n",
       "      <td>0.475290</td>\n",
       "      <td>104.834646</td>\n",
       "      <td>21608.468504</td>\n",
       "    </tr>\n",
       "    <tr>\n",
       "      <th>std</th>\n",
       "      <td>38.684281</td>\n",
       "      <td>0.903838</td>\n",
       "      <td>2.361017</td>\n",
       "      <td>520.769509</td>\n",
       "      <td>526.658905</td>\n",
       "    </tr>\n",
       "    <tr>\n",
       "      <th>min</th>\n",
       "      <td>2454.000000</td>\n",
       "      <td>57.336449</td>\n",
       "      <td>0.000000</td>\n",
       "      <td>0.000000</td>\n",
       "      <td>17282.000000</td>\n",
       "    </tr>\n",
       "    <tr>\n",
       "      <th>25%</th>\n",
       "      <td>2874.000000</td>\n",
       "      <td>67.149533</td>\n",
       "      <td>0.000000</td>\n",
       "      <td>0.000000</td>\n",
       "      <td>21710.250000</td>\n",
       "    </tr>\n",
       "    <tr>\n",
       "      <th>50%</th>\n",
       "      <td>2875.000000</td>\n",
       "      <td>67.172897</td>\n",
       "      <td>0.000000</td>\n",
       "      <td>0.000000</td>\n",
       "      <td>21715.000000</td>\n",
       "    </tr>\n",
       "    <tr>\n",
       "      <th>75%</th>\n",
       "      <td>2875.000000</td>\n",
       "      <td>67.172897</td>\n",
       "      <td>0.022669</td>\n",
       "      <td>5.000000</td>\n",
       "      <td>21715.000000</td>\n",
       "    </tr>\n",
       "    <tr>\n",
       "      <th>max</th>\n",
       "      <td>2875.000000</td>\n",
       "      <td>67.172897</td>\n",
       "      <td>20.088861</td>\n",
       "      <td>4431.000000</td>\n",
       "      <td>21715.000000</td>\n",
       "    </tr>\n",
       "  </tbody>\n",
       "</table>\n",
       "</div>"
      ],
      "text/plain": [
       "          nb_nodes  size_of_the_GC  fraction_of_omitted_edges  \\\n",
       "count   254.000000      254.000000                 254.000000   \n",
       "mean   2867.649606       67.001159                   0.475290   \n",
       "std      38.684281        0.903838                   2.361017   \n",
       "min    2454.000000       57.336449                   0.000000   \n",
       "25%    2874.000000       67.149533                   0.000000   \n",
       "50%    2875.000000       67.172897                   0.000000   \n",
       "75%    2875.000000       67.172897                   0.022669   \n",
       "max    2875.000000       67.172897                  20.088861   \n",
       "\n",
       "       nb_of_omitted_edges      nb_edges  \n",
       "count           254.000000    254.000000  \n",
       "mean            104.834646  21608.468504  \n",
       "std             520.769509    526.658905  \n",
       "min               0.000000  17282.000000  \n",
       "25%               0.000000  21710.250000  \n",
       "50%               0.000000  21715.000000  \n",
       "75%               5.000000  21715.000000  \n",
       "max            4431.000000  21715.000000  "
      ]
     },
     "execution_count": 38,
     "metadata": {},
     "output_type": "execute_result"
    }
   ],
   "source": [
    "df2.describe()"
   ]
  },
  {
   "cell_type": "code",
   "execution_count": 40,
   "metadata": {},
   "outputs": [
    {
     "data": {
      "text/html": [
       "<div>\n",
       "<style scoped>\n",
       "    .dataframe tbody tr th:only-of-type {\n",
       "        vertical-align: middle;\n",
       "    }\n",
       "\n",
       "    .dataframe tbody tr th {\n",
       "        vertical-align: top;\n",
       "    }\n",
       "\n",
       "    .dataframe thead th {\n",
       "        text-align: right;\n",
       "    }\n",
       "</style>\n",
       "<table border=\"1\" class=\"dataframe\">\n",
       "  <thead>\n",
       "    <tr style=\"text-align: right;\">\n",
       "      <th></th>\n",
       "      <th>instrument</th>\n",
       "      <th>nb_nodes</th>\n",
       "      <th>size_of_the_GC</th>\n",
       "      <th>fraction_of_omitted_edges</th>\n",
       "      <th>nb_of_omitted_edges</th>\n",
       "      <th>nb_edges</th>\n",
       "    </tr>\n",
       "  </thead>\n",
       "  <tbody>\n",
       "    <tr>\n",
       "      <th>9</th>\n",
       "      <td>vocals</td>\n",
       "      <td>2454</td>\n",
       "      <td>57.336449</td>\n",
       "      <td>20.088861</td>\n",
       "      <td>4431</td>\n",
       "      <td>17282</td>\n",
       "    </tr>\n",
       "    <tr>\n",
       "      <th>146</th>\n",
       "      <td>guitar</td>\n",
       "      <td>2558</td>\n",
       "      <td>59.766355</td>\n",
       "      <td>14.367321</td>\n",
       "      <td>3169</td>\n",
       "      <td>18512</td>\n",
       "    </tr>\n",
       "    <tr>\n",
       "      <th>181</th>\n",
       "      <td>drums</td>\n",
       "      <td>2703</td>\n",
       "      <td>63.154206</td>\n",
       "      <td>8.500703</td>\n",
       "      <td>1875</td>\n",
       "      <td>19767</td>\n",
       "    </tr>\n",
       "    <tr>\n",
       "      <th>78</th>\n",
       "      <td>piano</td>\n",
       "      <td>2709</td>\n",
       "      <td>63.294393</td>\n",
       "      <td>17.296096</td>\n",
       "      <td>3815</td>\n",
       "      <td>17898</td>\n",
       "    </tr>\n",
       "    <tr>\n",
       "      <th>71</th>\n",
       "      <td>recorder</td>\n",
       "      <td>2729</td>\n",
       "      <td>63.761682</td>\n",
       "      <td>9.022079</td>\n",
       "      <td>1990</td>\n",
       "      <td>19649</td>\n",
       "    </tr>\n",
       "    <tr>\n",
       "      <th>124</th>\n",
       "      <td>keyboards</td>\n",
       "      <td>2756</td>\n",
       "      <td>64.392523</td>\n",
       "      <td>12.485832</td>\n",
       "      <td>2754</td>\n",
       "      <td>18886</td>\n",
       "    </tr>\n",
       "    <tr>\n",
       "      <th>63</th>\n",
       "      <td>saxophone</td>\n",
       "      <td>2796</td>\n",
       "      <td>65.327103</td>\n",
       "      <td>7.163259</td>\n",
       "      <td>1580</td>\n",
       "      <td>20082</td>\n",
       "    </tr>\n",
       "    <tr>\n",
       "      <th>79</th>\n",
       "      <td>percussions</td>\n",
       "      <td>2801</td>\n",
       "      <td>65.443925</td>\n",
       "      <td>3.096523</td>\n",
       "      <td>683</td>\n",
       "      <td>21006</td>\n",
       "    </tr>\n",
       "    <tr>\n",
       "      <th>22</th>\n",
       "      <td>trumpet</td>\n",
       "      <td>2819</td>\n",
       "      <td>65.864486</td>\n",
       "      <td>3.599764</td>\n",
       "      <td>794</td>\n",
       "      <td>20892</td>\n",
       "    </tr>\n",
       "    <tr>\n",
       "      <th>138</th>\n",
       "      <td>harmonica</td>\n",
       "      <td>2828</td>\n",
       "      <td>66.074766</td>\n",
       "      <td>12.975473</td>\n",
       "      <td>2862</td>\n",
       "      <td>18835</td>\n",
       "    </tr>\n",
       "  </tbody>\n",
       "</table>\n",
       "</div>"
      ],
      "text/plain": [
       "      instrument  nb_nodes  size_of_the_GC  fraction_of_omitted_edges  \\\n",
       "9         vocals      2454       57.336449                  20.088861   \n",
       "146       guitar      2558       59.766355                  14.367321   \n",
       "181        drums      2703       63.154206                   8.500703   \n",
       "78         piano      2709       63.294393                  17.296096   \n",
       "71      recorder      2729       63.761682                   9.022079   \n",
       "124    keyboards      2756       64.392523                  12.485832   \n",
       "63     saxophone      2796       65.327103                   7.163259   \n",
       "79   percussions      2801       65.443925                   3.096523   \n",
       "22       trumpet      2819       65.864486                   3.599764   \n",
       "138    harmonica      2828       66.074766                  12.975473   \n",
       "\n",
       "     nb_of_omitted_edges  nb_edges  \n",
       "9                   4431     17282  \n",
       "146                 3169     18512  \n",
       "181                 1875     19767  \n",
       "78                  3815     17898  \n",
       "71                  1990     19649  \n",
       "124                 2754     18886  \n",
       "63                  1580     20082  \n",
       "79                   683     21006  \n",
       "22                   794     20892  \n",
       "138                 2862     18835  "
      ]
     },
     "execution_count": 40,
     "metadata": {},
     "output_type": "execute_result"
    }
   ],
   "source": [
    "df2.iloc[0:10,:]"
   ]
  },
  {
   "cell_type": "code",
   "execution_count": 18,
   "metadata": {},
   "outputs": [
    {
     "data": {
      "text/plain": [
       "PearsonRResult(statistic=-0.9095932051988409, pvalue=4.183013389773094e-98)"
      ]
     },
     "execution_count": 18,
     "metadata": {},
     "output_type": "execute_result"
    }
   ],
   "source": [
    "stats.pearsonr(df2[\"nb_nodes\"], df2[\"nb_of_omitted_edges\"])"
   ]
  },
  {
   "cell_type": "code",
   "execution_count": 15,
   "metadata": {},
   "outputs": [
    {
     "data": {
      "text/plain": [
       "PearsonRResult(statistic=-0.9917888461621526, pvalue=4.206727599543351e-227)"
      ]
     },
     "execution_count": 15,
     "metadata": {},
     "output_type": "execute_result"
    }
   ],
   "source": [
    "stats.pearsonr(df[\"nb_nodes\"], df[\"nb_of_omitted_edges\"])"
   ]
  }
 ],
 "metadata": {
  "kernelspec": {
   "display_name": "Python 3",
   "language": "python",
   "name": "python3"
  },
  "language_info": {
   "codemirror_mode": {
    "name": "ipython",
    "version": 3
   },
   "file_extension": ".py",
   "mimetype": "text/x-python",
   "name": "python",
   "nbconvert_exporter": "python",
   "pygments_lexer": "ipython3",
   "version": "3.9.13"
  }
 },
 "nbformat": 4,
 "nbformat_minor": 2
}
