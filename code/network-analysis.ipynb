{
 "cells": [
  {
   "cell_type": "markdown",
   "metadata": {},
   "source": [
    "# Master Thesis\n"
   ]
  },
  {
   "cell_type": "code",
   "execution_count": 122,
   "metadata": {},
   "outputs": [
    {
     "name": "stdout",
     "output_type": "stream",
     "text": [
      "The autoreload extension is already loaded. To reload it, use:\n",
      "  %reload_ext autoreload\n"
     ]
    }
   ],
   "source": [
    "from utils import *\n",
    "from network import *\n",
    "\n",
    "from collections import Counter\n",
    "import pandas as pd\n",
    "import json\n",
    "import math\n",
    "from scipy import stats\n",
    "\n",
    "%load_ext autoreload\n",
    "%autoreload 2\n",
    "net = Network()\n"
   ]
  },
  {
   "cell_type": "code",
   "execution_count": 7,
   "metadata": {},
   "outputs": [],
   "source": [
    "def get_results(centrality) : \n",
    "    artists_dict = dict()\n",
    "    for row in results : \n",
    "        for art in row['artists'] :\n",
    "            for c in  centrality:\n",
    "                if art['name'] == c :\n",
    "                    if art['name'] not in artists_dict.keys() :\n",
    "                        artists_dict[art['name']] = set()\n",
    "                    for r in art['role']:\n",
    "                        artists_dict[art['name']].add(r)\n",
    "                    break    \n",
    "    return artists_dict"
   ]
  },
  {
   "cell_type": "markdown",
   "metadata": {},
   "source": [
    "# Bipartite Graph"
   ]
  },
  {
   "cell_type": "code",
   "execution_count": 2,
   "metadata": {},
   "outputs": [],
   "source": [
    "results = None\n",
    "with open('../data/albums/jazz/album-final.json',encoding=\"UTF-8\") as f:\n",
    "        results = json.load(f)   "
   ]
  },
  {
   "cell_type": "code",
   "execution_count": 4,
   "metadata": {},
   "outputs": [],
   "source": [
    "bipartite_jazz_net =  net.build_bipartite_network(results,'title','artists','year')"
   ]
  },
  {
   "cell_type": "code",
   "execution_count": null,
   "metadata": {},
   "outputs": [],
   "source": [
    "centralities = net.get_bipartite_degree_centrality(bipartite_jazz_net)"
   ]
  },
  {
   "cell_type": "code",
   "execution_count": 95,
   "metadata": {},
   "outputs": [],
   "source": [
    "names  = centralities"
   ]
  },
  {
   "cell_type": "code",
   "execution_count": 73,
   "metadata": {},
   "outputs": [
    {
     "name": "stdout",
     "output_type": "stream",
     "text": [
      "1 - rudy van gelder - {'mixed', 'mastered', 'engineer', 'lacquer cut', 'recorded', 'remastered'}\n",
      "2 - manfred eicher - {'liner notes', 'mixed', 'mastered', 'producer', 'executive producer', 'supervised', 'co producer', 'engineer', 'technician', 'edited'}\n",
      "3 - francis wolff - {'design', 'photography', 'producer', 'cover'}\n",
      "4 - reid miles - {'cover', 'artwork', 'art direction', 'design', 'photography'}\n",
      "5 - alfred lion - {'producer'}\n",
      "6 - nat hentoff - {'supervised', 'liner notes', 'producer', 'sleeve notes'}\n",
      "7 - jan erik kongshaug - {'mixed', 'mastered', 'field recording', 'engineer', 'edited', 'recorded'}\n",
      "8 - ron carter - {'main artist', 'recorder', 'double bass', 'producer', 'soloist', 'composed', 'conductor', 'strings', 'written', 'arranged', 'cello', 'piccolo'}\n",
      "9 - creed taylor - {'producer'}\n",
      "10 - herbie hancock - {'main artist', 'organ', 'harp', 'drum programming', 'drum machine', 'conductor', 'written', 'featuring', 'producer', 'piano', 'performer', 'guest', 'percussion', 'arranged', 'synthesizer', 'vocals', 'mellotron', 'executive producer', 'soloist', 'vocoder', 'liner notes', 'backing vocals', 'clavinet', 'keyboards'}\n",
      "11 - orrin keepnews - {'mixed', 'producer', 'executive producer', 'compilation producer', 'supervised', 'engineer', 'remix', 'liner notes', 'sleeve notes'}\n",
      "12 - paul chambers - {'main artist', 'recorder', 'featuring'}\n",
      "13 - ira gitler - {'supervised', 'liner notes', 'sleeve notes'}\n",
      "14 - leonard feather - {'liner notes', 'producer', 'sleeve notes'}\n",
      "15 - chuck stewart - {'photography', 'bells', 'cover'}\n",
      "16 - bob thiele - {'mixed', 'producer', 'executive producer', 'supervised', 'liner notes', 'photography'}\n",
      "17 - greg calbi - {'mastered', 'engineer', 'lacquer cut'}\n",
      "18 - barbara wojirsch - {'design', 'cover', 'artwork', 'layout'}\n",
      "19 - sascha kleis - {'design', 'photography', 'layout'}\n",
      "20 - john zorn - {'main artist', 'vocals', 'producer', 'executive producer', 'saxophone', 'artwork', 'piano', 'composed', 'music', 'created', 'conductor', 'voice', 'arranged', 'liner notes', 'design', 'written'}\n"
     ]
    }
   ],
   "source": [
    "names  = centralities\n",
    "idx =1\n",
    "for n in names :\n",
    "    print(idx,\"-\",n,\"-\",get_results(centralities)[n])\n",
    "    idx+=1"
   ]
  },
  {
   "cell_type": "code",
   "execution_count": 8,
   "metadata": {},
   "outputs": [
    {
     "data": {
      "text/plain": [
       "14"
      ]
     },
     "execution_count": 8,
     "metadata": {},
     "output_type": "execute_result"
    }
   ],
   "source": [
    "len(get_results(centralities).keys())"
   ]
  },
  {
   "cell_type": "markdown",
   "metadata": {},
   "source": [
    "# jazz Album projection network "
   ]
  },
  {
   "cell_type": "code",
   "execution_count": 5,
   "metadata": {},
   "outputs": [
    {
     "name": "stdout",
     "output_type": "stream",
     "text": [
      "nb nodes:  4741\n",
      "nb edges:  369779\n",
      "Min node degree:  0\n",
      "Max node degree:  941\n",
      "Avg node degree:  155.99198481333053\n"
     ]
    }
   ],
   "source": [
    "albums = [x for x,y in bipartite_jazz_net.nodes(data=True) if y['type']=='Album']\n",
    "jazz_album_projection_network = nx.projected_graph(bipartite_jazz_net, albums, multigraph=False)\n",
    "#jazz_album_projection_network = net.build_album_projection_network(albums,'title','artists','year')\n",
    "net.get_network_info(jazz_album_projection_network)"
   ]
  },
  {
   "cell_type": "code",
   "execution_count": 13,
   "metadata": {},
   "outputs": [
    {
     "name": "stdout",
     "output_type": "stream",
     "text": [
      "get_avg_path_length:  2.8330139350781245\n"
     ]
    }
   ],
   "source": [
    "largest_cc = max(nx.connected_components(jazz_album_projection_network), key=len)\n",
    "largest_cc = jazz_album_projection_network.subgraph(largest_cc)\n",
    "net.get_avg_path_length(largest_cc)"
   ]
  },
  {
   "cell_type": "code",
   "execution_count": 25,
   "metadata": {},
   "outputs": [
    {
     "name": "stdout",
     "output_type": "stream",
     "text": [
      "Diameter :  11\n",
      "Density :  0.0329097014374115\n",
      "Nb connected components :  208\n",
      "Avg weighted degree :  2476025.6645222525\n",
      "Average clustering coefficient :  0.5362826376872663\n"
     ]
    }
   ],
   "source": [
    "net.get_diameter(largest_cc)\n",
    "net.get_density(jazz_album_projection_network)\n",
    "net.get_nb_of_connected_comp(jazz_album_projection_network)\n",
    "net.get_avg_weighted_degree(jazz_album_projection_network)\n",
    "net.get_avg_clustering_coefficent(jazz_album_projection_network)"
   ]
  },
  {
   "cell_type": "markdown",
   "metadata": {},
   "source": [
    "## clustering coefficient"
   ]
  },
  {
   "cell_type": "code",
   "execution_count": 22,
   "metadata": {},
   "outputs": [
    {
     "data": {
      "text/plain": [
       "337"
      ]
     },
     "execution_count": 22,
     "metadata": {},
     "output_type": "execute_result"
    }
   ],
   "source": [
    "nb_solo = 0\n",
    "for r in results : \n",
    "    if len(r['artists']) <= 3 :\n",
    "        nb_solo+=1\n",
    "nb_solo        "
   ]
  },
  {
   "cell_type": "code",
   "execution_count": 16,
   "metadata": {},
   "outputs": [
    {
     "name": "stdout",
     "output_type": "stream",
     "text": [
      "69\n"
     ]
    },
    {
     "data": {
      "image/png": "[encoded data removed]",
      "text/plain": [
       "<Figure size 640x480 with 1 Axes>"
      ]
     },
     "metadata": {},
     "output_type": "display_data"
    }
   ],
   "source": [
    "net.plot_hist_clustering_coeff_by_amount(jazz_album_projection_network)"
   ]
  },
  {
   "cell_type": "code",
   "execution_count": 23,
   "metadata": {},
   "outputs": [
    {
     "data": {
      "image/png": "[encoded data removed]",
      "text/plain": [
       "<Figure size 640x480 with 1 Axes>"
      ]
     },
     "metadata": {},
     "output_type": "display_data"
    }
   ],
   "source": [
    "net.plot_clustering_coeff_by_degree(jazz_album_projection_network)"
   ]
  },
  {
   "cell_type": "code",
   "execution_count": 108,
   "metadata": {},
   "outputs": [],
   "source": [
    "net.save_graph(jazz_album_projection_network,\"../networks/gephi/jazz_album_projection_network.gexf\")"
   ]
  },
  {
   "cell_type": "markdown",
   "metadata": {},
   "source": [
    "# Jazz collaborators network "
   ]
  },
  {
   "cell_type": "code",
   "execution_count": 7,
   "metadata": {},
   "outputs": [],
   "source": [
    "collaborators = [x for x,y in bipartite_jazz_net.nodes(data=True) if y['type']=='Artist']\n",
    "collaborators_projection_network = nx.projected_graph(bipartite_jazz_net, collaborators, multigraph=False) \n",
    "net.save_graph(collaborators_projection_network,\"../networks/gephi/jazz_collaborators_projection.gexf\")"
   ]
  },
  {
   "cell_type": "markdown",
   "metadata": {},
   "source": [
    "## General Network  info"
   ]
  },
  {
   "cell_type": "code",
   "execution_count": 15,
   "metadata": {},
   "outputs": [],
   "source": [
    "largest_cc = max(nx.connected_components(collaborators_projection_network), key=len)\n",
    "largest_cc = collaborators_projection_network.subgraph(largest_cc)"
   ]
  },
  {
   "cell_type": "code",
   "execution_count": 20,
   "metadata": {},
   "outputs": [
    {
     "name": "stdout",
     "output_type": "stream",
     "text": [
      "Diameter :  12\n",
      "Density :  0.0014801664464818677\n",
      "Nb connected components :  208\n",
      "Avg weighted degree :  3166474822.5064344\n",
      "Average clustering coefficient :  0.8453609697036518\n"
     ]
    }
   ],
   "source": [
    "net.get_network_info(collaborators_projection_network)      \n",
    "net.get_diameter(largest_cc)\n",
    "net.get_density(collaborators_projection_network)\n",
    "net.get_nb_of_connected_comp(collaborators_projection_network)\n",
    "net.get_avg_weighted_degree(collaborators_projection_network)\n",
    "net.get_avg_clustering_coefficent(collaborators_projection_network)\n",
    "net.get_avg_path_length(largest_cc)"
   ]
  },
  {
   "cell_type": "code",
   "execution_count": 113,
   "metadata": {},
   "outputs": [],
   "source": []
  },
  {
   "cell_type": "code",
   "execution_count": null,
   "metadata": {},
   "outputs": [],
   "source": [
    "top50musicians = sorted(collaborators_projection_network.degree, key=lambda x: x[1], reverse=True)\n",
    "top50musicians"
   ]
  },
  {
   "cell_type": "markdown",
   "metadata": {},
   "source": [
    "## Local Clustering coefficient"
   ]
  },
  {
   "cell_type": "code",
   "execution_count": 43,
   "metadata": {},
   "outputs": [
    {
     "name": "stdout",
     "output_type": "stream",
     "text": [
      "153\n"
     ]
    },
    {
     "data": {
      "image/png": "[encoded data removed]",
      "text/plain": [
       "<Figure size 640x480 with 1 Axes>"
      ]
     },
     "metadata": {},
     "output_type": "display_data"
    }
   ],
   "source": [
    "net.plot_hist_clustering_coeff_by_amount(collaborators_projection_network)"
   ]
  },
  {
   "cell_type": "code",
   "execution_count": 37,
   "metadata": {},
   "outputs": [
    {
     "data": {
      "image/png": "[encoded data removed]",
      "text/plain": [
       "<Figure size 640x480 with 1 Axes>"
      ]
     },
     "metadata": {},
     "output_type": "display_data"
    }
   ],
   "source": [
    "net.plot_clustering_coeff_by_degree(collaborators_projection_network)"
   ]
  },
  {
   "cell_type": "markdown",
   "metadata": {},
   "source": [
    "## Centralities Analysis"
   ]
  },
  {
   "cell_type": "markdown",
   "metadata": {},
   "source": [
    "### Degree centralities"
   ]
  },
  {
   "cell_type": "code",
   "execution_count": 106,
   "metadata": {},
   "outputs": [],
   "source": [
    "top_artists_names = net.get_degree_centrality(collaborators_projection_network)[0]\n",
    "idx = 1\n",
    "for n in top_artists_names :\n",
    "    print(idx,\"-\",n,\"-\",get_results(top_artists_names)[n])\n",
    "    idx+=1"
   ]
  },
  {
   "cell_type": "markdown",
   "metadata": {},
   "source": [
    "### Eigenvector centralities"
   ]
  },
  {
   "cell_type": "code",
   "execution_count": null,
   "metadata": {},
   "outputs": [],
   "source": [
    "top_artists_names = net.get_eigenvector_centrality(collaborators_projection_network)[0]\n",
    "idx = 1\n",
    "for n in top_artists_names :\n",
    "    print(idx,\"-\",n,\"-\",get_results(top_artists_names)[n])\n",
    "    idx+=1"
   ]
  },
  {
   "cell_type": "markdown",
   "metadata": {},
   "source": [
    "### Betweenness centrality"
   ]
  },
  {
   "cell_type": "code",
   "execution_count": null,
   "metadata": {},
   "outputs": [],
   "source": [
    "top_artists_names = net.get_betweenness_centrality(collaborators_projection_network)[0]\n",
    "idx = 1\n",
    "for n in top_artists_names :\n",
    "    print(idx,\"-\",n,\"-\",get_results(top_artists_names)[n])\n",
    "    idx+=1"
   ]
  },
  {
   "cell_type": "markdown",
   "metadata": {},
   "source": [
    "### Correlation between the centralities "
   ]
  },
  {
   "cell_type": "code",
   "execution_count": 9,
   "metadata": {},
   "outputs": [
    {
     "name": "stdout",
     "output_type": "stream",
     "text": [
      "Spearman corr between projected degree k and betweenness centrality SignificanceResult(statistic=0.9988715437443674, pvalue=2.8063564772254223e-25)\n",
      "Spearman corr between projected degree k and eigenvector centrality is  SignificanceResult(statistic=0.950163493671981, pvalue=1.502221594959727e-10)\n",
      "Spearman corr between betweenness centrality and eigenvector centrality SignificanceResult(statistic=0.950163493671981, pvalue=1.502221594959727e-10)\n"
     ]
    }
   ],
   "source": [
    "names = net.get_spearman_corr(collaborators_projection_network)"
   ]
  },
  {
   "cell_type": "code",
   "execution_count": 40,
   "metadata": {},
   "outputs": [
    {
     "data": {
      "text/plain": [
       "{'al schmitt',\n",
       " 'bernie grundman',\n",
       " 'bill frisell',\n",
       " 'bob ludwig',\n",
       " 'chick corea',\n",
       " 'dave holland',\n",
       " 'david baker',\n",
       " 'evan parker',\n",
       " 'greg calbi',\n",
       " 'herbie hancock',\n",
       " 'hermeto pascoal',\n",
       " 'jack dejohnette',\n",
       " 'jan erik kongshaug',\n",
       " 'kenny wheeler',\n",
       " 'manfred eicher',\n",
       " 'martin s. gold',\n",
       " 'ron carter',\n",
       " 'rudy van gelder',\n",
       " 'scott hull',\n",
       " 'wayne shorter'}"
      ]
     },
     "execution_count": 40,
     "metadata": {},
     "output_type": "execute_result"
    }
   ],
   "source": [
    "artists_dict = dict()\n",
    "artist_set = set()\n",
    "for c in names:\n",
    "   artist_set.add(collaborators_projection_network.nodes[c]['name'])\n",
    "artist_set"
   ]
  },
  {
   "cell_type": "markdown",
   "metadata": {},
   "source": [
    "# All Time album Network"
   ]
  },
  {
   "cell_type": "code",
   "execution_count": 4,
   "metadata": {},
   "outputs": [],
   "source": [
    "albums = None\n",
    "with open('../data/albums/all_time_album-final.json',encoding=\"UTF-8\") as f:\n",
    "        albums = json.load(f)   "
   ]
  },
  {
   "cell_type": "code",
   "execution_count": 33,
   "metadata": {},
   "outputs": [
    {
     "name": "stdout",
     "output_type": "stream",
     "text": [
      "nb nodes:  3971\n",
      "nb edges:  46696\n",
      "Min node degree:  0\n",
      "Max node degree:  200\n",
      "Avg node degree:  23.518509191639385\n"
     ]
    }
   ],
   "source": [
    "album_projection_network = net.build_album_projection_network(albums,'title','artists')\n",
    "net.get_network_info(album_projection_network)"
   ]
  },
  {
   "cell_type": "code",
   "execution_count": 34,
   "metadata": {},
   "outputs": [],
   "source": [
    "net.save_graph(album_projection_network,\"../networks/gephi/all_time_album_projection.gexf\")"
   ]
  },
  {
   "cell_type": "code",
   "execution_count": 30,
   "metadata": {},
   "outputs": [
    {
     "name": "stdout",
     "output_type": "stream",
     "text": [
      "nb nodes:  27406\n",
      "nb edges:  37354\n",
      "Min node degree:  1\n",
      "Max node degree:  153\n",
      "Avg node degree:  2.725972414799679\n"
     ]
    }
   ],
   "source": [
    "collaborators_projection_network = net.build_collaborators_projection_network(albums,'artists')\n",
    "net.get_network_info(collaborators_projection_network)     "
   ]
  },
  {
   "cell_type": "code",
   "execution_count": 31,
   "metadata": {},
   "outputs": [],
   "source": [
    "net.save_graph(collaborators_projection_network,\"../networks/gephi/all_time_collaborators_projection.gexf\")"
   ]
  },
  {
   "cell_type": "markdown",
   "metadata": {},
   "source": [
    "# Montreux"
   ]
  },
  {
   "cell_type": "code",
   "execution_count": 123,
   "metadata": {},
   "outputs": [],
   "source": [
    "mjf = None\n",
    "with open('../data/mjf/mfj_export_clean-final.json',encoding=\"UTF-8\") as f:\n",
    "        mjf = json.load(f)      \n",
    "results = mjf"
   ]
  },
  {
   "cell_type": "code",
   "execution_count": 124,
   "metadata": {},
   "outputs": [],
   "source": [
    "def get_results_bipartite(c) : \n",
    "    artists_dict = dict()\n",
    "    for row in results : \n",
    "        for art in row['musicians'] :\n",
    "                if art['name'] == c :\n",
    "                    if art['name'] not in artists_dict.keys() :\n",
    "                        artists_dict[art['name']] = list()\n",
    "                    for r in art['role']:\n",
    "                        artists_dict[art['name']].append(r)\n",
    "                    break    \n",
    "    return artists_dict"
   ]
  },
  {
   "cell_type": "code",
   "execution_count": 16,
   "metadata": {},
   "outputs": [],
   "source": [
    "def get_results(c) : \n",
    "    artists_dict = dict()\n",
    "    for row in results : \n",
    "        for art in row['musicians'] :\n",
    "                if art['id'] == int(str(c)[3:]) :\n",
    "                    if art['name'] not in artists_dict.keys() :\n",
    "                        artists_dict[art['name']] = list()\n",
    "                   \n",
    "                    for r in art['role']:\n",
    "                        artists_dict[art['name']].append(r)\n",
    "                    break    \n",
    "                \n",
    "    return artists_dict"
   ]
  },
  {
   "cell_type": "code",
   "execution_count": 17,
   "metadata": {},
   "outputs": [],
   "source": [
    "def get_details_by_centrality(centrality) :\n",
    "    idx = 1\n",
    "    for n in centrality :\n",
    "        result = get_results(n)\n",
    "        print(idx,\"-\",list(result.keys())[0],\"-\",Counter(list(result.values())[0]))\n",
    "        idx+=1"
   ]
  },
  {
   "cell_type": "markdown",
   "metadata": {},
   "source": [
    "## Bipartite Graph"
   ]
  },
  {
   "cell_type": "code",
   "execution_count": 125,
   "metadata": {},
   "outputs": [],
   "source": [
    "bipartite_mjf_net = net.build_bipartite_network(results,'name','musicians','date','categories',2000)"
   ]
  },
  {
   "cell_type": "code",
   "execution_count": 98,
   "metadata": {},
   "outputs": [],
   "source": [
    "bd_centralities = net.get_bipartite_degree_centrality(bipartite_mjf_net)[0][:20]"
   ]
  },
  {
   "cell_type": "code",
   "execution_count": 112,
   "metadata": {},
   "outputs": [
    {
     "name": "stdout",
     "output_type": "stream",
     "text": [
      "1 - claude nobs - Counter({'harmonica': 63, 'harp': 1, 'vocals': 1, 'percussions': 1})\n",
      "2 - george duke - Counter({'keyboards': 33, 'piano': 30, 'vocals': 4, 'synthesizer': 1})\n",
      "3 - herbie hancock - Counter({'piano': 35, 'keyboards': 14})\n",
      "4 - david sanborn - Counter({'saxophone': 32})\n",
      "5 - joe sample - Counter({'piano': 19, 'keyboards': 9})\n",
      "6 - al jarreau - Counter({'vocals': 22, 'vocal': 1, 'marimba': 1, 'drums': 1})\n",
      "7 - george benson - Counter({'guitar': 23, 'vocals': 22})\n",
      "8 - john mclaughlin - Counter({'guitar': 25, 'vocals': 1})\n",
      "9 - monty alexander - Counter({'piano': 21, 'keyboards': 3})\n",
      "10 - b.b. king - Counter({'guitar': 22, 'vocals': 17})\n",
      "11 - chick corea - Counter({'piano': 21, 'keyboards': 5, 'organ': 1})\n",
      "12 - carlos santana - Counter({'guitar': 18, 'vocals': 4, 'percussions': 1})\n",
      "13 - nathan east - Counter({'recorder': 23, 'vocals': 3})\n",
      "14 - quincy jones - Counter({'vocals': 4})\n",
      "15 - van morrison - Counter({'vocals': 21, 'guitar': 11, 'saxophone': 11, 'harmonica': 8, 'piano': 2, 'vocal': 1, 'keyboards': 1})\n",
      "16 - james \"boogaloo\" bolden - Counter({'trumpet': 19})\n",
      "17 - marcus miller - Counter({'recorder': 19, 'clarinet': 6, 'saxophone': 4, 'vocals': 2, 'turntables': 1, 'double bass': 1, 'keyboards': 1, 'gumbri': 1})\n",
      "18 - chaka khan - Counter({'vocals': 20})\n",
      "19 - calep emphrey, jr. - Counter({'drums': 20})\n",
      "20 - billy cobham - Counter({'drums': 19, 'percussions': 1})\n"
     ]
    }
   ],
   "source": [
    "get_details_by_centrality(bd_centralities)"
   ]
  },
  {
   "cell_type": "markdown",
   "metadata": {},
   "source": [
    "## Events Network"
   ]
  },
  {
   "cell_type": "code",
   "execution_count": 9,
   "metadata": {},
   "outputs": [
    {
     "name": "stdout",
     "output_type": "stream",
     "text": [
      "nb nodes:  2059\n",
      "nb edges:  9352\n",
      "Min node degree:  0\n",
      "Max node degree:  159\n",
      "Avg node degree:  9.084021369596892\n"
     ]
    }
   ],
   "source": [
    "#mjf_event_net = net.build_album_projection_network(results,'name','musicians','date')\n",
    "albums = [x for x,y in bipartite_mjf_net.nodes(data=True) if y['type']=='Album']\n",
    "mjf_event_net = nx.projected_graph(bipartite_mjf_net, albums, multigraph=False)\n",
    "net.get_network_info(mjf_event_net)\n"
   ]
  },
  {
   "cell_type": "code",
   "execution_count": 7,
   "metadata": {},
   "outputs": [
    {
     "name": "stdout",
     "output_type": "stream",
     "text": [
      "nb nodes : 2875\n",
      "percentage of nodes in the giant component:  67.17289719626169 %\n"
     ]
    }
   ],
   "source": [
    "largest_cc = max(nx.connected_components(mjf_event_net), key=len)\n",
    "largest_cc = mjf_event_net.subgraph(largest_cc)\n",
    "print(\"nb nodes :\", len(largest_cc))\n",
    "print(\"percentage of nodes in the giant component: \",(len(largest_cc) *100)/len(mjf_event_net),\"%\")"
   ]
  },
  {
   "cell_type": "code",
   "execution_count": 15,
   "metadata": {},
   "outputs": [
    {
     "name": "stdout",
     "output_type": "stream",
     "text": [
      "Diameter :  17\n",
      "Density :  0.0024087425440042984\n",
      "Nb connected components :  1133\n",
      "Average clustering coefficient :  0.38695234543548535\n"
     ]
    }
   ],
   "source": [
    "largest_cc = max(nx.connected_components(mjf_event_net), key=len)\n",
    "largest_cc = mjf_event_net.subgraph(largest_cc)\n",
    "net.get_diameter(largest_cc)\n",
    "net.get_density(mjf_event_net)\n",
    "net.get_nb_of_connected_comp(mjf_event_net)\n",
    "#net.get_avg_weighted_degree(mjf_event_net)\n",
    "net.get_avg_clustering_coefficent(mjf_event_net)"
   ]
  },
  {
   "cell_type": "code",
   "execution_count": 24,
   "metadata": {},
   "outputs": [],
   "source": [
    "net.save_graph(mjf_event_net,\"../networks/gephi/mjf_event_graph.gexf\")"
   ]
  },
  {
   "cell_type": "markdown",
   "metadata": {},
   "source": [
    "## Collaboration network "
   ]
  },
  {
   "cell_type": "code",
   "execution_count": 126,
   "metadata": {},
   "outputs": [
    {
     "name": "stdout",
     "output_type": "stream",
     "text": [
      "nb nodes:  8842\n",
      "nb edges:  52059\n",
      "Min node degree:  0\n",
      "Max node degree:  374\n",
      "Avg node degree:  11.775390183216468\n"
     ]
    }
   ],
   "source": [
    "collaborators = [x for x,y in bipartite_mjf_net.nodes(data=True) if y['type']=='Artist']\n",
    "mjf_collaboration_net = nx.projected_graph(bipartite_mjf_net, collaborators, multigraph=False)\n",
    "net.get_network_info(mjf_collaboration_net)"
   ]
  },
  {
   "cell_type": "code",
   "execution_count": null,
   "metadata": {},
   "outputs": [],
   "source": [
    "net.save_graph(mjf_collaboration_net,\"../networks/gephi/mjf_collaboration_network.gexf\")"
   ]
  },
  {
   "cell_type": "markdown",
   "metadata": {},
   "source": [
    "### Clusterirng "
   ]
  },
  {
   "cell_type": "code",
   "execution_count": 18,
   "metadata": {},
   "outputs": [
    {
     "name": "stdout",
     "output_type": "stream",
     "text": [
      "133\n"
     ]
    },
    {
     "data": {
      "image/png": "[encoded data removed]",
      "text/plain": [
       "<Figure size 640x480 with 1 Axes>"
      ]
     },
     "metadata": {},
     "output_type": "display_data"
    }
   ],
   "source": [
    "net.plot_hist_clustering_coeff_by_amount(mjf_collaboration_net)"
   ]
  },
  {
   "cell_type": "code",
   "execution_count": 20,
   "metadata": {},
   "outputs": [
    {
     "data": {
      "image/png": "[encoded data removed]",
      "text/plain": [
       "<Figure size 640x480 with 1 Axes>"
      ]
     },
     "metadata": {},
     "output_type": "display_data"
    }
   ],
   "source": [
    "net.plot_clustering_coeff_by_degree(mjf_collaboration_net)"
   ]
  },
  {
   "cell_type": "code",
   "execution_count": 9,
   "metadata": {},
   "outputs": [
    {
     "name": "stdout",
     "output_type": "stream",
     "text": [
      "nb nodes : 11727\n",
      "percentage of nodes in the giant component:  66.48336073473553 %\n"
     ]
    }
   ],
   "source": [
    "largest_cc = max(nx.connected_components(mjf_collaboration_net), key=len)\n",
    "largest_cc = mjf_collaboration_net.subgraph(largest_cc)\n",
    "print(\"nb nodes :\", len(largest_cc))\n",
    "#percentage of nodes in the giant component :\n",
    "print(\"percentage of nodes in the giant component: \",(len(largest_cc) *100)/len(mjf_collaboration_net),\"%\")"
   ]
  },
  {
   "cell_type": "code",
   "execution_count": 17,
   "metadata": {},
   "outputs": [
    {
     "name": "stdout",
     "output_type": "stream",
     "text": [
      "Diameter :  18\n",
      "Density :  0.000695751827283887\n",
      "Nb connected components :  1133\n",
      "Average clustering coefficient :  0.8844055712809402\n"
     ]
    }
   ],
   "source": [
    "largest_cc = max(nx.connected_components(mjf_collaboration_net), key=len)\n",
    "largest_cc = mjf_collaboration_net.subgraph(largest_cc)\n",
    "net.get_diameter(largest_cc)\n",
    "net.get_density(mjf_collaboration_net)\n",
    "net.get_nb_of_connected_comp(mjf_collaboration_net)\n",
    "#net.get_avg_weighted_degree(mjf_collaboration_net)\n",
    "net.get_avg_clustering_coefficent(mjf_collaboration_net)"
   ]
  },
  {
   "cell_type": "markdown",
   "metadata": {},
   "source": [
    "## Centralities"
   ]
  },
  {
   "cell_type": "code",
   "execution_count": 8,
   "metadata": {},
   "outputs": [],
   "source": [
    "def get_gender_dist_by_genre(ids,df):\n",
    "    gender_dist_by_genre_dict = dict()\n",
    "    for id in ids :\n",
    "        result = get_results(id)\n",
    "        genres_dist = dict(Counter(list(result.values())[0]))\n",
    "        #representative_genre = max(genres_dist,key=genres_dist.get)\n",
    "        for key, value in genres_dist.items():\n",
    "        \n",
    "            if key not in list(gender_dist_by_genre_dict.keys()) :\n",
    "                gender_dist_by_genre_dict[key] = [0,0,0] #male,female,other\n",
    "              \n",
    "            current_gender = df[df[\"id\"] == int(str(id)[3:])][\"gender\"].iloc[0]\n",
    "            if current_gender == \"male\" :\n",
    "                gender_dist_by_genre_dict[key][0]+=value\n",
    "            elif current_gender == \"female\":\n",
    "                gender_dist_by_genre_dict[key][1]+=value\n",
    "            elif  current_gender == \"other\":\n",
    "                gender_dist_by_genre_dict[key][2]+=value\n",
    "    \n",
    "    return gender_dist_by_genre_dict"
   ]
  },
  {
   "cell_type": "code",
   "execution_count": 14,
   "metadata": {},
   "outputs": [],
   "source": [
    "def get_role_dist_female_detailed(ids,df):\n",
    "    role_dist_female_dict = dict()\n",
    "    for id in ids :\n",
    "        result = get_results(id)\n",
    "        genres_dist = dict(Counter(list(result.values())[0]))\n",
    "        #representative_genre = max(genres_dist,key=genres_dist.get)\n",
    "        for key, value in genres_dist.items():\n",
    "       \n",
    "            if key not in list(role_dist_female_dict.keys()):\n",
    "                role_dist_female_dict[key] = 0 #female    \n",
    "                \n",
    "            current_gender = df[df[\"id\"] == int(str(id)[3:])][\"gender\"].iloc[0]\n",
    "         \n",
    "            if current_gender == \"female\":\n",
    "                role_dist_female_dict[key] += value\n",
    "        \n",
    "    return role_dist_female_dict"
   ]
  },
  {
   "cell_type": "code",
   "execution_count": 9,
   "metadata": {},
   "outputs": [],
   "source": [
    "def get_role_dist_female(ids,df):\n",
    "    role_dist_female_dict = dict()\n",
    "    for id in ids :\n",
    "        result = get_results(id)\n",
    "        genres_dist = dict(Counter(list(result.values())[0]))\n",
    "        #representative_genre = max(genres_dist,key=genres_dist.get)\n",
    "        for key, value in genres_dist.items():\n",
    "            current_role = key\n",
    "            if key == \"vocal\" or key==\"vocals\" :\n",
    "                current_role = \"vocal\"\n",
    "            else :\n",
    "                current_role = \"instrument\"\n",
    "\n",
    "            if current_role not in list(role_dist_female_dict.keys()):\n",
    "                role_dist_female_dict[current_role] = 0 #female    \n",
    "                \n",
    "            current_gender = df[df[\"id\"] == int(str(id)[3:])][\"gender\"].iloc[0]\n",
    "         \n",
    "            if current_gender == \"female\":\n",
    "                role_dist_female_dict[current_role] += value\n",
    "        \n",
    "    return role_dist_female_dict"
   ]
  },
  {
   "cell_type": "markdown",
   "metadata": {},
   "source": [
    "### Degree centrality Before 2000"
   ]
  },
  {
   "cell_type": "code",
   "execution_count": 127,
   "metadata": {},
   "outputs": [
    {
     "name": "stdout",
     "output_type": "stream",
     "text": [
      "1 - claude nobs - Counter({'harmonica': 63, 'harp': 1, 'vocals': 1, 'percussions': 1})\n",
      "2 - george duke - Counter({'keyboards': 33, 'piano': 30, 'vocals': 4, 'synthesizer': 1})\n",
      "3 - quincy jones - Counter({'vocals': 4})\n",
      "4 - nathan east - Counter({'recorder': 23, 'vocals': 3})\n",
      "5 - chaka khan - Counter({'vocals': 20})\n",
      "6 - steve ferrone - Counter({'drums': 14, 'percussions': 2})\n",
      "7 - toots thielemans - Counter({'harmonica': 13, 'guitar': 3})\n",
      "8 - greg phillinganes - Counter({'keyboards': 13, 'vocals': 2, 'piano': 2})\n",
      "9 - howard johnson - Counter({'tuba': 8, 'saxophone': 6, 'recorder': 1, 'clarinet': 1})\n",
      "10 - james \"hutch\" hutchinson - Counter({'recorder': 4, 'vocals': 1})\n",
      "11 - david sanborn - Counter({'saxophone': 32})\n",
      "12 - john marshall - Counter({'trumpet': 7, 'drums': 3})\n",
      "13 - keith wilson - Counter({'vocal': 2, 'drums': 1, 'vocals': 1})\n",
      "14 - carmen momon - Counter()\n",
      "15 - linda d. cummings - Counter()\n",
      "16 - penny ray - Counter()\n",
      "17 - ray cooper - Counter({'percussions': 8})\n",
      "18 - rachelle ferrell - Counter({'vocals': 20, 'piano': 4, 'keyboards': 1})\n",
      "19 - paul milton jackson. jr - Counter({'guitar': 8})\n",
      "20 - tom \"bones\" malone - Counter({'trombone': 6, 'tuba': 2, 'synthesizer': 1, 'piccolo': 1})\n",
      "21 - milt jackson - Counter({'vibraphone': 19})\n"
     ]
    }
   ],
   "source": [
    "d_centralities = net.get_degree_centrality(mjf_collaboration_net)[0]\n",
    "get_details_by_centrality(d_centralities[:21])"
   ]
  },
  {
   "cell_type": "markdown",
   "metadata": {},
   "source": [
    "#### Degree centrality After 2000"
   ]
  },
  {
   "cell_type": "code",
   "execution_count": 104,
   "metadata": {},
   "outputs": [
    {
     "name": "stdout",
     "output_type": "stream",
     "text": [
      "1 - claude nobs - Counter({'harmonica': 63, 'harp': 1, 'vocals': 1, 'percussions': 1})\n",
      "2 - herbie hancock - Counter({'piano': 35, 'keyboards': 14})\n",
      "3 - angélique kidjo - Counter({'vocals': 17})\n",
      "4 - pepe lienhard - Counter({'flute': 1, 'saxophone': 1})\n",
      "5 - patti austin - Counter({'vocals': 11})\n",
      "6 - lee ritenour - Counter({'guitar': 17})\n",
      "7 - adrian pflugshaupt - Counter({'saxophone': 6, 'flute': 1})\n",
      "8 - ibrahim maalouf - Counter({'trumpet': 6, 'keyboards': 1})\n",
      "9 - ronan yvin - Counter({'trombone': 2, 'recorder': 1})\n",
      "10 - quincy jones - Counter({'vocals': 4})\n",
      "11 - fanny martin-loren - Counter({'violin': 1})\n",
      "12 - wolf schenk - Counter({'trombone': 3, 'recorder': 1})\n",
      "13 - monty alexander - Counter({'piano': 21, 'keyboards': 3})\n",
      "14 - gilbert tinner - Counter({'trombone': 3})\n",
      "15 - jon batiste - Counter({'piano': 3, 'vocals': 2, 'melodica': 1})\n",
      "16 - paolo nutini - Counter({'vocals': 9, 'guitar': 2, 'vocal': 1})\n",
      "17 - katia trabé - Counter()\n",
      "18 - tamara elias - Counter()\n",
      "19 - lilia leutenegger-chepikova - Counter()\n",
      "20 - yevgeniya suminova - Counter()\n",
      "21 - nadia strijbos - Counter()\n"
     ]
    }
   ],
   "source": [
    "d_centralities = net.get_degree_centrality(mjf_collaboration_net)[0]\n",
    "get_details_by_centrality(d_centralities[:21])"
   ]
  },
  {
   "cell_type": "markdown",
   "metadata": {},
   "source": [
    "### Pie chart "
   ]
  },
  {
   "cell_type": "code",
   "execution_count": 56,
   "metadata": {},
   "outputs": [],
   "source": [
    "df = pd.read_csv(\"../data/artists/mjf_art_gender.csv\",sep=\",\")"
   ]
  },
  {
   "cell_type": "code",
   "execution_count": 189,
   "metadata": {},
   "outputs": [],
   "source": [
    "gender_dist_by_genre = get_gender_dist_by_genre(d_centralities,df)"
   ]
  },
  {
   "cell_type": "code",
   "execution_count": 44,
   "metadata": {},
   "outputs": [],
   "source": [
    "female_role_dist = get_role_dist_female(d_centralities,df)"
   ]
  },
  {
   "cell_type": "code",
   "execution_count": 128,
   "metadata": {},
   "outputs": [],
   "source": [
    "female_role_dist_detailed = get_role_dist_female_detailed(d_centralities,df)"
   ]
  },
  {
   "cell_type": "code",
   "execution_count": 190,
   "metadata": {},
   "outputs": [
    {
     "data": {
      "text/plain": [
       "{'R&B/Soul & blues': [3424, 479, 0],\n",
       " 'Jazz': [6335, 535, 0],\n",
       " 'Rock/Metal': [1560, 142, 0],\n",
       " 'Hip-Hop/Rap': [259, 29, 0],\n",
       " 'World Music': [2259, 368, 0],\n",
       " 'Classical/Contemporary': [137, 17, 0],\n",
       " 'Pop': [859, 153, 0],\n",
       " 'Folk': [472, 61, 0],\n",
       " 'Other': [441, 126, 0],\n",
       " 'Electronic/Dance': [364, 65, 0]}"
      ]
     },
     "execution_count": 190,
     "metadata": {},
     "output_type": "execute_result"
    }
   ],
   "source": [
    "gender_dist_by_genre"
   ]
  },
  {
   "cell_type": "code",
   "execution_count": 45,
   "metadata": {},
   "outputs": [
    {
     "data": {
      "text/plain": [
       "{'instrument': 915, 'vocal': 1044}"
      ]
     },
     "execution_count": 45,
     "metadata": {},
     "output_type": "execute_result"
    }
   ],
   "source": [
    "female_role_dist"
   ]
  },
  {
   "cell_type": "code",
   "execution_count": 129,
   "metadata": {},
   "outputs": [],
   "source": [
    "temp_dict = female_role_dist_detailed"
   ]
  },
  {
   "cell_type": "code",
   "execution_count": 130,
   "metadata": {},
   "outputs": [],
   "source": [
    "del temp_dict['vocals']\n",
    "del temp_dict['vocal']\n",
    "female_role_dist_detailed_srt = dict(sorted(temp_dict.items(), key=lambda item: item[1],reverse=True))\n",
    "female_role_dist_detailed_final = dict(list(female_role_dist_detailed_srt.items())[0:10])"
   ]
  },
  {
   "cell_type": "code",
   "execution_count": 131,
   "metadata": {},
   "outputs": [],
   "source": [
    "dict_other = dict(list(female_role_dist_detailed_srt.items())[11:])\n",
    "sum_other = sum(dict_other.values())\n",
    "female_role_dist_detailed_final[\"other\"] = sum_other"
   ]
  },
  {
   "cell_type": "code",
   "execution_count": 132,
   "metadata": {},
   "outputs": [
    {
     "data": {
      "text/plain": [
       "dict_values([8, 7, 6, 5, 4, 4, 3, 3, 3, 2, 2, 2, 1, 1, 1, 1, 1, 1, 1, 1, 1, 1, 1, 1, 1, 1, 1, 1, 1, 1, 1, 1, 1, 0, 0, 0, 0, 0, 0, 0, 0, 0, 0, 0, 0, 0, 0, 0, 0, 0, 0, 0, 0, 0, 0, 0, 0, 0, 0, 0, 0, 0, 0, 0, 0, 0, 0, 0, 0, 0, 0, 0, 0, 0, 0, 0, 0, 0, 0, 0, 0, 0, 0, 0, 0, 0, 0, 0, 0, 0, 0, 0, 0, 0, 0, 0, 0, 0, 0, 0, 0, 0, 0, 0, 0, 0, 0, 0, 0, 0, 0, 0, 0, 0, 0, 0, 0, 0, 0, 0, 0, 0, 0, 0, 0, 0, 0, 0, 0, 0, 0, 0, 0, 0, 0, 0, 0, 0, 0, 0, 0, 0, 0, 0, 0, 0, 0, 0, 0, 0, 0, 0, 0, 0, 0, 0, 0, 0, 0, 0, 0, 0, 0, 0, 0, 0, 0, 0, 0, 0, 0, 0, 0, 0, 0])"
      ]
     },
     "execution_count": 132,
     "metadata": {},
     "output_type": "execute_result"
    }
   ],
   "source": [
    "dict_other.values()"
   ]
  },
  {
   "cell_type": "code",
   "execution_count": null,
   "metadata": {},
   "outputs": [],
   "source": [
    "\n",
    "dict(sorted(dict_other.items(), key=lambda item: item[1],reverse=True))"
   ]
  },
  {
   "cell_type": "code",
   "execution_count": 135,
   "metadata": {},
   "outputs": [
    {
     "data": {
      "text/plain": [
       "501"
      ]
     },
     "execution_count": 135,
     "metadata": {},
     "output_type": "execute_result"
    }
   ],
   "source": [
    "female_role_dist_detailed_final\n",
    "sum(female_role_dist_detailed_final.values())"
   ]
  },
  {
   "cell_type": "code",
   "execution_count": 182,
   "metadata": {},
   "outputs": [],
   "source": [
    "#Gender distribution\n",
    "genders = list()\n",
    "for id in d_centralities  :\n",
    "    gender = df[df[\"id\"] == int(str(id)[3:])][\"gender\"].iloc[0]\n",
    "    if gender != \"unknown\":\n",
    "        genders.append(gender)"
   ]
  },
  {
   "cell_type": "code",
   "execution_count": 183,
   "metadata": {},
   "outputs": [
    {
     "data": {
      "text/plain": [
       "male      395\n",
       "female    105\n",
       "dtype: int64"
      ]
     },
     "execution_count": 183,
     "metadata": {},
     "output_type": "execute_result"
    }
   ],
   "source": [
    "pd.Series(Counter(genders))"
   ]
  },
  {
   "cell_type": "code",
   "execution_count": 185,
   "metadata": {},
   "outputs": [
    {
     "data": {
      "image/png": "[encoded data removed]",
      "text/plain": [
       "<Figure size 640x480 with 1 Axes>"
      ]
     },
     "metadata": {},
     "output_type": "display_data"
    }
   ],
   "source": [
    "#Counter(genders)\n",
    "y =  pd.Series(Counter(genders))\n",
    "mylabels = [\"male\", \"female\"]\n",
    "colors = cm.rainbow(np.linspace(0, 1, len(mylabels)))\n",
    "plt.pie(y, labels = mylabels,startangle = 70, autopct=lambda x: '{:.0f}'.format(x*y.sum()/100),colors=colors)\n",
    "plt.legend(title = \"Genders repartition\",loc=\"upper left\")\n",
    "plt.savefig(\"../data/repartition/gender_bf_2000_top500.png\", format=\"png\",transparent=True)\n",
    "plt.show() "
   ]
  },
  {
   "cell_type": "code",
   "execution_count": 191,
   "metadata": {},
   "outputs": [
    {
     "data": {
      "image/png": "[encoded data removed]",
      "text/plain": [
       "<Figure size 1000x600 with 1 Axes>"
      ]
     },
     "metadata": {},
     "output_type": "display_data"
    }
   ],
   "source": [
    "c = []\n",
    "v = []             \n",
    "for key, val in gender_dist_by_genre.items():\n",
    "    c.append(key)\n",
    "    v.append(val)\n",
    "v = np.array(v)\n",
    "fig, ax = plt.subplots(figsize=(10,6))\n",
    "\n",
    "\n",
    "p= plt.bar(range(len(c)), v[:,0],label=\"Male\",color=\"#f39d47\",bottom= np.zeros(10))\n",
    "ticklabel = [f\"{'%.2f'%((100*a)/(b+a))}%\" for a,b in zip( v[:,0],  v[:,1]) ]\n",
    "ax.bar_label(p, label_type='center', labels=ticklabel)\n",
    "\n",
    "p= plt.bar(range(len(c)), v[:,1], bottom=v[:,0],label=\"Female\",color=\"#72bbff\")\n",
    "ticklabel = [f\"{'%.2f'%((100*b)/(b+a))}%\" for a,b in zip( v[:,0],  v[:,1]) ]\n",
    "ax.bar_label(p, label_type='center', labels=ticklabel)\n",
    "\n",
    "plt.title(\"Gender distribution by music genres before year 2000\")\n",
    "plt.xticks(range(len(c)), c,rotation=85)\n",
    "plt.legend()\n",
    "plt.savefig(\"../data/repartition/gender_dist_by_genre_bf2000.png\", format=\"png\",transparent=True)\n",
    "plt.show()"
   ]
  },
  {
   "cell_type": "code",
   "execution_count": 134,
   "metadata": {},
   "outputs": [
    {
     "data": {
      "image/png": "[encoded data removed]",
      "text/plain": [
       "<Figure size 640x480 with 1 Axes>"
      ]
     },
     "metadata": {},
     "output_type": "display_data"
    }
   ],
   "source": [
    "y =  pd.Series(Counter(female_role_dist_detailed_final))\n",
    "mylabels = list(female_role_dist_detailed_final.keys())\n",
    "colors = cm.rainbow(np.linspace(0, 1, len(mylabels)))\n",
    "plt.pie(y, labels = mylabels,startangle = 70, autopct=lambda x: '{:.0f}'.format(x*y.sum()/100),colors=colors)\n",
    "plt.legend(bbox_to_anchor=(1.15, 1), loc=2, borderaxespad=0.)                                                                                                                                                                                                                                  \n",
    "plt.title(\" Instruments zoom distribution before year 2000\")\n",
    "plt.savefig(\"../data/repartition/instrument_zoom_dist_bf_2000.png\", format=\"png\",transparent=True,bbox_inches='tight')\n",
    "plt.show() "
   ]
  },
  {
   "cell_type": "markdown",
   "metadata": {},
   "source": [
    "### Betweenness centrality"
   ]
  },
  {
   "cell_type": "code",
   "execution_count": 103,
   "metadata": {},
   "outputs": [],
   "source": [
    "b_centralities = net.get_betweenness_centrality(mjf_collaboration_net)[0][:25]"
   ]
  },
  {
   "cell_type": "code",
   "execution_count": 115,
   "metadata": {},
   "outputs": [
    {
     "name": "stdout",
     "output_type": "stream",
     "text": [
      "1 - claude nobs - Counter({'harmonica': 63, 'harp': 1, 'vocals': 1, 'percussions': 1})\n",
      "2 - quincy jones - Counter({'vocals': 4})\n",
      "3 - george duke - Counter({'keyboards': 33, 'piano': 30, 'vocals': 4, 'synthesizer': 1})\n",
      "4 - herbie hancock - Counter({'piano': 35, 'keyboards': 14})\n",
      "5 - monty alexander - Counter({'piano': 21, 'keyboards': 3})\n",
      "6 - angélique kidjo - Counter({'vocals': 17})\n",
      "7 - toots thielemans - Counter({'harmonica': 13, 'guitar': 3})\n",
      "8 - david sanborn - Counter({'saxophone': 32})\n",
      "9 - chaka khan - Counter({'vocals': 20})\n",
      "10 - gilberto gil - Counter({'guitar': 14, 'vocals': 12, 'percussions': 1, 'vocal': 1})\n",
      "11 - paolo nutini - Counter({'vocals': 9, 'guitar': 2, 'vocal': 1})\n",
      "12 - marcus miller - Counter({'recorder': 19, 'clarinet': 6, 'saxophone': 4, 'vocals': 2, 'turntables': 1, 'double bass': 1, 'keyboards': 1, 'gumbri': 1})\n",
      "13 - elba ramalho - Counter({'vocals': 8})\n",
      "14 - carlos santana - Counter({'guitar': 18, 'vocals': 4, 'percussions': 1})\n",
      "15 - sophie hunger - Counter({'vocals': 7, 'piano': 4, 'guitar': 4, 'harmonica': 1})\n",
      "16 - van morrison - Counter({'vocals': 21, 'guitar': 11, 'saxophone': 11, 'harmonica': 8, 'piano': 2, 'vocal': 1, 'keyboards': 1})\n",
      "17 - grace jones - Counter({'vocals': 3})\n",
      "18 - billy cobham - Counter({'drums': 19, 'percussions': 1})\n",
      "19 - raul rekow - Counter({'congas': 12, 'percussions': 7, 'vocals': 2, 'guitar': 1})\n",
      "20 - james morrison - Counter({'trumpet': 6, 'trombone': 6, 'brass': 2, 'vocals': 1})\n",
      "21 - joe sample - Counter({'piano': 19, 'keyboards': 9})\n",
      "22 - al jarreau - Counter({'vocals': 22, 'vocal': 1, 'marimba': 1, 'drums': 1})\n",
      "23 - richard bona - Counter({'recorder': 9, 'vocals': 5})\n",
      "24 - carlinhos brown - Counter({'percussions': 4, 'vocals': 3, 'drums': 2, 'guitar': 1, 'bandolin': 1})\n",
      "25 - patti austin - Counter({'vocals': 11})\n"
     ]
    }
   ],
   "source": [
    "get_details_by_centrality(b_centralities)"
   ]
  },
  {
   "cell_type": "markdown",
   "metadata": {},
   "source": [
    "### Eigenvector centrality"
   ]
  },
  {
   "cell_type": "code",
   "execution_count": null,
   "metadata": {},
   "outputs": [],
   "source": [
    "e_centralities = net.get_eigenvector_centrality(mjf_collaboration_net)[0][:30]"
   ]
  },
  {
   "cell_type": "code",
   "execution_count": 116,
   "metadata": {},
   "outputs": [
    {
     "name": "stdout",
     "output_type": "stream",
     "text": [
      "1 - ronan yvin - Counter({'trombone': 2, 'recorder': 1})\n",
      "2 - fanny martin-loren - Counter({'violin': 1})\n",
      "3 - tamara elias - Counter()\n",
      "4 - marion devaud - Counter()\n",
      "5 - laetitia lafrance - Counter()\n",
      "6 - doroteya nemes-kostova - Counter({'double bass': 2})\n",
      "7 - katia trabé - Counter()\n",
      "8 - yevgeniya suminova - Counter()\n",
      "9 - madeleine murray-robertson - Counter()\n",
      "10 - tobias noss - Counter()\n",
      "11 - ellina khachaturyan - Counter()\n",
      "12 - raphaël meyer - Counter()\n",
      "13 - lilia leutenegger-chepikova - Counter()\n",
      "14 - bastien monnet - Counter({'double bass': 2})\n",
      "15 - nadia strijbos - Counter()\n",
      "16 - cyrille cabrita dos santos - Counter({'cello': 2})\n",
      "17 - michaël conus - Counter({'trumpet': 2})\n",
      "18 - vincent daoud - Counter({'saxophone': 2})\n",
      "19 - vincent harnois - Counter({'trombone': 1})\n",
      "20 - ibrahim maalouf - Counter({'trumpet': 6, 'keyboards': 1})\n",
      "21 - jon batiste - Counter({'piano': 3, 'vocals': 2, 'melodica': 1})\n",
      "22 - -m- - Counter({'guitar': 4, 'vocals': 3, 'drums': 1, 'recorder': 1, 'vocal': 1})\n",
      "23 - john clayton - Counter({'recorder': 4, 'double bass': 1})\n",
      "24 - eléonore salamin-giroud - Counter()\n",
      "25 - soo hyun kim - Counter()\n",
      "26 - jean-valdo galland - Counter({'saxophone': 2})\n",
      "27 - marie traube - Counter()\n",
      "28 - elsa dorbath - Counter({'cello': 1})\n",
      "29 - jonah nilsson - Counter({'keyboards': 2, 'vocals': 2})\n",
      "30 - ladonna harley - Counter({'vocals': 1})\n"
     ]
    }
   ],
   "source": [
    "get_details_by_centrality(e_centralities)"
   ]
  },
  {
   "cell_type": "markdown",
   "metadata": {},
   "source": [
    "### correlation between centralities"
   ]
  },
  {
   "cell_type": "code",
   "execution_count": 7,
   "metadata": {},
   "outputs": [
    {
     "name": "stdout",
     "output_type": "stream",
     "text": [
      "Spearman corr between projected degree k and betweenness centrality is SignificanceResult(statistic=0.7035444174272443, pvalue=0.0)\n",
      "Spearman corr between projected degree k and eigenvector centrality is SignificanceResult(statistic=0.997901868207399, pvalue=0.0)\n",
      "Spearman corr between betweenness centrality and eigenvector centrality is SignificanceResult(statistic=0.7023793249650162, pvalue=0.0)\n"
     ]
    }
   ],
   "source": [
    "net.get_spearman_corr(mjf_collaboration_net)"
   ]
  },
  {
   "cell_type": "markdown",
   "metadata": {},
   "source": [
    "## Meta-Network genres"
   ]
  },
  {
   "cell_type": "code",
   "execution_count": 36,
   "metadata": {},
   "outputs": [],
   "source": [
    "df = pd.read_csv(\"../data/genres/musician_genre.csv\",sep=';')\n",
    "df[\"genres\"] = df[\"genres\"].apply(lambda x : str(x).split(\",\"))\n"
   ]
  },
  {
   "cell_type": "code",
   "execution_count": 11,
   "metadata": {},
   "outputs": [
    {
     "data": {
      "text/html": [
       "<div>\n",
       "<style scoped>\n",
       "    .dataframe tbody tr th:only-of-type {\n",
       "        vertical-align: middle;\n",
       "    }\n",
       "\n",
       "    .dataframe tbody tr th {\n",
       "        vertical-align: top;\n",
       "    }\n",
       "\n",
       "    .dataframe thead th {\n",
       "        text-align: right;\n",
       "    }\n",
       "</style>\n",
       "<table border=\"1\" class=\"dataframe\">\n",
       "  <thead>\n",
       "    <tr style=\"text-align: right;\">\n",
       "      <th></th>\n",
       "      <th>id</th>\n",
       "      <th>genres</th>\n",
       "    </tr>\n",
       "  </thead>\n",
       "  <tbody>\n",
       "    <tr>\n",
       "      <th>0</th>\n",
       "      <td>30407</td>\n",
       "      <td>[World Music]</td>\n",
       "    </tr>\n",
       "    <tr>\n",
       "      <th>1</th>\n",
       "      <td>9124</td>\n",
       "      <td>[World Music, Electronic/Dance]</td>\n",
       "    </tr>\n",
       "    <tr>\n",
       "      <th>2</th>\n",
       "      <td>30423</td>\n",
       "      <td>[World Music]</td>\n",
       "    </tr>\n",
       "    <tr>\n",
       "      <th>3</th>\n",
       "      <td>30421</td>\n",
       "      <td>[World Music]</td>\n",
       "    </tr>\n",
       "    <tr>\n",
       "      <th>4</th>\n",
       "      <td>30420</td>\n",
       "      <td>[World Music]</td>\n",
       "    </tr>\n",
       "  </tbody>\n",
       "</table>\n",
       "</div>"
      ],
      "text/plain": [
       "      id                           genres\n",
       "0  30407                    [World Music]\n",
       "1   9124  [World Music, Electronic/Dance]\n",
       "2  30423                    [World Music]\n",
       "3  30421                    [World Music]\n",
       "4  30420                    [World Music]"
      ]
     },
     "execution_count": 11,
     "metadata": {},
     "output_type": "execute_result"
    }
   ],
   "source": [
    "df.head()"
   ]
  },
  {
   "cell_type": "code",
   "execution_count": 46,
   "metadata": {},
   "outputs": [],
   "source": [
    "cat = None\n",
    "with open(\"../data/genres/genres_cat.json\",encoding=\"utf-8\") as f:\n",
    "            cat = json.load(f)  "
   ]
  },
  {
   "cell_type": "code",
   "execution_count": null,
   "metadata": {},
   "outputs": [],
   "source": [
    "#if M1 and M2 collabored together multiple time weigth of edge increases, so what to do? count once the collaboration or leave it \n",
    "treated = set()\n",
    "meta_net_genres = nx.Graph()\n",
    "treated_node_weight = set()\n",
    "\n",
    "for cate in cat['categories']:\n",
    "    meta_net_genres.add_node(cate['category'],weight=0)\n",
    "\n",
    "for n,d in mjf_collaboration_net.nodes(data=True):\n",
    "    treated.add(int(str(n)[3:]))  \n",
    "    musician_in = df[df['id'] == int(str(n)[3:])]   \n",
    "    for g in musician_in['genres'].squeeze(): \n",
    "        meta_net_genres.nodes[g]['weight'] += 1 \n",
    "         \n",
    "    for neighbor in mjf_collaboration_net.neighbors(n):\n",
    "        if int(str(neighbor)[3:]) not in treated :\n",
    "            musician_out = df[df['id'] == int(str(neighbor)[3:])] \n",
    "            \n",
    "            for g_in in musician_out['genres'].squeeze():\n",
    "                for g2 in musician_in['genres'].squeeze():   \n",
    "                    if g_in >= g2 : \n",
    "                        continue      \n",
    "                    if not meta_net_genres.has_edge(g_in,g2) :                     \n",
    "                        meta_net_genres.add_edge(g_in, g2,weight = 1)   \n",
    "                    else :\n",
    "                        meta_net_genres[g_in][g2]['weight'] += 1      \n",
    "                                 "
   ]
  },
  {
   "cell_type": "code",
   "execution_count": 46,
   "metadata": {},
   "outputs": [],
   "source": [
    "net.save_graph(meta_net_genres,\"../networks/gephi/meta_net_genres_final.gexf\")"
   ]
  },
  {
   "cell_type": "markdown",
   "metadata": {},
   "source": [
    "### Meta network of jazz subgenres"
   ]
  },
  {
   "cell_type": "code",
   "execution_count": 53,
   "metadata": {},
   "outputs": [],
   "source": [
    "normalized_dict = pd.json_normalize(cat['categories'], sep=',')\n",
    "jazz_subgenres = list(normalized_dict[(normalized_dict['category']=='Jazz')]['genres'])[0]"
   ]
  },
  {
   "cell_type": "code",
   "execution_count": 54,
   "metadata": {},
   "outputs": [],
   "source": [
    "jazz_subgenres_clean =list()\n",
    "for g in jazz_subgenres :\n",
    "    jazz_subgenres_clean.append(g.lower())"
   ]
  },
  {
   "cell_type": "code",
   "execution_count": 55,
   "metadata": {},
   "outputs": [],
   "source": [
    "df = pd.read_csv(\"../data/genres/musician_jazz_sub_genre.csv\",sep=';')\n",
    "df[\"genres\"] = df[\"genres\"].apply(lambda x : str(x).split(\",\"))"
   ]
  },
  {
   "cell_type": "code",
   "execution_count": 56,
   "metadata": {},
   "outputs": [],
   "source": [
    "#if M1 and M2 collabored together multiple time weigth of edge increases, so what to do? count once the collaboration or leave it \n",
    "treated = set()\n",
    "meta_net_genres = nx.Graph()\n",
    "treated_node_weight = set()\n",
    "\n",
    "for cate in jazz_subgenres_clean:\n",
    "    meta_net_genres.add_node(cate,weight=0)\n",
    "\n",
    "for n,d in mjf_collaboration_net.nodes(data=True):\n",
    "    treated.add(int(str(n)[3:]))  \n",
    "    musician_in = df[df['id'] == int(str(n)[3:])]   \n",
    "    musician_in_genre  = musician_in['genres'].squeeze()\n",
    "  \n",
    "    if  len(musician_in_genre) != 0 and str(musician_in_genre[0]) != 'nan':\n",
    "    \n",
    "        for g in musician_in_genre: \n",
    "             meta_net_genres.nodes[g]['weight'] += 1 \n",
    "         \n",
    "        for neighbor in mjf_collaboration_net.neighbors(n):\n",
    "             if int(str(neighbor)[3:]) not in treated :\n",
    "                musician_out = df[df['id'] == int(str(neighbor)[3:])] \n",
    "                musician_out_genre = musician_out['genres'].squeeze()\n",
    "                if len(musician_out_genre)!=0 and str(musician_out_genre[0])!= 'nan':\n",
    "                    for g_in in musician_out_genre:\n",
    "                        for g2 in musician_in_genre:   \n",
    "                            if g_in >= g2 : \n",
    "                                continue      \n",
    "                            if not meta_net_genres.has_edge(g_in,g2) :                     \n",
    "                                meta_net_genres.add_edge(g_in, g2,weight = 1)   \n",
    "                            else :\n",
    "                                meta_net_genres[g_in][g2]['weight'] += 1      \n",
    "                                 "
   ]
  },
  {
   "cell_type": "code",
   "execution_count": 57,
   "metadata": {},
   "outputs": [],
   "source": [
    "net.save_graph(meta_net_genres,\"../networks/gephi/meta_net_jazz_subgenres.gexf\")"
   ]
  },
  {
   "cell_type": "markdown",
   "metadata": {},
   "source": [
    "## Role specific network"
   ]
  },
  {
   "cell_type": "code",
   "execution_count": 10,
   "metadata": {},
   "outputs": [
    {
     "data": {
      "text/html": [
       "<div>\n",
       "<style scoped>\n",
       "    .dataframe tbody tr th:only-of-type {\n",
       "        vertical-align: middle;\n",
       "    }\n",
       "\n",
       "    .dataframe tbody tr th {\n",
       "        vertical-align: top;\n",
       "    }\n",
       "\n",
       "    .dataframe thead th {\n",
       "        text-align: right;\n",
       "    }\n",
       "</style>\n",
       "<table border=\"1\" class=\"dataframe\">\n",
       "  <thead>\n",
       "    <tr style=\"text-align: right;\">\n",
       "      <th></th>\n",
       "      <th>name</th>\n",
       "    </tr>\n",
       "  </thead>\n",
       "  <tbody>\n",
       "    <tr>\n",
       "      <th>0</th>\n",
       "      <td>ableton</td>\n",
       "    </tr>\n",
       "    <tr>\n",
       "      <th>1</th>\n",
       "      <td>accordion</td>\n",
       "    </tr>\n",
       "    <tr>\n",
       "      <th>2</th>\n",
       "      <td>acoustic drums</td>\n",
       "    </tr>\n",
       "    <tr>\n",
       "      <th>3</th>\n",
       "      <td>ad</td>\n",
       "    </tr>\n",
       "    <tr>\n",
       "      <th>4</th>\n",
       "      <td>agogo</td>\n",
       "    </tr>\n",
       "  </tbody>\n",
       "</table>\n",
       "</div>"
      ],
      "text/plain": [
       "             name\n",
       "0         ableton\n",
       "1       accordion\n",
       "2  acoustic drums\n",
       "3              ad\n",
       "4           agogo"
      ]
     },
     "execution_count": 10,
     "metadata": {},
     "output_type": "execute_result"
    }
   ],
   "source": [
    "instruments = pd.read_csv(\"../data/instruments/mjf_instruments.csv\",sep=\",\")\n",
    "instruments.head()"
   ]
  },
  {
   "cell_type": "code",
   "execution_count": 11,
   "metadata": {},
   "outputs": [],
   "source": [
    "cnames=['instrument','nb_nodes' ,'size_of_the_GC', 'fraction_of_omitted_edges','nb_of_omitted_edges','nb_edges']\n",
    "df = pd.DataFrame(columns=cnames)"
   ]
  },
  {
   "cell_type": "code",
   "execution_count": 12,
   "metadata": {},
   "outputs": [],
   "source": [
    "for instru in instruments['name']:\n",
    "\n",
    "    role_specific_network = net.build_role_specific_network(results,'name','musicians','date','categories',instru)\n",
    "    collaborators = [x for x,y in role_specific_network.nodes(data=True) if y['type']=='Artist']\n",
    "    role_specific_network = nx.projected_graph(role_specific_network, collaborators, multigraph=False)\n",
    "    largest_cc = max(nx.connected_components(role_specific_network), key=len)\n",
    "    largest_cc = role_specific_network.subgraph(largest_cc)\n",
    "    \n",
    "    nb_nodes = len(largest_cc)\n",
    "    per_size_of_GC = (len(largest_cc) *100)/len(mjf_collaboration_net)\n",
    "    per_ommited_eges = 100 - (len(role_specific_network.edges)*100)/len(mjf_collaboration_net.edges)\n",
    "\n",
    "    df.loc[-1]  = [instru,nb_nodes,per_size_of_GC,per_ommited_eges,abs(len(role_specific_network.edges) - len(mjf_collaboration_net.edges) ),len(largest_cc.edges)]\n",
    "    df.index = df.index + 1\n",
    "    #print(\"Number of nodes in the giant component\",len(largest_cc))\n",
    "    #print(\"percentage of nodes in the giant component: \",(len(largest_cc) *100)/len(mjf_collaboration_net),\"%\")\n",
    "    #print(\"Fraction of ommited edges:\",100 - (len(role_specific_network.edges)*100)/len(mjf_collaboration_net.edges),\"%\")\n",
    "df = df.sort_index() \n",
    "df = df.sort_values('size_of_the_GC')"
   ]
  },
  {
   "cell_type": "code",
   "execution_count": 13,
   "metadata": {},
   "outputs": [],
   "source": [
    "df = df.iloc[0:len(df)-1,:]"
   ]
  },
  {
   "cell_type": "code",
   "execution_count": 14,
   "metadata": {},
   "outputs": [
    {
     "data": {
      "text/html": [
       "<div>\n",
       "<style scoped>\n",
       "    .dataframe tbody tr th:only-of-type {\n",
       "        vertical-align: middle;\n",
       "    }\n",
       "\n",
       "    .dataframe tbody tr th {\n",
       "        vertical-align: top;\n",
       "    }\n",
       "\n",
       "    .dataframe thead th {\n",
       "        text-align: right;\n",
       "    }\n",
       "</style>\n",
       "<table border=\"1\" class=\"dataframe\">\n",
       "  <thead>\n",
       "    <tr style=\"text-align: right;\">\n",
       "      <th></th>\n",
       "      <th>nb_nodes</th>\n",
       "      <th>size_of_the_GC</th>\n",
       "      <th>fraction_of_omitted_edges</th>\n",
       "      <th>nb_of_omitted_edges</th>\n",
       "      <th>nb_edges</th>\n",
       "    </tr>\n",
       "  </thead>\n",
       "  <tbody>\n",
       "    <tr>\n",
       "      <th>count</th>\n",
       "      <td>254.000000</td>\n",
       "      <td>254.000000</td>\n",
       "      <td>254.000000</td>\n",
       "      <td>254.000000</td>\n",
       "      <td>254.00000</td>\n",
       "    </tr>\n",
       "    <tr>\n",
       "      <th>mean</th>\n",
       "      <td>11658.917323</td>\n",
       "      <td>66.097383</td>\n",
       "      <td>0.717392</td>\n",
       "      <td>776.433071</td>\n",
       "      <td>89630.07874</td>\n",
       "    </tr>\n",
       "    <tr>\n",
       "      <th>std</th>\n",
       "      <td>322.996367</td>\n",
       "      <td>1.831149</td>\n",
       "      <td>3.183746</td>\n",
       "      <td>3445.768187</td>\n",
       "      <td>3172.89904</td>\n",
       "    </tr>\n",
       "    <tr>\n",
       "      <th>min</th>\n",
       "      <td>8758.000000</td>\n",
       "      <td>49.651341</td>\n",
       "      <td>0.000000</td>\n",
       "      <td>0.000000</td>\n",
       "      <td>61270.00000</td>\n",
       "    </tr>\n",
       "    <tr>\n",
       "      <th>25%</th>\n",
       "      <td>11721.000000</td>\n",
       "      <td>66.449345</td>\n",
       "      <td>0.006699</td>\n",
       "      <td>7.250000</td>\n",
       "      <td>90296.00000</td>\n",
       "    </tr>\n",
       "    <tr>\n",
       "      <th>50%</th>\n",
       "      <td>11726.000000</td>\n",
       "      <td>66.477691</td>\n",
       "      <td>0.016631</td>\n",
       "      <td>18.000000</td>\n",
       "      <td>90345.00000</td>\n",
       "    </tr>\n",
       "    <tr>\n",
       "      <th>75%</th>\n",
       "      <td>11727.000000</td>\n",
       "      <td>66.483361</td>\n",
       "      <td>0.069297</td>\n",
       "      <td>75.000000</td>\n",
       "      <td>90355.75000</td>\n",
       "    </tr>\n",
       "    <tr>\n",
       "      <th>max</th>\n",
       "      <td>11727.000000</td>\n",
       "      <td>66.483361</td>\n",
       "      <td>29.337522</td>\n",
       "      <td>31752.000000</td>\n",
       "      <td>90359.00000</td>\n",
       "    </tr>\n",
       "  </tbody>\n",
       "</table>\n",
       "</div>"
      ],
      "text/plain": [
       "           nb_nodes  size_of_the_GC  fraction_of_omitted_edges  \\\n",
       "count    254.000000      254.000000                 254.000000   \n",
       "mean   11658.917323       66.097383                   0.717392   \n",
       "std      322.996367        1.831149                   3.183746   \n",
       "min     8758.000000       49.651341                   0.000000   \n",
       "25%    11721.000000       66.449345                   0.006699   \n",
       "50%    11726.000000       66.477691                   0.016631   \n",
       "75%    11727.000000       66.483361                   0.069297   \n",
       "max    11727.000000       66.483361                  29.337522   \n",
       "\n",
       "       nb_of_omitted_edges     nb_edges  \n",
       "count           254.000000    254.00000  \n",
       "mean            776.433071  89630.07874  \n",
       "std            3445.768187   3172.89904  \n",
       "min               0.000000  61270.00000  \n",
       "25%               7.250000  90296.00000  \n",
       "50%              18.000000  90345.00000  \n",
       "75%              75.000000  90355.75000  \n",
       "max           31752.000000  90359.00000  "
      ]
     },
     "execution_count": 14,
     "metadata": {},
     "output_type": "execute_result"
    }
   ],
   "source": [
    "df.describe()"
   ]
  },
  {
   "cell_type": "code",
   "execution_count": 34,
   "metadata": {},
   "outputs": [
    {
     "data": {
      "text/html": [
       "<div>\n",
       "<style scoped>\n",
       "    .dataframe tbody tr th:only-of-type {\n",
       "        vertical-align: middle;\n",
       "    }\n",
       "\n",
       "    .dataframe tbody tr th {\n",
       "        vertical-align: top;\n",
       "    }\n",
       "\n",
       "    .dataframe thead th {\n",
       "        text-align: right;\n",
       "    }\n",
       "</style>\n",
       "<table border=\"1\" class=\"dataframe\">\n",
       "  <thead>\n",
       "    <tr style=\"text-align: right;\">\n",
       "      <th></th>\n",
       "      <th>instrument</th>\n",
       "      <th>nb_nodes</th>\n",
       "      <th>size_of_the_GC</th>\n",
       "      <th>fraction_of_omitted_edges</th>\n",
       "      <th>nb_of_omitted_edges</th>\n",
       "      <th>nb_edges</th>\n",
       "    </tr>\n",
       "  </thead>\n",
       "  <tbody>\n",
       "    <tr>\n",
       "      <th>9</th>\n",
       "      <td>vocals</td>\n",
       "      <td>8758</td>\n",
       "      <td>49.651341</td>\n",
       "      <td>29.337522</td>\n",
       "      <td>31752</td>\n",
       "      <td>61270</td>\n",
       "    </tr>\n",
       "    <tr>\n",
       "      <th>146</th>\n",
       "      <td>guitar</td>\n",
       "      <td>9400</td>\n",
       "      <td>53.291003</td>\n",
       "      <td>20.464751</td>\n",
       "      <td>22149</td>\n",
       "      <td>70556</td>\n",
       "    </tr>\n",
       "    <tr>\n",
       "      <th>181</th>\n",
       "      <td>drums</td>\n",
       "      <td>9775</td>\n",
       "      <td>55.416974</td>\n",
       "      <td>17.463735</td>\n",
       "      <td>18901</td>\n",
       "      <td>73625</td>\n",
       "    </tr>\n",
       "    <tr>\n",
       "      <th>71</th>\n",
       "      <td>recorder</td>\n",
       "      <td>9818</td>\n",
       "      <td>55.660752</td>\n",
       "      <td>19.276541</td>\n",
       "      <td>20863</td>\n",
       "      <td>72571</td>\n",
       "    </tr>\n",
       "    <tr>\n",
       "      <th>124</th>\n",
       "      <td>keyboards</td>\n",
       "      <td>10404</td>\n",
       "      <td>58.982936</td>\n",
       "      <td>13.490714</td>\n",
       "      <td>14601</td>\n",
       "      <td>77341</td>\n",
       "    </tr>\n",
       "    <tr>\n",
       "      <th>63</th>\n",
       "      <td>saxophone</td>\n",
       "      <td>10665</td>\n",
       "      <td>60.462611</td>\n",
       "      <td>13.186732</td>\n",
       "      <td>14272</td>\n",
       "      <td>76888</td>\n",
       "    </tr>\n",
       "    <tr>\n",
       "      <th>79</th>\n",
       "      <td>percussions</td>\n",
       "      <td>10750</td>\n",
       "      <td>60.944498</td>\n",
       "      <td>9.597154</td>\n",
       "      <td>10387</td>\n",
       "      <td>80208</td>\n",
       "    </tr>\n",
       "    <tr>\n",
       "      <th>78</th>\n",
       "      <td>piano</td>\n",
       "      <td>10864</td>\n",
       "      <td>61.590793</td>\n",
       "      <td>6.969417</td>\n",
       "      <td>7543</td>\n",
       "      <td>79672</td>\n",
       "    </tr>\n",
       "    <tr>\n",
       "      <th>22</th>\n",
       "      <td>trumpet</td>\n",
       "      <td>10867</td>\n",
       "      <td>61.607801</td>\n",
       "      <td>11.993902</td>\n",
       "      <td>12981</td>\n",
       "      <td>77601</td>\n",
       "    </tr>\n",
       "    <tr>\n",
       "      <th>23</th>\n",
       "      <td>trombone</td>\n",
       "      <td>11178</td>\n",
       "      <td>63.370939</td>\n",
       "      <td>7.614340</td>\n",
       "      <td>8241</td>\n",
       "      <td>81960</td>\n",
       "    </tr>\n",
       "  </tbody>\n",
       "</table>\n",
       "</div>"
      ],
      "text/plain": [
       "      instrument  nb_nodes  size_of_the_GC  fraction_of_omitted_edges  \\\n",
       "9         vocals      8758       49.651341                  29.337522   \n",
       "146       guitar      9400       53.291003                  20.464751   \n",
       "181        drums      9775       55.416974                  17.463735   \n",
       "71      recorder      9818       55.660752                  19.276541   \n",
       "124    keyboards     10404       58.982936                  13.490714   \n",
       "63     saxophone     10665       60.462611                  13.186732   \n",
       "79   percussions     10750       60.944498                   9.597154   \n",
       "78         piano     10864       61.590793                   6.969417   \n",
       "22       trumpet     10867       61.607801                  11.993902   \n",
       "23      trombone     11178       63.370939                   7.614340   \n",
       "\n",
       "     nb_of_omitted_edges  nb_edges  \n",
       "9                  31752     61270  \n",
       "146                22149     70556  \n",
       "181                18901     73625  \n",
       "71                 20863     72571  \n",
       "124                14601     77341  \n",
       "63                 14272     76888  \n",
       "79                 10387     80208  \n",
       "78                  7543     79672  \n",
       "22                 12981     77601  \n",
       "23                  8241     81960  "
      ]
     },
     "execution_count": 34,
     "metadata": {},
     "output_type": "execute_result"
    }
   ],
   "source": [
    "#Social network\n",
    "df.iloc[0:10,:]"
   ]
  },
  {
   "cell_type": "code",
   "execution_count": 16,
   "metadata": {},
   "outputs": [],
   "source": [
    "cnames=['instrument','nb_nodes' ,'size_of_the_GC', 'fraction_of_omitted_edges','nb_of_omitted_edges','nb_edges']\n",
    "df2 = pd.DataFrame(columns=cnames)\n",
    "for instru in instruments['name']:\n",
    "\n",
    "    role_specific_network = net.build_role_specific_network(results,'name','musicians','date','categories',instru)\n",
    "    albums = [x for x,y in bipartite_mjf_net.nodes(data=True) if y['type']=='Album']\n",
    "    role_specific_network = nx.projected_graph(role_specific_network, albums, multigraph=False)\n",
    "    largest_cc = max(nx.connected_components(role_specific_network), key=len)\n",
    "    largest_cc = role_specific_network.subgraph(largest_cc)\n",
    "    \n",
    "    nb_nodes = len(largest_cc)\n",
    "    per_size_of_GC = (len(largest_cc) *100)/len(mjf_event_net)\n",
    "    per_ommited_eges = 100 - (len(role_specific_network.edges)*100)/len(mjf_event_net.edges)\n",
    "    df2.loc[-1]  = [instru,nb_nodes,per_size_of_GC,per_ommited_eges,abs(len(role_specific_network.edges) - len(mjf_event_net.edges) ),len(largest_cc.edges)]\n",
    "    df2.index = df2.index + 1\n",
    "    #print(\"Number of nodes in the giant component\",len(largest_cc))\n",
    "    #print(\"percentage of nodes in the giant component: \",(len(largest_cc) *100)/len(mjf_collaboration_net),\"%\")\n",
    "    #print(\"Fraction of ommited edges:\",100 - (len(role_specific_network.edges)*100)/len(mjf_collaboration_net.edges),\"%\")\n",
    "df2 = df2.sort_index() \n",
    "df2 = df2.sort_values('size_of_the_GC')    \n"
   ]
  },
  {
   "cell_type": "code",
   "execution_count": 17,
   "metadata": {},
   "outputs": [],
   "source": [
    "df2 = df2.iloc[0:len(df2)-1,:]"
   ]
  },
  {
   "cell_type": "code",
   "execution_count": 38,
   "metadata": {},
   "outputs": [
    {
     "data": {
      "text/html": [
       "<div>\n",
       "<style scoped>\n",
       "    .dataframe tbody tr th:only-of-type {\n",
       "        vertical-align: middle;\n",
       "    }\n",
       "\n",
       "    .dataframe tbody tr th {\n",
       "        vertical-align: top;\n",
       "    }\n",
       "\n",
       "    .dataframe thead th {\n",
       "        text-align: right;\n",
       "    }\n",
       "</style>\n",
       "<table border=\"1\" class=\"dataframe\">\n",
       "  <thead>\n",
       "    <tr style=\"text-align: right;\">\n",
       "      <th></th>\n",
       "      <th>nb_nodes</th>\n",
       "      <th>size_of_the_GC</th>\n",
       "      <th>fraction_of_omitted_edges</th>\n",
       "      <th>nb_of_omitted_edges</th>\n",
       "      <th>nb_edges</th>\n",
       "    </tr>\n",
       "  </thead>\n",
       "  <tbody>\n",
       "    <tr>\n",
       "      <th>count</th>\n",
       "      <td>254.000000</td>\n",
       "      <td>254.000000</td>\n",
       "      <td>254.000000</td>\n",
       "      <td>254.000000</td>\n",
       "      <td>254.000000</td>\n",
       "    </tr>\n",
       "    <tr>\n",
       "      <th>mean</th>\n",
       "      <td>2867.649606</td>\n",
       "      <td>67.001159</td>\n",
       "      <td>0.475290</td>\n",
       "      <td>104.834646</td>\n",
       "      <td>21608.468504</td>\n",
       "    </tr>\n",
       "    <tr>\n",
       "      <th>std</th>\n",
       "      <td>38.684281</td>\n",
       "      <td>0.903838</td>\n",
       "      <td>2.361017</td>\n",
       "      <td>520.769509</td>\n",
       "      <td>526.658905</td>\n",
       "    </tr>\n",
       "    <tr>\n",
       "      <th>min</th>\n",
       "      <td>2454.000000</td>\n",
       "      <td>57.336449</td>\n",
       "      <td>0.000000</td>\n",
       "      <td>0.000000</td>\n",
       "      <td>17282.000000</td>\n",
       "    </tr>\n",
       "    <tr>\n",
       "      <th>25%</th>\n",
       "      <td>2874.000000</td>\n",
       "      <td>67.149533</td>\n",
       "      <td>0.000000</td>\n",
       "      <td>0.000000</td>\n",
       "      <td>21710.250000</td>\n",
       "    </tr>\n",
       "    <tr>\n",
       "      <th>50%</th>\n",
       "      <td>2875.000000</td>\n",
       "      <td>67.172897</td>\n",
       "      <td>0.000000</td>\n",
       "      <td>0.000000</td>\n",
       "      <td>21715.000000</td>\n",
       "    </tr>\n",
       "    <tr>\n",
       "      <th>75%</th>\n",
       "      <td>2875.000000</td>\n",
       "      <td>67.172897</td>\n",
       "      <td>0.022669</td>\n",
       "      <td>5.000000</td>\n",
       "      <td>21715.000000</td>\n",
       "    </tr>\n",
       "    <tr>\n",
       "      <th>max</th>\n",
       "      <td>2875.000000</td>\n",
       "      <td>67.172897</td>\n",
       "      <td>20.088861</td>\n",
       "      <td>4431.000000</td>\n",
       "      <td>21715.000000</td>\n",
       "    </tr>\n",
       "  </tbody>\n",
       "</table>\n",
       "</div>"
      ],
      "text/plain": [
       "          nb_nodes  size_of_the_GC  fraction_of_omitted_edges  \\\n",
       "count   254.000000      254.000000                 254.000000   \n",
       "mean   2867.649606       67.001159                   0.475290   \n",
       "std      38.684281        0.903838                   2.361017   \n",
       "min    2454.000000       57.336449                   0.000000   \n",
       "25%    2874.000000       67.149533                   0.000000   \n",
       "50%    2875.000000       67.172897                   0.000000   \n",
       "75%    2875.000000       67.172897                   0.022669   \n",
       "max    2875.000000       67.172897                  20.088861   \n",
       "\n",
       "       nb_of_omitted_edges      nb_edges  \n",
       "count           254.000000    254.000000  \n",
       "mean            104.834646  21608.468504  \n",
       "std             520.769509    526.658905  \n",
       "min               0.000000  17282.000000  \n",
       "25%               0.000000  21710.250000  \n",
       "50%               0.000000  21715.000000  \n",
       "75%               5.000000  21715.000000  \n",
       "max            4431.000000  21715.000000  "
      ]
     },
     "execution_count": 38,
     "metadata": {},
     "output_type": "execute_result"
    }
   ],
   "source": [
    "df2.describe()"
   ]
  },
  {
   "cell_type": "code",
   "execution_count": 40,
   "metadata": {},
   "outputs": [
    {
     "data": {
      "text/html": [
       "<div>\n",
       "<style scoped>\n",
       "    .dataframe tbody tr th:only-of-type {\n",
       "        vertical-align: middle;\n",
       "    }\n",
       "\n",
       "    .dataframe tbody tr th {\n",
       "        vertical-align: top;\n",
       "    }\n",
       "\n",
       "    .dataframe thead th {\n",
       "        text-align: right;\n",
       "    }\n",
       "</style>\n",
       "<table border=\"1\" class=\"dataframe\">\n",
       "  <thead>\n",
       "    <tr style=\"text-align: right;\">\n",
       "      <th></th>\n",
       "      <th>instrument</th>\n",
       "      <th>nb_nodes</th>\n",
       "      <th>size_of_the_GC</th>\n",
       "      <th>fraction_of_omitted_edges</th>\n",
       "      <th>nb_of_omitted_edges</th>\n",
       "      <th>nb_edges</th>\n",
       "    </tr>\n",
       "  </thead>\n",
       "  <tbody>\n",
       "    <tr>\n",
       "      <th>9</th>\n",
       "      <td>vocals</td>\n",
       "      <td>2454</td>\n",
       "      <td>57.336449</td>\n",
       "      <td>20.088861</td>\n",
       "      <td>4431</td>\n",
       "      <td>17282</td>\n",
       "    </tr>\n",
       "    <tr>\n",
       "      <th>146</th>\n",
       "      <td>guitar</td>\n",
       "      <td>2558</td>\n",
       "      <td>59.766355</td>\n",
       "      <td>14.367321</td>\n",
       "      <td>3169</td>\n",
       "      <td>18512</td>\n",
       "    </tr>\n",
       "    <tr>\n",
       "      <th>181</th>\n",
       "      <td>drums</td>\n",
       "      <td>2703</td>\n",
       "      <td>63.154206</td>\n",
       "      <td>8.500703</td>\n",
       "      <td>1875</td>\n",
       "      <td>19767</td>\n",
       "    </tr>\n",
       "    <tr>\n",
       "      <th>78</th>\n",
       "      <td>piano</td>\n",
       "      <td>2709</td>\n",
       "      <td>63.294393</td>\n",
       "      <td>17.296096</td>\n",
       "      <td>3815</td>\n",
       "      <td>17898</td>\n",
       "    </tr>\n",
       "    <tr>\n",
       "      <th>71</th>\n",
       "      <td>recorder</td>\n",
       "      <td>2729</td>\n",
       "      <td>63.761682</td>\n",
       "      <td>9.022079</td>\n",
       "      <td>1990</td>\n",
       "      <td>19649</td>\n",
       "    </tr>\n",
       "    <tr>\n",
       "      <th>124</th>\n",
       "      <td>keyboards</td>\n",
       "      <td>2756</td>\n",
       "      <td>64.392523</td>\n",
       "      <td>12.485832</td>\n",
       "      <td>2754</td>\n",
       "      <td>18886</td>\n",
       "    </tr>\n",
       "    <tr>\n",
       "      <th>63</th>\n",
       "      <td>saxophone</td>\n",
       "      <td>2796</td>\n",
       "      <td>65.327103</td>\n",
       "      <td>7.163259</td>\n",
       "      <td>1580</td>\n",
       "      <td>20082</td>\n",
       "    </tr>\n",
       "    <tr>\n",
       "      <th>79</th>\n",
       "      <td>percussions</td>\n",
       "      <td>2801</td>\n",
       "      <td>65.443925</td>\n",
       "      <td>3.096523</td>\n",
       "      <td>683</td>\n",
       "      <td>21006</td>\n",
       "    </tr>\n",
       "    <tr>\n",
       "      <th>22</th>\n",
       "      <td>trumpet</td>\n",
       "      <td>2819</td>\n",
       "      <td>65.864486</td>\n",
       "      <td>3.599764</td>\n",
       "      <td>794</td>\n",
       "      <td>20892</td>\n",
       "    </tr>\n",
       "    <tr>\n",
       "      <th>138</th>\n",
       "      <td>harmonica</td>\n",
       "      <td>2828</td>\n",
       "      <td>66.074766</td>\n",
       "      <td>12.975473</td>\n",
       "      <td>2862</td>\n",
       "      <td>18835</td>\n",
       "    </tr>\n",
       "  </tbody>\n",
       "</table>\n",
       "</div>"
      ],
      "text/plain": [
       "      instrument  nb_nodes  size_of_the_GC  fraction_of_omitted_edges  \\\n",
       "9         vocals      2454       57.336449                  20.088861   \n",
       "146       guitar      2558       59.766355                  14.367321   \n",
       "181        drums      2703       63.154206                   8.500703   \n",
       "78         piano      2709       63.294393                  17.296096   \n",
       "71      recorder      2729       63.761682                   9.022079   \n",
       "124    keyboards      2756       64.392523                  12.485832   \n",
       "63     saxophone      2796       65.327103                   7.163259   \n",
       "79   percussions      2801       65.443925                   3.096523   \n",
       "22       trumpet      2819       65.864486                   3.599764   \n",
       "138    harmonica      2828       66.074766                  12.975473   \n",
       "\n",
       "     nb_of_omitted_edges  nb_edges  \n",
       "9                   4431     17282  \n",
       "146                 3169     18512  \n",
       "181                 1875     19767  \n",
       "78                  3815     17898  \n",
       "71                  1990     19649  \n",
       "124                 2754     18886  \n",
       "63                  1580     20082  \n",
       "79                   683     21006  \n",
       "22                   794     20892  \n",
       "138                 2862     18835  "
      ]
     },
     "execution_count": 40,
     "metadata": {},
     "output_type": "execute_result"
    }
   ],
   "source": [
    "df2.iloc[0:10,:]"
   ]
  },
  {
   "cell_type": "code",
   "execution_count": 18,
   "metadata": {},
   "outputs": [
    {
     "data": {
      "text/plain": [
       "PearsonRResult(statistic=-0.9095932051988409, pvalue=4.183013389773094e-98)"
      ]
     },
     "execution_count": 18,
     "metadata": {},
     "output_type": "execute_result"
    }
   ],
   "source": [
    "stats.pearsonr(df2[\"nb_nodes\"], df2[\"nb_of_omitted_edges\"])"
   ]
  },
  {
   "cell_type": "code",
   "execution_count": 15,
   "metadata": {},
   "outputs": [
    {
     "data": {
      "text/plain": [
       "PearsonRResult(statistic=-0.9917888461621526, pvalue=4.206727599543351e-227)"
      ]
     },
     "execution_count": 15,
     "metadata": {},
     "output_type": "execute_result"
    }
   ],
   "source": [
    "stats.pearsonr(df[\"nb_nodes\"], df[\"nb_of_omitted_edges\"])"
   ]
  }
 ],
 "metadata": {
  "kernelspec": {
   "display_name": "Python 3",
   "language": "python",
   "name": "python3"
  },
  "language_info": {
   "codemirror_mode": {
    "name": "ipython",
    "version": 3
   },
   "file_extension": ".py",
   "mimetype": "text/x-python",
   "name": "python",
   "nbconvert_exporter": "python",
   "pygments_lexer": "ipython3",
   "version": "3.9.13"
  }
 },
 "nbformat": 4,
 "nbformat_minor": 2
}
