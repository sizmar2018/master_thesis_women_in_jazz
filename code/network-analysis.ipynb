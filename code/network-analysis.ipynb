{
 "cells": [
  {
   "cell_type": "markdown",
   "metadata": {},
   "source": [
    "# Master Thesis\n"
   ]
  },
  {
   "cell_type": "code",
   "execution_count": 1,
   "metadata": {},
   "outputs": [],
   "source": [
    "from utils import *\n",
    "from network import *\n",
    "import pandas as pd\n",
    "import json"
   ]
  },
  {
   "cell_type": "code",
   "execution_count": 2,
   "metadata": {},
   "outputs": [],
   "source": [
    "net = Network()\n",
    "#utils = Utils(\"./config.ini\")"
   ]
  },
  {
   "cell_type": "markdown",
   "metadata": {},
   "source": [
    "## Bipartite album-artists network "
   ]
  },
  {
   "cell_type": "code",
   "execution_count": 2,
   "metadata": {},
   "outputs": [],
   "source": [
    "\n",
    "df,albums_json=utils.load_data_top_5000_albums()\n",
    "bipartite_G,nb_album = net.build_bipartite_network(df,albums_json)"
   ]
  },
  {
   "cell_type": "markdown",
   "metadata": {},
   "source": [
    "# jazz Album projection network "
   ]
  },
  {
   "cell_type": "code",
   "execution_count": 17,
   "metadata": {},
   "outputs": [],
   "source": [
    "albums = None\n",
    "with open('./cleaning/album-final.json',encoding=\"UTF-8\") as f:\n",
    "        albums = json.load(f)      \n",
    "\n",
    "discogs_graph = net.build_album_projection_network(albums)\n",
    "net.get_network_info(discogs_graph)"
   ]
  },
  {
   "cell_type": "code",
   "execution_count": 19,
   "metadata": {},
   "outputs": [
    {
     "name": "stdout",
     "output_type": "stream",
     "text": [
      "nb nodes:  3467\n",
      "nb edges:  245757\n",
      "Min node degree:  0\n",
      "Max node degree:  747\n",
      "Avg node degree:  141.7692529564465\n"
     ]
    }
   ],
   "source": [
    "net.save_graph(discogs_graph,\"../networks/gephi/discogs_album_projection.gexf\")"
   ]
  },
  {
   "cell_type": "code",
   "execution_count": 34,
   "metadata": {},
   "outputs": [],
   "source": [
    "zero_degree_node = [node for node in discogs_graph.nodes if discogs_graph.degree(node) == 0]\n",
    "len(zero_degree_node)"
   ]
  },
  {
   "cell_type": "markdown",
   "metadata": {},
   "source": [
    "# Jazz collaborators network "
   ]
  },
  {
   "cell_type": "code",
   "execution_count": 10,
   "metadata": {},
   "outputs": [
    {
     "name": "stdout",
     "output_type": "stream",
     "text": [
      "nb nodes:  17180\n",
      "nb edges:  31369\n",
      "Min node degree:  1\n",
      "Max node degree:  233\n",
      "Avg node degree:  3.651804423748545\n"
     ]
    }
   ],
   "source": [
    "albums = None\n",
    "with open('./cleaning/album-final.json',encoding=\"UTF-8\") as f:\n",
    "        albums = json.load(f)   \n",
    "        \n",
    "collaborators_projection_network = net.build_collaborators_projection_network(albums)\n",
    "net.get_network_info(collaborators_projection_network)           "
   ]
  },
  {
   "cell_type": "code",
   "execution_count": 18,
   "metadata": {},
   "outputs": [],
   "source": [
    "net.save_graph(collaborators_projection_network,\"../networks/gephi/discogs_collaborators_projection.gexf\")"
   ]
  },
  {
   "cell_type": "code",
   "execution_count": 15,
   "metadata": {},
   "outputs": [],
   "source": [
    "top50musicians = sorted(collaborators_projection_network.degree, key=lambda x: x[1], reverse=True)[0]"
   ]
  },
  {
   "cell_type": "code",
   "execution_count": 16,
   "metadata": {},
   "outputs": [
    {
     "data": {
      "text/plain": [
       "(252966, 233)"
      ]
     },
     "execution_count": 16,
     "metadata": {},
     "output_type": "execute_result"
    }
   ],
   "source": [
    "top50musicians"
   ]
  },
  {
   "cell_type": "markdown",
   "metadata": {},
   "source": [
    "# Montreux"
   ]
  },
  {
   "cell_type": "code",
   "execution_count": 31,
   "metadata": {},
   "outputs": [],
   "source": [
    "mjf = None\n",
    "with open('../data/mjf/mfj_export.json',encoding=\"UTF-8\") as f:\n",
    "        mjf = json.load(f)      \n",
    "results = mjf['concerts']        "
   ]
  },
  {
   "cell_type": "code",
   "execution_count": 33,
   "metadata": {},
   "outputs": [],
   "source": [
    "def build_network(results) :  \n",
    "    G = nx.Graph()\n",
    "    for result in results:\n",
    "      event = int(\"999\"+str(result['id']) )\n",
    "      participants = result['musicians']\n",
    "      if not G.has_node(event) :\n",
    "           G.add_node(event, name=result['name'],type='event')\n",
    "\n",
    "      for musician in participants:\n",
    "          m_name = musician['name']\n",
    "          m_id = musician['id']\n",
    "          if not G.has_node(m_id) :\n",
    "                G.add_node(m_id, name=m_name,type='musician')\n",
    "\n",
    "          if not G.has_edge(event,m_id) :\n",
    "                G.add_edge(event,m_id,weight = 1)    \n",
    "          else :\n",
    "                G[event][m_id]['weight'] = G[event][m_id]['weight'] + 1  \n",
    "    return G   "
   ]
  },
  {
   "cell_type": "code",
   "execution_count": 34,
   "metadata": {},
   "outputs": [],
   "source": [
    "mjf_bipartite_graph = build_network(results)"
   ]
  },
  {
   "cell_type": "code",
   "execution_count": 35,
   "metadata": {},
   "outputs": [
    {
     "name": "stdout",
     "output_type": "stream",
     "text": [
      "nb nodes:  22493\n",
      "nb edges:  26552\n",
      "Min node degree:  0\n",
      "Max node degree:  83\n",
      "Avg node degree:  2.360912283821633\n"
     ]
    }
   ],
   "source": [
    "net.get_network_info(mjf_bipartite_graph)"
   ]
  },
  {
   "cell_type": "code",
   "execution_count": 36,
   "metadata": {},
   "outputs": [],
   "source": [
    "net.save_graph(mjf_bipartite_graph,\"../networks/gephi/mjf_bipartite_graph.gexf\")"
   ]
  }
 ],
 "metadata": {
  "kernelspec": {
   "display_name": "Python 3",
   "language": "python",
   "name": "python3"
  },
  "language_info": {
   "codemirror_mode": {
    "name": "ipython",
    "version": 3
   },
   "file_extension": ".py",
   "mimetype": "text/x-python",
   "name": "python",
   "nbconvert_exporter": "python",
   "pygments_lexer": "ipython3",
   "version": "3.9.13"
  }
 },
 "nbformat": 4,
 "nbformat_minor": 2
}
