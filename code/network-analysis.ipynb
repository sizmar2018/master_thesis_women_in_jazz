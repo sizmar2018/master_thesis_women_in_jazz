{
 "cells": [
  {
   "cell_type": "markdown",
   "metadata": {},
   "source": [
    "# Master Thesis\n"
   ]
  },
  {
   "cell_type": "code",
   "execution_count": 75,
   "metadata": {},
   "outputs": [
    {
     "name": "stdout",
     "output_type": "stream",
     "text": [
      "The autoreload extension is already loaded. To reload it, use:\n",
      "  %reload_ext autoreload\n"
     ]
    }
   ],
   "source": [
    "from utils import *\n",
    "from network import *\n",
    "import pandas as pd\n",
    "import json\n",
    "%load_ext autoreload\n",
    "%autoreload 2\n",
    "net = Network()"
   ]
  },
  {
   "cell_type": "code",
   "execution_count": 3,
   "metadata": {},
   "outputs": [],
   "source": [
    "def get_results(centrality) : \n",
    "    artists_dict = dict()\n",
    "    for row in results : \n",
    "        for art in row['artists'] :\n",
    "            for c in  centrality:\n",
    "                if art['name'] == c :\n",
    "                    if art['name'] not in artists_dict.keys() :\n",
    "                        artists_dict[art['name']] = set()\n",
    "                    for r in art['role']:\n",
    "                        artists_dict[art['name']].add(r)\n",
    "                    break    \n",
    "    return artists_dict"
   ]
  },
  {
   "cell_type": "markdown",
   "metadata": {},
   "source": [
    "# Bipartite Graph"
   ]
  },
  {
   "cell_type": "code",
   "execution_count": null,
   "metadata": {},
   "outputs": [],
   "source": [
    "results = None\n",
    "with open('../data/albums/jazz/album-final.json',encoding=\"UTF-8\") as f:\n",
    "        results = json.load(f)   "
   ]
  },
  {
   "cell_type": "code",
   "execution_count": 4,
   "metadata": {},
   "outputs": [],
   "source": [
    "bipartite_jazz_net =  net.build_bipartite_network(results,'title','artists','year')"
   ]
  },
  {
   "cell_type": "code",
   "execution_count": null,
   "metadata": {},
   "outputs": [],
   "source": [
    "centralities = net.get_bipartite_degree_centrality(bipartite_jazz_net)"
   ]
  },
  {
   "cell_type": "code",
   "execution_count": 95,
   "metadata": {},
   "outputs": [],
   "source": [
    "names  = centralities"
   ]
  },
  {
   "cell_type": "code",
   "execution_count": 73,
   "metadata": {},
   "outputs": [
    {
     "name": "stdout",
     "output_type": "stream",
     "text": [
      "1 - rudy van gelder - {'mixed', 'mastered', 'engineer', 'lacquer cut', 'recorded', 'remastered'}\n",
      "2 - manfred eicher - {'liner notes', 'mixed', 'mastered', 'producer', 'executive producer', 'supervised', 'co producer', 'engineer', 'technician', 'edited'}\n",
      "3 - francis wolff - {'design', 'photography', 'producer', 'cover'}\n",
      "4 - reid miles - {'cover', 'artwork', 'art direction', 'design', 'photography'}\n",
      "5 - alfred lion - {'producer'}\n",
      "6 - nat hentoff - {'supervised', 'liner notes', 'producer', 'sleeve notes'}\n",
      "7 - jan erik kongshaug - {'mixed', 'mastered', 'field recording', 'engineer', 'edited', 'recorded'}\n",
      "8 - ron carter - {'main artist', 'recorder', 'double bass', 'producer', 'soloist', 'composed', 'conductor', 'strings', 'written', 'arranged', 'cello', 'piccolo'}\n",
      "9 - creed taylor - {'producer'}\n",
      "10 - herbie hancock - {'main artist', 'organ', 'harp', 'drum programming', 'drum machine', 'conductor', 'written', 'featuring', 'producer', 'piano', 'performer', 'guest', 'percussion', 'arranged', 'synthesizer', 'vocals', 'mellotron', 'executive producer', 'soloist', 'vocoder', 'liner notes', 'backing vocals', 'clavinet', 'keyboards'}\n",
      "11 - orrin keepnews - {'mixed', 'producer', 'executive producer', 'compilation producer', 'supervised', 'engineer', 'remix', 'liner notes', 'sleeve notes'}\n",
      "12 - paul chambers - {'main artist', 'recorder', 'featuring'}\n",
      "13 - ira gitler - {'supervised', 'liner notes', 'sleeve notes'}\n",
      "14 - leonard feather - {'liner notes', 'producer', 'sleeve notes'}\n",
      "15 - chuck stewart - {'photography', 'bells', 'cover'}\n",
      "16 - bob thiele - {'mixed', 'producer', 'executive producer', 'supervised', 'liner notes', 'photography'}\n",
      "17 - greg calbi - {'mastered', 'engineer', 'lacquer cut'}\n",
      "18 - barbara wojirsch - {'design', 'cover', 'artwork', 'layout'}\n",
      "19 - sascha kleis - {'design', 'photography', 'layout'}\n",
      "20 - john zorn - {'main artist', 'vocals', 'producer', 'executive producer', 'saxophone', 'artwork', 'piano', 'composed', 'music', 'created', 'conductor', 'voice', 'arranged', 'liner notes', 'design', 'written'}\n"
     ]
    }
   ],
   "source": [
    "names  = centralities\n",
    "idx =1\n",
    "for n in names :\n",
    "    print(idx,\"-\",n,\"-\",get_results(centralities)[n])\n",
    "    idx+=1"
   ]
  },
  {
   "cell_type": "code",
   "execution_count": 8,
   "metadata": {},
   "outputs": [
    {
     "data": {
      "text/plain": [
       "14"
      ]
     },
     "execution_count": 8,
     "metadata": {},
     "output_type": "execute_result"
    }
   ],
   "source": [
    "len(get_results(centralities).keys())"
   ]
  },
  {
   "cell_type": "markdown",
   "metadata": {},
   "source": [
    "# jazz Album projection network "
   ]
  },
  {
   "cell_type": "code",
   "execution_count": 5,
   "metadata": {},
   "outputs": [
    {
     "name": "stdout",
     "output_type": "stream",
     "text": [
      "nb nodes:  4741\n",
      "nb edges:  369779\n",
      "Min node degree:  0\n",
      "Max node degree:  941\n",
      "Avg node degree:  155.99198481333053\n"
     ]
    }
   ],
   "source": [
    "albums = [x for x,y in bipartite_jazz_net.nodes(data=True) if y['type']=='Album']\n",
    "jazz_album_projection_network = nx.projected_graph(bipartite_jazz_net, albums, multigraph=False)\n",
    "#jazz_album_projection_network = net.build_album_projection_network(albums,'title','artists','year')\n",
    "net.get_network_info(jazz_album_projection_network)"
   ]
  },
  {
   "cell_type": "code",
   "execution_count": 13,
   "metadata": {},
   "outputs": [
    {
     "name": "stdout",
     "output_type": "stream",
     "text": [
      "get_avg_path_length:  2.8330139350781245\n"
     ]
    }
   ],
   "source": [
    "largest_cc = max(nx.connected_components(jazz_album_projection_network), key=len)\n",
    "largest_cc = jazz_album_projection_network.subgraph(largest_cc)\n",
    "net.get_avg_path_length(largest_cc)"
   ]
  },
  {
   "cell_type": "code",
   "execution_count": 25,
   "metadata": {},
   "outputs": [
    {
     "name": "stdout",
     "output_type": "stream",
     "text": [
      "Diameter :  11\n",
      "Density :  0.0329097014374115\n",
      "Nb connected components :  208\n",
      "Avg weighted degree :  2476025.6645222525\n",
      "Average clustering coefficient :  0.5362826376872663\n"
     ]
    }
   ],
   "source": [
    "net.get_diameter(largest_cc)\n",
    "net.get_density(jazz_album_projection_network)\n",
    "net.get_nb_of_connected_comp(jazz_album_projection_network)\n",
    "net.get_avg_weighted_degree(jazz_album_projection_network)\n",
    "net.get_avg_clustering_coefficent(jazz_album_projection_network)"
   ]
  },
  {
   "cell_type": "markdown",
   "metadata": {},
   "source": [
    "## clustering coefficient"
   ]
  },
  {
   "cell_type": "code",
   "execution_count": 22,
   "metadata": {},
   "outputs": [
    {
     "data": {
      "text/plain": [
       "337"
      ]
     },
     "execution_count": 22,
     "metadata": {},
     "output_type": "execute_result"
    }
   ],
   "source": [
    "nb_solo = 0\n",
    "for r in results : \n",
    "    if len(r['artists']) <= 3 :\n",
    "        nb_solo+=1\n",
    "nb_solo        "
   ]
  },
  {
   "cell_type": "code",
   "execution_count": 16,
   "metadata": {},
   "outputs": [
    {
     "name": "stdout",
     "output_type": "stream",
     "text": [
      "69\n"
     ]
    },
    {
     "data": {
      "image/png": "[encoded data removed]",
      "text/plain": [
       "<Figure size 640x480 with 1 Axes>"
      ]
     },
     "metadata": {},
     "output_type": "display_data"
    }
   ],
   "source": [
    "net.plot_hist_clustering_coeff_by_amount(jazz_album_projection_network)"
   ]
  },
  {
   "cell_type": "code",
   "execution_count": 23,
   "metadata": {},
   "outputs": [
    {
     "data": {
      "image/png": "[encoded data removed]",
      "text/plain": [
       "<Figure size 640x480 with 1 Axes>"
      ]
     },
     "metadata": {},
     "output_type": "display_data"
    }
   ],
   "source": [
    "net.plot_clustering_coeff_by_degree(jazz_album_projection_network)"
   ]
  },
  {
   "cell_type": "code",
   "execution_count": 108,
   "metadata": {},
   "outputs": [],
   "source": [
    "net.save_graph(jazz_album_projection_network,\"../networks/gephi/jazz_album_projection_network.gexf\")"
   ]
  },
  {
   "cell_type": "markdown",
   "metadata": {},
   "source": [
    "# Jazz collaborators network "
   ]
  },
  {
   "cell_type": "code",
   "execution_count": 7,
   "metadata": {},
   "outputs": [],
   "source": [
    "collaborators = [x for x,y in bipartite_jazz_net.nodes(data=True) if y['type']=='Artist']\n",
    "collaborators_projection_network = nx.projected_graph(bipartite_jazz_net, collaborators, multigraph=False) \n",
    "net.save_graph(collaborators_projection_network,\"../networks/gephi/jazz_collaborators_projection.gexf\")"
   ]
  },
  {
   "cell_type": "markdown",
   "metadata": {},
   "source": [
    "## General Network  info"
   ]
  },
  {
   "cell_type": "code",
   "execution_count": 15,
   "metadata": {},
   "outputs": [],
   "source": [
    "largest_cc = max(nx.connected_components(collaborators_projection_network), key=len)\n",
    "largest_cc = collaborators_projection_network.subgraph(largest_cc)"
   ]
  },
  {
   "cell_type": "code",
   "execution_count": 20,
   "metadata": {},
   "outputs": [
    {
     "name": "stdout",
     "output_type": "stream",
     "text": [
      "Diameter :  12\n",
      "Density :  0.0014801664464818677\n",
      "Nb connected components :  208\n",
      "Avg weighted degree :  3166474822.5064344\n",
      "Average clustering coefficient :  0.8453609697036518\n"
     ]
    }
   ],
   "source": [
    "net.get_network_info(collaborators_projection_network)      \n",
    "net.get_diameter(largest_cc)\n",
    "net.get_density(collaborators_projection_network)\n",
    "net.get_nb_of_connected_comp(collaborators_projection_network)\n",
    "net.get_avg_weighted_degree(collaborators_projection_network)\n",
    "net.get_avg_clustering_coefficent(collaborators_projection_network)\n",
    "net.get_avg_path_length(largest_cc)"
   ]
  },
  {
   "cell_type": "code",
   "execution_count": 113,
   "metadata": {},
   "outputs": [],
   "source": []
  },
  {
   "cell_type": "code",
   "execution_count": null,
   "metadata": {},
   "outputs": [],
   "source": [
    "top50musicians = sorted(collaborators_projection_network.degree, key=lambda x: x[1], reverse=True)\n",
    "top50musicians"
   ]
  },
  {
   "cell_type": "markdown",
   "metadata": {},
   "source": [
    "## Local Clustering coefficient"
   ]
  },
  {
   "cell_type": "code",
   "execution_count": 43,
   "metadata": {},
   "outputs": [
    {
     "name": "stdout",
     "output_type": "stream",
     "text": [
      "153\n"
     ]
    },
    {
     "data": {
      "image/png": "[encoded data removed]",
      "text/plain": [
       "<Figure size 640x480 with 1 Axes>"
      ]
     },
     "metadata": {},
     "output_type": "display_data"
    }
   ],
   "source": [
    "net.plot_hist_clustering_coeff_by_amount(collaborators_projection_network)"
   ]
  },
  {
   "cell_type": "code",
   "execution_count": 37,
   "metadata": {},
   "outputs": [
    {
     "data": {
      "image/png": "[encoded data removed]",
      "text/plain": [
       "<Figure size 640x480 with 1 Axes>"
      ]
     },
     "metadata": {},
     "output_type": "display_data"
    }
   ],
   "source": [
    "net.plot_clustering_coeff_by_degree(collaborators_projection_network)"
   ]
  },
  {
   "cell_type": "markdown",
   "metadata": {},
   "source": [
    "## Centralities Analysis"
   ]
  },
  {
   "cell_type": "markdown",
   "metadata": {},
   "source": [
    "### Degree centralities"
   ]
  },
  {
   "cell_type": "code",
   "execution_count": 106,
   "metadata": {},
   "outputs": [],
   "source": [
    "top_artists_names = net.get_degree_centrality(collaborators_projection_network)[0]\n",
    "idx = 1\n",
    "for n in top_artists_names :\n",
    "    print(idx,\"-\",n,\"-\",get_results(top_artists_names)[n])\n",
    "    idx+=1"
   ]
  },
  {
   "cell_type": "markdown",
   "metadata": {},
   "source": [
    "### Eigenvector centralities"
   ]
  },
  {
   "cell_type": "code",
   "execution_count": null,
   "metadata": {},
   "outputs": [],
   "source": [
    "top_artists_names = net.get_eigenvector_centrality(collaborators_projection_network)[0]\n",
    "idx = 1\n",
    "for n in top_artists_names :\n",
    "    print(idx,\"-\",n,\"-\",get_results(top_artists_names)[n])\n",
    "    idx+=1"
   ]
  },
  {
   "cell_type": "markdown",
   "metadata": {},
   "source": [
    "### Betweenness centrality"
   ]
  },
  {
   "cell_type": "code",
   "execution_count": null,
   "metadata": {},
   "outputs": [],
   "source": [
    "top_artists_names = net.get_betweenness_centrality(collaborators_projection_network)[0]\n",
    "idx = 1\n",
    "for n in top_artists_names :\n",
    "    print(idx,\"-\",n,\"-\",get_results(top_artists_names)[n])\n",
    "    idx+=1"
   ]
  },
  {
   "cell_type": "markdown",
   "metadata": {},
   "source": [
    "### Correlation between the centralities "
   ]
  },
  {
   "cell_type": "code",
   "execution_count": 9,
   "metadata": {},
   "outputs": [
    {
     "name": "stdout",
     "output_type": "stream",
     "text": [
      "Spearman corr between projected degree k and betweenness centrality SignificanceResult(statistic=0.9988715437443674, pvalue=2.8063564772254223e-25)\n",
      "Spearman corr between projected degree k and eigenvector centrality is  SignificanceResult(statistic=0.950163493671981, pvalue=1.502221594959727e-10)\n",
      "Spearman corr between betweenness centrality and eigenvector centrality SignificanceResult(statistic=0.950163493671981, pvalue=1.502221594959727e-10)\n"
     ]
    }
   ],
   "source": [
    "names = net.get_spearman_corr(collaborators_projection_network)"
   ]
  },
  {
   "cell_type": "code",
   "execution_count": 40,
   "metadata": {},
   "outputs": [
    {
     "data": {
      "text/plain": [
       "{'al schmitt',\n",
       " 'bernie grundman',\n",
       " 'bill frisell',\n",
       " 'bob ludwig',\n",
       " 'chick corea',\n",
       " 'dave holland',\n",
       " 'david baker',\n",
       " 'evan parker',\n",
       " 'greg calbi',\n",
       " 'herbie hancock',\n",
       " 'hermeto pascoal',\n",
       " 'jack dejohnette',\n",
       " 'jan erik kongshaug',\n",
       " 'kenny wheeler',\n",
       " 'manfred eicher',\n",
       " 'martin s. gold',\n",
       " 'ron carter',\n",
       " 'rudy van gelder',\n",
       " 'scott hull',\n",
       " 'wayne shorter'}"
      ]
     },
     "execution_count": 40,
     "metadata": {},
     "output_type": "execute_result"
    }
   ],
   "source": [
    "artists_dict = dict()\n",
    "artist_set = set()\n",
    "for c in names:\n",
    "   artist_set.add(collaborators_projection_network.nodes[c]['name'])\n",
    "artist_set"
   ]
  },
  {
   "cell_type": "markdown",
   "metadata": {},
   "source": [
    "# All Time album Network"
   ]
  },
  {
   "cell_type": "code",
   "execution_count": 4,
   "metadata": {},
   "outputs": [],
   "source": [
    "albums = None\n",
    "with open('../data/albums/all_time_album-final.json',encoding=\"UTF-8\") as f:\n",
    "        albums = json.load(f)   "
   ]
  },
  {
   "cell_type": "code",
   "execution_count": 33,
   "metadata": {},
   "outputs": [
    {
     "name": "stdout",
     "output_type": "stream",
     "text": [
      "nb nodes:  3971\n",
      "nb edges:  46696\n",
      "Min node degree:  0\n",
      "Max node degree:  200\n",
      "Avg node degree:  23.518509191639385\n"
     ]
    }
   ],
   "source": [
    "album_projection_network = net.build_album_projection_network(albums,'title','artists')\n",
    "net.get_network_info(album_projection_network)"
   ]
  },
  {
   "cell_type": "code",
   "execution_count": 34,
   "metadata": {},
   "outputs": [],
   "source": [
    "net.save_graph(album_projection_network,\"../networks/gephi/all_time_album_projection.gexf\")"
   ]
  },
  {
   "cell_type": "code",
   "execution_count": 30,
   "metadata": {},
   "outputs": [
    {
     "name": "stdout",
     "output_type": "stream",
     "text": [
      "nb nodes:  27406\n",
      "nb edges:  37354\n",
      "Min node degree:  1\n",
      "Max node degree:  153\n",
      "Avg node degree:  2.725972414799679\n"
     ]
    }
   ],
   "source": [
    "collaborators_projection_network = net.build_collaborators_projection_network(albums,'artists')\n",
    "net.get_network_info(collaborators_projection_network)     "
   ]
  },
  {
   "cell_type": "code",
   "execution_count": 31,
   "metadata": {},
   "outputs": [],
   "source": [
    "net.save_graph(collaborators_projection_network,\"../networks/gephi/all_time_collaborators_projection.gexf\")"
   ]
  },
  {
   "cell_type": "markdown",
   "metadata": {},
   "source": [
    "# Montreux"
   ]
  },
  {
   "cell_type": "code",
   "execution_count": 42,
   "metadata": {},
   "outputs": [],
   "source": [
    "mjf = None\n",
    "with open('../data/mjf/mfj_export_clean-final.json',encoding=\"UTF-8\") as f:\n",
    "        mjf = json.load(f)      \n",
    "results = mjf"
   ]
  },
  {
   "cell_type": "code",
   "execution_count": 16,
   "metadata": {},
   "outputs": [],
   "source": [
    "def get_results(centrality) : \n",
    "    artists_dict = dict()\n",
    "    for row in results : \n",
    "        for art in row['musicians'] :\n",
    "            for c in  centrality:\n",
    "                if art['name'] == c :\n",
    "                    if art['name'] not in artists_dict.keys() :\n",
    "                        artists_dict[art['name']] = set()\n",
    "                   \n",
    "                    for r in row['categories']:\n",
    "                        artists_dict[art['name']].add(r)\n",
    "                    break    \n",
    "    return artists_dict"
   ]
  },
  {
   "cell_type": "markdown",
   "metadata": {},
   "source": [
    "## Bipartite Graph"
   ]
  },
  {
   "cell_type": "code",
   "execution_count": 76,
   "metadata": {},
   "outputs": [],
   "source": [
    "bipartite_mjf_net = net.build_bipartite_network(results,'name','musicians','date','categories')"
   ]
  },
  {
   "cell_type": "code",
   "execution_count": 72,
   "metadata": {},
   "outputs": [
    {
     "name": "stdout",
     "output_type": "stream",
     "text": [
      "74\n",
      "56\n",
      "43\n",
      "32\n",
      "28\n",
      "26\n",
      "26\n",
      "25\n",
      "24\n",
      "23\n",
      "23\n",
      "23\n",
      "23\n",
      "23\n",
      "22\n",
      "21\n",
      "21\n",
      "21\n",
      "20\n",
      "20\n"
     ]
    }
   ],
   "source": [
    "centralities = net.get_bipartite_degree_centrality(bipartite_mjf_net)"
   ]
  },
  {
   "cell_type": "code",
   "execution_count": null,
   "metadata": {},
   "outputs": [],
   "source": [
    "names = centralities\n",
    "idx =1\n",
    "for n in names[0] :\n",
    "    print(idx,\"-\",n,\"-\",get_results(centralities[0])[n])\n",
    "    idx+=1"
   ]
  },
  {
   "cell_type": "markdown",
   "metadata": {},
   "source": [
    "## Events Network"
   ]
  },
  {
   "cell_type": "code",
   "execution_count": 107,
   "metadata": {},
   "outputs": [
    {
     "name": "stdout",
     "output_type": "stream",
     "text": [
      "nb nodes:  4280\n",
      "nb edges:  22057\n",
      "Min node degree:  0\n",
      "Max node degree:  306\n",
      "Avg node degree:  10.307009345794393\n"
     ]
    }
   ],
   "source": [
    "#mjf_event_net = net.build_album_projection_network(results,'name','musicians','date')\n",
    "albums = [x for x,y in bipartite_mjf_net.nodes(data=True) if y['type']=='Album']\n",
    "mjf_event_net = nx.projected_graph(bipartite_mjf_net, albums, multigraph=False)\n",
    "net.get_network_info(mjf_event_net)\n"
   ]
  },
  {
   "cell_type": "code",
   "execution_count": 111,
   "metadata": {},
   "outputs": [
    {
     "name": "stdout",
     "output_type": "stream",
     "text": [
      "nb nodes : 2875\n",
      "percentage of nodes in the giant component:  67.17289719626169 %\n"
     ]
    }
   ],
   "source": [
    "largest_cc = max(nx.connected_components(mjf_event_net), key=len)\n",
    "largest_cc = mjf_event_net.subgraph(largest_cc)\n",
    "print(\"nb nodes :\", len(largest_cc))\n",
    "print(\"percentage of nodes in the giant component: \",(len(largest_cc) *100)/len(mjf_event_net),\"%\")"
   ]
  },
  {
   "cell_type": "code",
   "execution_count": null,
   "metadata": {},
   "outputs": [],
   "source": [
    "largest_cc = max(nx.connected_components(mjf_event_net), key=len)\n",
    "largest_cc = mjf_event_net.subgraph(largest_cc)\n",
    "net.get_diameter(largest_cc)\n",
    "net.get_density(mjf_event_net)\n",
    "net.get_nb_of_connected_comp(mjf_event_net)\n",
    "#net.get_avg_weighted_degree(mjf_event_net)\n",
    "net.get_avg_clustering_coefficent(mjf_event_net)"
   ]
  },
  {
   "cell_type": "code",
   "execution_count": 22,
   "metadata": {},
   "outputs": [],
   "source": [
    "net.save_graph(mjf_event_net,\"../networks/gephi/mjf_event_graph.gexf\")"
   ]
  },
  {
   "cell_type": "markdown",
   "metadata": {},
   "source": [
    "## Collaboration network "
   ]
  },
  {
   "cell_type": "code",
   "execution_count": 77,
   "metadata": {},
   "outputs": [
    {
     "name": "stdout",
     "output_type": "stream",
     "text": [
      "nb nodes:  17639\n",
      "nb edges:  108230\n",
      "Min node degree:  0\n",
      "Max node degree:  550\n",
      "Avg node degree:  12.271670729633199\n"
     ]
    }
   ],
   "source": [
    "collaborators = [x for x,y in bipartite_mjf_net.nodes(data=True) if y['type']=='Artist']\n",
    "mjf_collaboration_net = nx.projected_graph(bipartite_mjf_net, collaborators, multigraph=False)\n",
    "net.get_network_info(mjf_collaboration_net)\n"
   ]
  },
  {
   "cell_type": "code",
   "execution_count": 46,
   "metadata": {},
   "outputs": [
    {
     "data": {
      "text/plain": [
       "11727"
      ]
     },
     "execution_count": 46,
     "metadata": {},
     "output_type": "execute_result"
    }
   ],
   "source": [
    "largest_cc = max(nx.connected_components(mjf_collaboration_net), key=len)\n",
    "largest_cc = mjf_collaboration_net.subgraph(largest_cc)\n",
    "len(largest_cc)"
   ]
  },
  {
   "cell_type": "code",
   "execution_count": 47,
   "metadata": {},
   "outputs": [
    {
     "name": "stdout",
     "output_type": "stream",
     "text": [
      "percentage of nodes in the giant component:  66.48336073473553 %\n"
     ]
    }
   ],
   "source": [
    "#percentage of nodes in the giant component :\n",
    "print(\"percentage of nodes in the giant component: \",(len(largest_cc) *100)/len(mjf_collaboration_net),\"%\")"
   ]
  },
  {
   "cell_type": "code",
   "execution_count": null,
   "metadata": {},
   "outputs": [],
   "source": [
    "largest_cc = max(nx.connected_components(mjf_collaboration_net), key=len)\n",
    "largest_cc = mjf_collaboration_net.subgraph(largest_cc)\n",
    "net.get_diameter(largest_cc)\n",
    "net.get_density(mjf_collaboration_net)\n",
    "net.get_nb_of_connected_comp(mjf_collaboration_net)\n",
    "net.get_avg_weighted_degree(mjf_collaboration_net)\n",
    "net.get_avg_clustering_coefficent(mjf_collaboration_net)"
   ]
  },
  {
   "cell_type": "code",
   "execution_count": 26,
   "metadata": {},
   "outputs": [],
   "source": [
    "net.save_graph(mjf_collaboration_net,\"../networks/gephi/mjf_collaboration_network.gexf\")"
   ]
  },
  {
   "cell_type": "code",
   "execution_count": 26,
   "metadata": {},
   "outputs": [],
   "source": [
    "def get_results(centrality) : \n",
    "    artists_dict = dict()\n",
    "    for row in results : \n",
    "        for art in row['musicians'] :\n",
    "            for c in centrality:\n",
    "                if art['id'] == int(str(c)[3:]) :\n",
    "                    if art['name'] not in artists_dict.keys() :\n",
    "                        artists_dict[art['id']] = set()\n",
    "                   \n",
    "                    for r in row['categories']:\n",
    "                        artists_dict[art['id']].add(r)\n",
    "                    break    \n",
    "    return artists_dict"
   ]
  },
  {
   "cell_type": "code",
   "execution_count": null,
   "metadata": {},
   "outputs": [],
   "source": [
    "centralities = net.get_degree_centrality(mjf_collaboration_net)\n",
    "names = centralities\n",
    "idx = 1\n",
    "for n in names[0] :\n",
    "    print(idx,\"-\",int(str(n)[3:]),\"-\",get_results(centralities[0])[int(str(n)[3:])])\n",
    "    idx+=1"
   ]
  },
  {
   "cell_type": "markdown",
   "metadata": {},
   "source": [
    "## Meta-Network genres"
   ]
  },
  {
   "cell_type": "code",
   "execution_count": 36,
   "metadata": {},
   "outputs": [],
   "source": [
    "df = pd.read_csv(\"../data/genres/musician_genre.csv\",sep=';')\n",
    "df[\"genres\"] = df[\"genres\"].apply(lambda x : str(x).split(\",\"))\n"
   ]
  },
  {
   "cell_type": "code",
   "execution_count": 11,
   "metadata": {},
   "outputs": [
    {
     "data": {
      "text/html": [
       "<div>\n",
       "<style scoped>\n",
       "    .dataframe tbody tr th:only-of-type {\n",
       "        vertical-align: middle;\n",
       "    }\n",
       "\n",
       "    .dataframe tbody tr th {\n",
       "        vertical-align: top;\n",
       "    }\n",
       "\n",
       "    .dataframe thead th {\n",
       "        text-align: right;\n",
       "    }\n",
       "</style>\n",
       "<table border=\"1\" class=\"dataframe\">\n",
       "  <thead>\n",
       "    <tr style=\"text-align: right;\">\n",
       "      <th></th>\n",
       "      <th>id</th>\n",
       "      <th>genres</th>\n",
       "    </tr>\n",
       "  </thead>\n",
       "  <tbody>\n",
       "    <tr>\n",
       "      <th>0</th>\n",
       "      <td>30407</td>\n",
       "      <td>[World Music]</td>\n",
       "    </tr>\n",
       "    <tr>\n",
       "      <th>1</th>\n",
       "      <td>9124</td>\n",
       "      <td>[World Music, Electronic/Dance]</td>\n",
       "    </tr>\n",
       "    <tr>\n",
       "      <th>2</th>\n",
       "      <td>30423</td>\n",
       "      <td>[World Music]</td>\n",
       "    </tr>\n",
       "    <tr>\n",
       "      <th>3</th>\n",
       "      <td>30421</td>\n",
       "      <td>[World Music]</td>\n",
       "    </tr>\n",
       "    <tr>\n",
       "      <th>4</th>\n",
       "      <td>30420</td>\n",
       "      <td>[World Music]</td>\n",
       "    </tr>\n",
       "  </tbody>\n",
       "</table>\n",
       "</div>"
      ],
      "text/plain": [
       "      id                           genres\n",
       "0  30407                    [World Music]\n",
       "1   9124  [World Music, Electronic/Dance]\n",
       "2  30423                    [World Music]\n",
       "3  30421                    [World Music]\n",
       "4  30420                    [World Music]"
      ]
     },
     "execution_count": 11,
     "metadata": {},
     "output_type": "execute_result"
    }
   ],
   "source": [
    "df.head()"
   ]
  },
  {
   "cell_type": "code",
   "execution_count": 46,
   "metadata": {},
   "outputs": [],
   "source": [
    "cat = None\n",
    "with open(\"../data/genres/genres_cat.json\",encoding=\"utf-8\") as f:\n",
    "            cat = json.load(f)  "
   ]
  },
  {
   "cell_type": "code",
   "execution_count": null,
   "metadata": {},
   "outputs": [],
   "source": [
    "#if M1 and M2 collabored together multiple time weigth of edge increases, so what to do? count once the collaboration or leave it \n",
    "treated = set()\n",
    "meta_net_genres = nx.Graph()\n",
    "treated_node_weight = set()\n",
    "\n",
    "for cate in cat['categories']:\n",
    "    meta_net_genres.add_node(cate['category'],weight=0)\n",
    "\n",
    "for n,d in mjf_collaboration_net.nodes(data=True):\n",
    "    treated.add(int(str(n)[3:]))  \n",
    "    musician_in = df[df['id'] == int(str(n)[3:])]   \n",
    "    for g in musician_in['genres'].squeeze(): \n",
    "        meta_net_genres.nodes[g]['weight'] += 1 \n",
    "         \n",
    "    for neighbor in mjf_collaboration_net.neighbors(n):\n",
    "        if int(str(neighbor)[3:]) not in treated :\n",
    "            musician_out = df[df['id'] == int(str(neighbor)[3:])] \n",
    "            \n",
    "            for g_in in musician_out['genres'].squeeze():\n",
    "                for g2 in musician_in['genres'].squeeze():   \n",
    "                    if g_in >= g2 : \n",
    "                        continue      \n",
    "                    if not meta_net_genres.has_edge(g_in,g2) :                     \n",
    "                        meta_net_genres.add_edge(g_in, g2,weight = 1)   \n",
    "                    else :\n",
    "                        meta_net_genres[g_in][g2]['weight'] += 1      \n",
    "                                 "
   ]
  },
  {
   "cell_type": "code",
   "execution_count": 46,
   "metadata": {},
   "outputs": [],
   "source": [
    "net.save_graph(meta_net_genres,\"../networks/gephi/meta_net_genres_final.gexf\")"
   ]
  },
  {
   "cell_type": "markdown",
   "metadata": {},
   "source": [
    "### Meta network of jazz subgenres"
   ]
  },
  {
   "cell_type": "code",
   "execution_count": 53,
   "metadata": {},
   "outputs": [],
   "source": [
    "normalized_dict = pd.json_normalize(cat['categories'], sep=',')\n",
    "jazz_subgenres = list(normalized_dict[(normalized_dict['category']=='Jazz')]['genres'])[0]"
   ]
  },
  {
   "cell_type": "code",
   "execution_count": 54,
   "metadata": {},
   "outputs": [],
   "source": [
    "jazz_subgenres_clean =list()\n",
    "for g in jazz_subgenres :\n",
    "    jazz_subgenres_clean.append(g.lower())"
   ]
  },
  {
   "cell_type": "code",
   "execution_count": 55,
   "metadata": {},
   "outputs": [],
   "source": [
    "df = pd.read_csv(\"../data/genres/musician_jazz_sub_genre.csv\",sep=';')\n",
    "df[\"genres\"] = df[\"genres\"].apply(lambda x : str(x).split(\",\"))"
   ]
  },
  {
   "cell_type": "code",
   "execution_count": 56,
   "metadata": {},
   "outputs": [],
   "source": [
    "#if M1 and M2 collabored together multiple time weigth of edge increases, so what to do? count once the collaboration or leave it \n",
    "treated = set()\n",
    "meta_net_genres = nx.Graph()\n",
    "treated_node_weight = set()\n",
    "\n",
    "for cate in jazz_subgenres_clean:\n",
    "    meta_net_genres.add_node(cate,weight=0)\n",
    "\n",
    "for n,d in mjf_collaboration_net.nodes(data=True):\n",
    "    treated.add(int(str(n)[3:]))  \n",
    "    musician_in = df[df['id'] == int(str(n)[3:])]   \n",
    "    musician_in_genre  = musician_in['genres'].squeeze()\n",
    "  \n",
    "    if  len(musician_in_genre) != 0 and str(musician_in_genre[0]) != 'nan':\n",
    "    \n",
    "        for g in musician_in_genre: \n",
    "             meta_net_genres.nodes[g]['weight'] += 1 \n",
    "         \n",
    "        for neighbor in mjf_collaboration_net.neighbors(n):\n",
    "             if int(str(neighbor)[3:]) not in treated :\n",
    "                musician_out = df[df['id'] == int(str(neighbor)[3:])] \n",
    "                musician_out_genre = musician_out['genres'].squeeze()\n",
    "                if len(musician_out_genre)!=0 and str(musician_out_genre[0])!= 'nan':\n",
    "                    for g_in in musician_out_genre:\n",
    "                        for g2 in musician_in_genre:   \n",
    "                            if g_in >= g2 : \n",
    "                                continue      \n",
    "                            if not meta_net_genres.has_edge(g_in,g2) :                     \n",
    "                                meta_net_genres.add_edge(g_in, g2,weight = 1)   \n",
    "                            else :\n",
    "                                meta_net_genres[g_in][g2]['weight'] += 1      \n",
    "                                 "
   ]
  },
  {
   "cell_type": "code",
   "execution_count": 57,
   "metadata": {},
   "outputs": [],
   "source": [
    "net.save_graph(meta_net_genres,\"../networks/gephi/meta_net_jazz_subgenres.gexf\")"
   ]
  },
  {
   "cell_type": "markdown",
   "metadata": {},
   "source": [
    "## Role specific network"
   ]
  },
  {
   "cell_type": "code",
   "execution_count": 78,
   "metadata": {},
   "outputs": [
    {
     "data": {
      "text/html": [
       "<div>\n",
       "<style scoped>\n",
       "    .dataframe tbody tr th:only-of-type {\n",
       "        vertical-align: middle;\n",
       "    }\n",
       "\n",
       "    .dataframe tbody tr th {\n",
       "        vertical-align: top;\n",
       "    }\n",
       "\n",
       "    .dataframe thead th {\n",
       "        text-align: right;\n",
       "    }\n",
       "</style>\n",
       "<table border=\"1\" class=\"dataframe\">\n",
       "  <thead>\n",
       "    <tr style=\"text-align: right;\">\n",
       "      <th></th>\n",
       "      <th>name</th>\n",
       "    </tr>\n",
       "  </thead>\n",
       "  <tbody>\n",
       "    <tr>\n",
       "      <th>0</th>\n",
       "      <td>ableton</td>\n",
       "    </tr>\n",
       "    <tr>\n",
       "      <th>1</th>\n",
       "      <td>accordion</td>\n",
       "    </tr>\n",
       "    <tr>\n",
       "      <th>2</th>\n",
       "      <td>acoustic drums</td>\n",
       "    </tr>\n",
       "    <tr>\n",
       "      <th>3</th>\n",
       "      <td>ad</td>\n",
       "    </tr>\n",
       "    <tr>\n",
       "      <th>4</th>\n",
       "      <td>agogo</td>\n",
       "    </tr>\n",
       "  </tbody>\n",
       "</table>\n",
       "</div>"
      ],
      "text/plain": [
       "             name\n",
       "0         ableton\n",
       "1       accordion\n",
       "2  acoustic drums\n",
       "3              ad\n",
       "4           agogo"
      ]
     },
     "execution_count": 78,
     "metadata": {},
     "output_type": "execute_result"
    }
   ],
   "source": [
    "instruments = pd.read_csv(\"../data/instruments/mjf_instruments.csv\",sep=\",\")\n",
    "instruments.head()"
   ]
  },
  {
   "cell_type": "code",
   "execution_count": 79,
   "metadata": {},
   "outputs": [],
   "source": [
    "cnames=['instrument','nb_nodes' ,'size_of_the_GC', 'fraction_of_omitted_edges']\n",
    "df = pd.DataFrame(columns=cnames)"
   ]
  },
  {
   "cell_type": "code",
   "execution_count": 89,
   "metadata": {},
   "outputs": [],
   "source": [
    "for instru in instruments['name']:\n",
    "\n",
    "    role_specific_network = net.build_role_specific_network(results,'name','musicians','date','categories',instru)\n",
    "    collaborators = [x for x,y in role_specific_network.nodes(data=True) if y['type']=='Artist']\n",
    "    role_specific_network = nx.projected_graph(role_specific_network, collaborators, multigraph=False)\n",
    "    largest_cc = max(nx.connected_components(role_specific_network), key=len)\n",
    "    largest_cc = role_specific_network.subgraph(largest_cc)\n",
    "    \n",
    "    nb_nodes = len(largest_cc)\n",
    "    per_size_of_GC = (len(largest_cc) *100)/len(mjf_collaboration_net)\n",
    "    per_ommited_eges = 100 - (len(role_specific_network.edges)*100)/len(mjf_collaboration_net.edges)\n",
    "    df.loc[-1]  = [instru,nb_nodes,per_size_of_GC,per_ommited_eges]\n",
    "    df.index = df.index + 1\n",
    "    #print(\"Number of nodes in the giant component\",len(largest_cc))\n",
    "    #print(\"percentage of nodes in the giant component: \",(len(largest_cc) *100)/len(mjf_collaboration_net),\"%\")\n",
    "    #print(\"Fraction of ommited edges:\",100 - (len(role_specific_network.edges)*100)/len(mjf_collaboration_net.edges),\"%\")\n"
   ]
  },
  {
   "cell_type": "code",
   "execution_count": null,
   "metadata": {},
   "outputs": [],
   "source": [
    "df = df.sort_index() \n",
    "df = df.sort_values('size_of_the_GC')"
   ]
  },
  {
   "cell_type": "code",
   "execution_count": 102,
   "metadata": {},
   "outputs": [
    {
     "data": {
      "text/html": [
       "<div>\n",
       "<style scoped>\n",
       "    .dataframe tbody tr th:only-of-type {\n",
       "        vertical-align: middle;\n",
       "    }\n",
       "\n",
       "    .dataframe tbody tr th {\n",
       "        vertical-align: top;\n",
       "    }\n",
       "\n",
       "    .dataframe thead th {\n",
       "        text-align: right;\n",
       "    }\n",
       "</style>\n",
       "<table border=\"1\" class=\"dataframe\">\n",
       "  <thead>\n",
       "    <tr style=\"text-align: right;\">\n",
       "      <th></th>\n",
       "      <th>instrument</th>\n",
       "      <th>nb_nodes</th>\n",
       "      <th>size_of_the_GC</th>\n",
       "      <th>fraction_of_omitted_edges</th>\n",
       "    </tr>\n",
       "  </thead>\n",
       "  <tbody>\n",
       "    <tr>\n",
       "      <th>9</th>\n",
       "      <td>vocals</td>\n",
       "      <td>8758</td>\n",
       "      <td>49.651341</td>\n",
       "      <td>29.337522</td>\n",
       "    </tr>\n",
       "    <tr>\n",
       "      <th>146</th>\n",
       "      <td>guitar</td>\n",
       "      <td>9400</td>\n",
       "      <td>53.291003</td>\n",
       "      <td>20.464751</td>\n",
       "    </tr>\n",
       "    <tr>\n",
       "      <th>181</th>\n",
       "      <td>drums</td>\n",
       "      <td>9775</td>\n",
       "      <td>55.416974</td>\n",
       "      <td>17.463735</td>\n",
       "    </tr>\n",
       "    <tr>\n",
       "      <th>71</th>\n",
       "      <td>recorder</td>\n",
       "      <td>9818</td>\n",
       "      <td>55.660752</td>\n",
       "      <td>19.276541</td>\n",
       "    </tr>\n",
       "    <tr>\n",
       "      <th>124</th>\n",
       "      <td>keyboards</td>\n",
       "      <td>10404</td>\n",
       "      <td>58.982936</td>\n",
       "      <td>13.490714</td>\n",
       "    </tr>\n",
       "    <tr>\n",
       "      <th>63</th>\n",
       "      <td>saxophone</td>\n",
       "      <td>10665</td>\n",
       "      <td>60.462611</td>\n",
       "      <td>13.186732</td>\n",
       "    </tr>\n",
       "    <tr>\n",
       "      <th>79</th>\n",
       "      <td>percussions</td>\n",
       "      <td>10750</td>\n",
       "      <td>60.944498</td>\n",
       "      <td>9.597154</td>\n",
       "    </tr>\n",
       "    <tr>\n",
       "      <th>78</th>\n",
       "      <td>piano</td>\n",
       "      <td>10864</td>\n",
       "      <td>61.590793</td>\n",
       "      <td>6.969417</td>\n",
       "    </tr>\n",
       "    <tr>\n",
       "      <th>22</th>\n",
       "      <td>trumpet</td>\n",
       "      <td>10867</td>\n",
       "      <td>61.607801</td>\n",
       "      <td>11.993902</td>\n",
       "    </tr>\n",
       "    <tr>\n",
       "      <th>23</th>\n",
       "      <td>trombone</td>\n",
       "      <td>11178</td>\n",
       "      <td>63.370939</td>\n",
       "      <td>7.614340</td>\n",
       "    </tr>\n",
       "  </tbody>\n",
       "</table>\n",
       "</div>"
      ],
      "text/plain": [
       "      instrument  nb_nodes  size_of_the_GC  fraction_of_omitted_edges\n",
       "9         vocals      8758       49.651341                  29.337522\n",
       "146       guitar      9400       53.291003                  20.464751\n",
       "181        drums      9775       55.416974                  17.463735\n",
       "71      recorder      9818       55.660752                  19.276541\n",
       "124    keyboards     10404       58.982936                  13.490714\n",
       "63     saxophone     10665       60.462611                  13.186732\n",
       "79   percussions     10750       60.944498                   9.597154\n",
       "78         piano     10864       61.590793                   6.969417\n",
       "22       trumpet     10867       61.607801                  11.993902\n",
       "23      trombone     11178       63.370939                   7.614340"
      ]
     },
     "execution_count": 102,
     "metadata": {},
     "output_type": "execute_result"
    }
   ],
   "source": [
    "#Social network\n",
    "df.iloc[0:10,:]"
   ]
  },
  {
   "cell_type": "code",
   "execution_count": null,
   "metadata": {},
   "outputs": [],
   "source": [
    "cnames=['instrument','nb_nodes' ,'size_of_the_GC', 'fraction_of_omitted_edges']\n",
    "df2 = pd.DataFrame(columns=cnames)\n",
    "for instru in instruments['name']:\n",
    "\n",
    "    role_specific_network = net.build_role_specific_network(results,'name','musicians','date','categories',instru)\n",
    "    albums = [x for x,y in bipartite_mjf_net.nodes(data=True) if y['type']=='Album']\n",
    "    role_specific_network = nx.projected_graph(role_specific_network, albums, multigraph=False)\n",
    "    largest_cc = max(nx.connected_components(role_specific_network), key=len)\n",
    "    largest_cc = role_specific_network.subgraph(largest_cc)\n",
    "    \n",
    "    nb_nodes = len(largest_cc)\n",
    "    per_size_of_GC = (len(largest_cc) *100)/len(mjf_event_net)\n",
    "    per_ommited_eges = 100 - (len(role_specific_network.edges)*100)/len(mjf_event_net.edges)\n",
    "    df2.loc[-1]  = [instru,nb_nodes,per_size_of_GC,per_ommited_eges]\n",
    "    df2.index = df2.index + 1\n",
    "    #print(\"Number of nodes in the giant component\",len(largest_cc))\n",
    "    #print(\"percentage of nodes in the giant component: \",(len(largest_cc) *100)/len(mjf_collaboration_net),\"%\")\n",
    "    #print(\"Fraction of ommited edges:\",100 - (len(role_specific_network.edges)*100)/len(mjf_collaboration_net.edges),\"%\")\n",
    "df2 = df2.sort_index() \n",
    "df2 = df2.sort_values('size_of_the_GC')    \n",
    "df2"
   ]
  },
  {
   "cell_type": "code",
   "execution_count": 109,
   "metadata": {},
   "outputs": [
    {
     "data": {
      "text/html": [
       "<div>\n",
       "<style scoped>\n",
       "    .dataframe tbody tr th:only-of-type {\n",
       "        vertical-align: middle;\n",
       "    }\n",
       "\n",
       "    .dataframe tbody tr th {\n",
       "        vertical-align: top;\n",
       "    }\n",
       "\n",
       "    .dataframe thead th {\n",
       "        text-align: right;\n",
       "    }\n",
       "</style>\n",
       "<table border=\"1\" class=\"dataframe\">\n",
       "  <thead>\n",
       "    <tr style=\"text-align: right;\">\n",
       "      <th></th>\n",
       "      <th>instrument</th>\n",
       "      <th>nb_nodes</th>\n",
       "      <th>size_of_the_GC</th>\n",
       "      <th>fraction_of_omitted_edges</th>\n",
       "    </tr>\n",
       "  </thead>\n",
       "  <tbody>\n",
       "    <tr>\n",
       "      <th>9</th>\n",
       "      <td>vocals</td>\n",
       "      <td>2454</td>\n",
       "      <td>57.336449</td>\n",
       "      <td>20.088861</td>\n",
       "    </tr>\n",
       "    <tr>\n",
       "      <th>146</th>\n",
       "      <td>guitar</td>\n",
       "      <td>2558</td>\n",
       "      <td>59.766355</td>\n",
       "      <td>14.367321</td>\n",
       "    </tr>\n",
       "    <tr>\n",
       "      <th>181</th>\n",
       "      <td>drums</td>\n",
       "      <td>2703</td>\n",
       "      <td>63.154206</td>\n",
       "      <td>8.500703</td>\n",
       "    </tr>\n",
       "    <tr>\n",
       "      <th>78</th>\n",
       "      <td>piano</td>\n",
       "      <td>2709</td>\n",
       "      <td>63.294393</td>\n",
       "      <td>17.296096</td>\n",
       "    </tr>\n",
       "    <tr>\n",
       "      <th>71</th>\n",
       "      <td>recorder</td>\n",
       "      <td>2729</td>\n",
       "      <td>63.761682</td>\n",
       "      <td>9.022079</td>\n",
       "    </tr>\n",
       "    <tr>\n",
       "      <th>124</th>\n",
       "      <td>keyboards</td>\n",
       "      <td>2756</td>\n",
       "      <td>64.392523</td>\n",
       "      <td>12.485832</td>\n",
       "    </tr>\n",
       "    <tr>\n",
       "      <th>63</th>\n",
       "      <td>saxophone</td>\n",
       "      <td>2796</td>\n",
       "      <td>65.327103</td>\n",
       "      <td>7.163259</td>\n",
       "    </tr>\n",
       "    <tr>\n",
       "      <th>79</th>\n",
       "      <td>percussions</td>\n",
       "      <td>2801</td>\n",
       "      <td>65.443925</td>\n",
       "      <td>3.096523</td>\n",
       "    </tr>\n",
       "    <tr>\n",
       "      <th>22</th>\n",
       "      <td>trumpet</td>\n",
       "      <td>2819</td>\n",
       "      <td>65.864486</td>\n",
       "      <td>3.599764</td>\n",
       "    </tr>\n",
       "    <tr>\n",
       "      <th>138</th>\n",
       "      <td>harmonica</td>\n",
       "      <td>2828</td>\n",
       "      <td>66.074766</td>\n",
       "      <td>12.975473</td>\n",
       "    </tr>\n",
       "  </tbody>\n",
       "</table>\n",
       "</div>"
      ],
      "text/plain": [
       "      instrument  nb_nodes  size_of_the_GC  fraction_of_omitted_edges\n",
       "9         vocals      2454       57.336449                  20.088861\n",
       "146       guitar      2558       59.766355                  14.367321\n",
       "181        drums      2703       63.154206                   8.500703\n",
       "78         piano      2709       63.294393                  17.296096\n",
       "71      recorder      2729       63.761682                   9.022079\n",
       "124    keyboards      2756       64.392523                  12.485832\n",
       "63     saxophone      2796       65.327103                   7.163259\n",
       "79   percussions      2801       65.443925                   3.096523\n",
       "22       trumpet      2819       65.864486                   3.599764\n",
       "138    harmonica      2828       66.074766                  12.975473"
      ]
     },
     "execution_count": 109,
     "metadata": {},
     "output_type": "execute_result"
    }
   ],
   "source": [
    "df2.iloc[0:10,:]"
   ]
  }
 ],
 "metadata": {
  "kernelspec": {
   "display_name": "Python 3",
   "language": "python",
   "name": "python3"
  },
  "language_info": {
   "codemirror_mode": {
    "name": "ipython",
    "version": 3
   },
   "file_extension": ".py",
   "mimetype": "text/x-python",
   "name": "python",
   "nbconvert_exporter": "python",
   "pygments_lexer": "ipython3",
   "version": "3.9.13"
  }
 },
 "nbformat": 4,
 "nbformat_minor": 2
}
