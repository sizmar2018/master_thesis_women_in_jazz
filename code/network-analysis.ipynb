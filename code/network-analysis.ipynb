{
 "cells": [
  {
   "cell_type": "markdown",
   "metadata": {},
   "source": [
    "# Master Thesis\n"
   ]
  },
  {
   "cell_type": "code",
   "execution_count": 1,
   "metadata": {},
   "outputs": [],
   "source": [
    "from utils import *\n",
    "from network import *\n",
    "import pandas as pd\n",
    "import json"
   ]
  },
  {
   "cell_type": "code",
   "execution_count": 2,
   "metadata": {},
   "outputs": [],
   "source": [
    "net = Network()\n",
    "#utils = Utils(\"./config.ini\")"
   ]
  },
  {
   "cell_type": "markdown",
   "metadata": {},
   "source": [
    "# jazz Album projection network "
   ]
  },
  {
   "cell_type": "code",
   "execution_count": null,
   "metadata": {},
   "outputs": [],
   "source": [
    "albums = None\n",
    "with open('../data/albums/album-final.json',encoding=\"UTF-8\") as f:\n",
    "        albums = json.load(f)   "
   ]
  },
  {
   "cell_type": "code",
   "execution_count": 18,
   "metadata": {},
   "outputs": [
    {
     "name": "stdout",
     "output_type": "stream",
     "text": [
      "nb nodes:  3467\n",
      "nb edges:  245757\n",
      "Min node degree:  0\n",
      "Max node degree:  747\n",
      "Avg node degree:  141.7692529564465\n"
     ]
    }
   ],
   "source": [
    "jazz_album_projection_network = net.build_album_projection_network(albums,'title','artists')\n",
    "net.get_network_info(jazz_album_projection_network)"
   ]
  },
  {
   "cell_type": "code",
   "execution_count": 19,
   "metadata": {},
   "outputs": [],
   "source": [
    "net.save_graph(jazz_album_projection_network,\"../networks/gephi/jazz_album_projection_network.gexf\")"
   ]
  },
  {
   "cell_type": "code",
   "execution_count": 34,
   "metadata": {},
   "outputs": [],
   "source": [
    "zero_degree_node = [node for node in jazz_album_projection_network.nodes if jazz_album_projection_network.degree(node) == 0]\n",
    "len(zero_degree_node)"
   ]
  },
  {
   "cell_type": "markdown",
   "metadata": {},
   "source": [
    "# Jazz collaborators network "
   ]
  },
  {
   "cell_type": "code",
   "execution_count": 20,
   "metadata": {},
   "outputs": [
    {
     "name": "stdout",
     "output_type": "stream",
     "text": [
      "nb nodes:  17180\n",
      "nb edges:  31369\n",
      "Min node degree:  1\n",
      "Max node degree:  233\n",
      "Avg node degree:  3.651804423748545\n"
     ]
    }
   ],
   "source": [
    "collaborators_projection_network = net.build_collaborators_projection_network(albums,'artists')\n",
    "net.get_network_info(collaborators_projection_network)           "
   ]
  },
  {
   "cell_type": "code",
   "execution_count": 21,
   "metadata": {},
   "outputs": [],
   "source": [
    "net.save_graph(collaborators_projection_network,\"../networks/gephi/jazz_collaborators_projection.gexf\")"
   ]
  },
  {
   "cell_type": "code",
   "execution_count": 15,
   "metadata": {},
   "outputs": [],
   "source": [
    "top50musicians = sorted(collaborators_projection_network.degree, key=lambda x: x[1], reverse=True)[0]"
   ]
  },
  {
   "cell_type": "code",
   "execution_count": 16,
   "metadata": {},
   "outputs": [
    {
     "data": {
      "text/plain": [
       "(252966, 233)"
      ]
     },
     "execution_count": 16,
     "metadata": {},
     "output_type": "execute_result"
    }
   ],
   "source": [
    "top50musicians"
   ]
  },
  {
   "cell_type": "markdown",
   "metadata": {},
   "source": [
    "# All Time album Network"
   ]
  },
  {
   "cell_type": "code",
   "execution_count": 32,
   "metadata": {},
   "outputs": [],
   "source": [
    "albums = None\n",
    "with open('../data/albums/all_time_album-final.json',encoding=\"UTF-8\") as f:\n",
    "        albums = json.load(f)   "
   ]
  },
  {
   "cell_type": "code",
   "execution_count": 33,
   "metadata": {},
   "outputs": [
    {
     "name": "stdout",
     "output_type": "stream",
     "text": [
      "nb nodes:  3971\n",
      "nb edges:  46696\n",
      "Min node degree:  0\n",
      "Max node degree:  200\n",
      "Avg node degree:  23.518509191639385\n"
     ]
    }
   ],
   "source": [
    "album_projection_network = net.build_album_projection_network(albums,'title','artists')\n",
    "net.get_network_info(album_projection_network)"
   ]
  },
  {
   "cell_type": "code",
   "execution_count": 34,
   "metadata": {},
   "outputs": [],
   "source": [
    "net.save_graph(album_projection_network,\"../networks/gephi/all_time_album_projection.gexf\")"
   ]
  },
  {
   "cell_type": "code",
   "execution_count": 30,
   "metadata": {},
   "outputs": [
    {
     "name": "stdout",
     "output_type": "stream",
     "text": [
      "nb nodes:  27406\n",
      "nb edges:  37354\n",
      "Min node degree:  1\n",
      "Max node degree:  153\n",
      "Avg node degree:  2.725972414799679\n"
     ]
    }
   ],
   "source": [
    "collaborators_projection_network = net.build_collaborators_projection_network(albums,'artists')\n",
    "net.get_network_info(collaborators_projection_network)     "
   ]
  },
  {
   "cell_type": "code",
   "execution_count": 31,
   "metadata": {},
   "outputs": [],
   "source": [
    "net.save_graph(collaborators_projection_network,\"../networks/gephi/all_time_collaborators_projection.gexf\")"
   ]
  },
  {
   "cell_type": "markdown",
   "metadata": {},
   "source": [
    "# Montreux"
   ]
  },
  {
   "cell_type": "code",
   "execution_count": 6,
   "metadata": {},
   "outputs": [
    {
     "data": {
      "text/plain": [
       "4854"
      ]
     },
     "execution_count": 6,
     "metadata": {},
     "output_type": "execute_result"
    }
   ],
   "source": [
    "mjf = None\n",
    "with open('../data/mjf/mfj_export.json',encoding=\"UTF-8\") as f:\n",
    "        mjf = json.load(f)      \n",
    "results = mjf['concerts']       \n",
    "len(results) "
   ]
  },
  {
   "cell_type": "markdown",
   "metadata": {},
   "source": [
    "## Events Network"
   ]
  },
  {
   "cell_type": "code",
   "execution_count": 4,
   "metadata": {},
   "outputs": [],
   "source": [
    "mjf_event_net = net.build_album_projection_network(results,'name','musicians')"
   ]
  },
  {
   "cell_type": "code",
   "execution_count": 5,
   "metadata": {},
   "outputs": [
    {
     "name": "stdout",
     "output_type": "stream",
     "text": [
      "nb nodes:  4854\n",
      "nb edges:  22057\n",
      "Min node degree:  0\n",
      "Max node degree:  306\n",
      "Avg node degree:  9.088174701277296\n"
     ]
    }
   ],
   "source": [
    "net.get_network_info(mjf_event_net)"
   ]
  },
  {
   "cell_type": "code",
   "execution_count": 7,
   "metadata": {},
   "outputs": [],
   "source": [
    "net.save_graph(mjf_event_net,\"../networks/gephi/mjf_event_graph.gexf\")"
   ]
  },
  {
   "cell_type": "code",
   "execution_count": 12,
   "metadata": {},
   "outputs": [
    {
     "data": {
      "text/plain": [
       "1526"
      ]
     },
     "execution_count": 12,
     "metadata": {},
     "output_type": "execute_result"
    }
   ],
   "source": [
    "zero_degree_node = [node for node in mjf_event_net.nodes if mjf_event_net.degree(node) == 0]\n",
    "len(zero_degree_node)"
   ]
  },
  {
   "cell_type": "markdown",
   "metadata": {},
   "source": [
    "## Collaboration network "
   ]
  },
  {
   "cell_type": "code",
   "execution_count": 9,
   "metadata": {},
   "outputs": [],
   "source": [
    "mjf_collaboration_net = net.build_collaborators_projection_network(results,'musicians') "
   ]
  },
  {
   "cell_type": "code",
   "execution_count": 10,
   "metadata": {},
   "outputs": [
    {
     "name": "stdout",
     "output_type": "stream",
     "text": [
      "nb nodes:  17440\n",
      "nb edges:  20057\n",
      "Min node degree:  1\n",
      "Max node degree:  73\n",
      "Avg node degree:  2.3001146788990825\n"
     ]
    }
   ],
   "source": [
    "net.get_network_info(mjf_collaboration_net)"
   ]
  },
  {
   "cell_type": "code",
   "execution_count": null,
   "metadata": {},
   "outputs": [],
   "source": []
  },
  {
   "cell_type": "code",
   "execution_count": 11,
   "metadata": {},
   "outputs": [],
   "source": [
    "net.save_graph(mjf_collaboration_net,\"../networks/gephi/mjf_collaboration_graph.gexf\")"
   ]
  }
 ],
 "metadata": {
  "kernelspec": {
   "display_name": "Python 3",
   "language": "python",
   "name": "python3"
  },
  "language_info": {
   "codemirror_mode": {
    "name": "ipython",
    "version": 3
   },
   "file_extension": ".py",
   "mimetype": "text/x-python",
   "name": "python",
   "nbconvert_exporter": "python",
   "pygments_lexer": "ipython3",
   "version": "3.9.13"
  }
 },
 "nbformat": 4,
 "nbformat_minor": 2
}
