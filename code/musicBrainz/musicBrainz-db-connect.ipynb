{
 "cells": [
  {
   "cell_type": "markdown",
   "metadata": {},
   "source": [
    "# MusicBrainz\n"
   ]
  },
  {
   "cell_type": "code",
   "execution_count": 2,
   "metadata": {},
   "outputs": [],
   "source": [
    "from sqlalchemy import create_engine\n",
    "from sqlalchemy.orm import sessionmaker\n",
    "from mbdata.models import *\n",
    "\n",
    "from sqlalchemy.sql import text\n",
    "from sqlalchemy import select\n",
    "from sqlalchemy import and_, or_, not_\n",
    "import sqlalchemy as sa\n",
    "import Album\n",
    "import pandas as pd\n",
    "import csv"
   ]
  },
  {
   "cell_type": "markdown",
   "metadata": {},
   "source": [
    "# MusicBrainz Database retrieval (db size October 2023 : ~20GB)"
   ]
  },
  {
   "cell_type": "code",
   "execution_count": 2,
   "metadata": {},
   "outputs": [],
   "source": [
    "engine = create_engine('postgresql+psycopg2://musicbrainz@localhost:5432/musicbrainz', echo=False)\n",
    "Session = sessionmaker(bind=engine)\n",
    "session = Session()"
   ]
  },
  {
   "cell_type": "code",
   "execution_count": 3,
   "metadata": {},
   "outputs": [],
   "source": [
    "df = pd.read_csv(\"rym_charts.csv\",sep=\";\")\n",
    "albums = df[\"Album\"]\n",
    "artists = df[\"Artist\"]"
   ]
  },
  {
   "cell_type": "code",
   "execution_count": 24,
   "metadata": {},
   "outputs": [
    {
     "ename": "InternalError",
     "evalue": "(psycopg2.errors.InFailedSqlTransaction) ERREUR:  la transaction est annulée, les commandes sont ignorées jusqu'à la fin du bloc\nde la transaction\n\n[SQL: SELECT musicbrainz.l_artist_release.id AS musicbrainz_l_artist_release_id, musicbrainz.l_artist_release.link AS musicbrainz_l_artist_release_link, musicbrainz.l_artist_release.entity0 AS musicbrainz_l_artist_release_entity0, musicbrainz.l_artist_release.entity1 AS musicbrainz_l_artist_release_entity1, musicbrainz.l_artist_release.edits_pending AS musicbrainz_l_artist_release_edits_pending, musicbrainz.l_artist_release.last_updated AS musicbrainz_l_artist_release_last_updated, musicbrainz.l_artist_release.link_order AS musicbrainz_l_artist_release_link_order, musicbrainz.l_artist_release.entity0_credit AS musicbrainz_l_artist_release_entity0_credit, musicbrainz.l_artist_release.entity1_credit AS musicbrainz_l_artist_release_entity1_credit \nFROM musicbrainz.l_artist_release JOIN musicbrainz.release ON musicbrainz.release.id = musicbrainz.l_artist_release.entity1 \nWHERE musicbrainz.release.name = (musicbrainz.release.name LIKE %(name_1)s)]\n[parameters: {'name_1': 'The Black Saint and the Sinner Lady%'}]\n(Background on this error at: https://sqlalche.me/e/20/2j85)",
     "output_type": "error",
     "traceback": [
      "\u001b[1;31m---------------------------------------------------------------------------\u001b[0m",
      "\u001b[1;31mInFailedSqlTransaction\u001b[0m                    Traceback (most recent call last)",
      "File \u001b[1;32mc:\\Users\\souma\\AppData\\Local\\Programs\\Python\\Python39\\lib\\site-packages\\sqlalchemy\\engine\\base.py:1965\u001b[0m, in \u001b[0;36mConnection._exec_single_context\u001b[1;34m(self, dialect, context, statement, parameters)\u001b[0m\n\u001b[0;32m   1964\u001b[0m     \u001b[39mif\u001b[39;00m \u001b[39mnot\u001b[39;00m evt_handled:\n\u001b[1;32m-> 1965\u001b[0m         \u001b[39mself\u001b[39;49m\u001b[39m.\u001b[39;49mdialect\u001b[39m.\u001b[39;49mdo_execute(\n\u001b[0;32m   1966\u001b[0m             cursor, str_statement, effective_parameters, context\n\u001b[0;32m   1967\u001b[0m         )\n\u001b[0;32m   1969\u001b[0m \u001b[39mif\u001b[39;00m \u001b[39mself\u001b[39m\u001b[39m.\u001b[39m_has_events \u001b[39mor\u001b[39;00m \u001b[39mself\u001b[39m\u001b[39m.\u001b[39mengine\u001b[39m.\u001b[39m_has_events:\n",
      "File \u001b[1;32mc:\\Users\\souma\\AppData\\Local\\Programs\\Python\\Python39\\lib\\site-packages\\sqlalchemy\\engine\\default.py:921\u001b[0m, in \u001b[0;36mDefaultDialect.do_execute\u001b[1;34m(self, cursor, statement, parameters, context)\u001b[0m\n\u001b[0;32m    920\u001b[0m \u001b[39mdef\u001b[39;00m \u001b[39mdo_execute\u001b[39m(\u001b[39mself\u001b[39m, cursor, statement, parameters, context\u001b[39m=\u001b[39m\u001b[39mNone\u001b[39;00m):\n\u001b[1;32m--> 921\u001b[0m     cursor\u001b[39m.\u001b[39;49mexecute(statement, parameters)\n",
      "\u001b[1;31mInFailedSqlTransaction\u001b[0m: ERREUR:  la transaction est annulée, les commandes sont ignorées jusqu'à la fin du bloc\nde la transaction\n",
      "\nThe above exception was the direct cause of the following exception:\n",
      "\u001b[1;31mInternalError\u001b[0m                             Traceback (most recent call last)",
      "\u001b[1;32mc:\\ULB\\2022-2023\\q2\\preparatory-work-thesis\\musicBrainz\\musicBrainz-db-connect.ipynb Cell 14\u001b[0m line \u001b[0;36m1\n\u001b[1;32m----> <a href='vscode-notebook-cell:/c%3A/ULB/2022-2023/q2/preparatory-work-thesis/musicBrainz/musicBrainz-db-connect.ipynb#X36sZmlsZQ%3D%3D?line=0'>1</a>\u001b[0m release_query \u001b[39m=\u001b[39m session\u001b[39m.\u001b[39;49mquery(LinkArtistRelease)\u001b[39m.\u001b[39;49mjoin(Release)\u001b[39m.\u001b[39;49mfilter_by(name  \u001b[39m=\u001b[39;49m Release\u001b[39m.\u001b[39;49mname\u001b[39m.\u001b[39;49mlike(albums[\u001b[39m0\u001b[39;49m] \u001b[39m+\u001b[39;49m \u001b[39m\"\u001b[39;49m\u001b[39m%\u001b[39;49m\u001b[39m\"\u001b[39;49m))\u001b[39m.\u001b[39;49mall()\n",
      "File \u001b[1;32mc:\\Users\\souma\\AppData\\Local\\Programs\\Python\\Python39\\lib\\site-packages\\sqlalchemy\\orm\\query.py:2688\u001b[0m, in \u001b[0;36mQuery.all\u001b[1;34m(self)\u001b[0m\n\u001b[0;32m   2666\u001b[0m \u001b[39mdef\u001b[39;00m \u001b[39mall\u001b[39m(\u001b[39mself\u001b[39m) \u001b[39m-\u001b[39m\u001b[39m>\u001b[39m List[_T]:\n\u001b[0;32m   2667\u001b[0m \u001b[39m    \u001b[39m\u001b[39m\"\"\"Return the results represented by this :class:`_query.Query`\u001b[39;00m\n\u001b[0;32m   2668\u001b[0m \u001b[39m    as a list.\u001b[39;00m\n\u001b[0;32m   2669\u001b[0m \n\u001b[1;32m   (...)\u001b[0m\n\u001b[0;32m   2686\u001b[0m \u001b[39m        :meth:`_engine.Result.scalars` - v2 comparable method.\u001b[39;00m\n\u001b[0;32m   2687\u001b[0m \u001b[39m    \"\"\"\u001b[39;00m\n\u001b[1;32m-> 2688\u001b[0m     \u001b[39mreturn\u001b[39;00m \u001b[39mself\u001b[39;49m\u001b[39m.\u001b[39;49m_iter()\u001b[39m.\u001b[39mall()\n",
      "File \u001b[1;32mc:\\Users\\souma\\AppData\\Local\\Programs\\Python\\Python39\\lib\\site-packages\\sqlalchemy\\orm\\query.py:2842\u001b[0m, in \u001b[0;36mQuery._iter\u001b[1;34m(self)\u001b[0m\n\u001b[0;32m   2839\u001b[0m params \u001b[39m=\u001b[39m \u001b[39mself\u001b[39m\u001b[39m.\u001b[39m_params\n\u001b[0;32m   2841\u001b[0m statement \u001b[39m=\u001b[39m \u001b[39mself\u001b[39m\u001b[39m.\u001b[39m_statement_20()\n\u001b[1;32m-> 2842\u001b[0m result: Union[ScalarResult[_T], Result[_T]] \u001b[39m=\u001b[39m \u001b[39mself\u001b[39;49m\u001b[39m.\u001b[39;49msession\u001b[39m.\u001b[39;49mexecute(\n\u001b[0;32m   2843\u001b[0m     statement,\n\u001b[0;32m   2844\u001b[0m     params,\n\u001b[0;32m   2845\u001b[0m     execution_options\u001b[39m=\u001b[39;49m{\u001b[39m\"\u001b[39;49m\u001b[39m_sa_orm_load_options\u001b[39;49m\u001b[39m\"\u001b[39;49m: \u001b[39mself\u001b[39;49m\u001b[39m.\u001b[39;49mload_options},\n\u001b[0;32m   2846\u001b[0m )\n\u001b[0;32m   2848\u001b[0m \u001b[39m# legacy: automatically set scalars, unique\u001b[39;00m\n\u001b[0;32m   2849\u001b[0m \u001b[39mif\u001b[39;00m result\u001b[39m.\u001b[39m_attributes\u001b[39m.\u001b[39mget(\u001b[39m\"\u001b[39m\u001b[39mis_single_entity\u001b[39m\u001b[39m\"\u001b[39m, \u001b[39mFalse\u001b[39;00m):\n",
      "File \u001b[1;32mc:\\Users\\souma\\AppData\\Local\\Programs\\Python\\Python39\\lib\\site-packages\\sqlalchemy\\orm\\session.py:2262\u001b[0m, in \u001b[0;36mSession.execute\u001b[1;34m(self, statement, params, execution_options, bind_arguments, _parent_execute_state, _add_event)\u001b[0m\n\u001b[0;32m   2201\u001b[0m \u001b[39mdef\u001b[39;00m \u001b[39mexecute\u001b[39m(\n\u001b[0;32m   2202\u001b[0m     \u001b[39mself\u001b[39m,\n\u001b[0;32m   2203\u001b[0m     statement: Executable,\n\u001b[1;32m   (...)\u001b[0m\n\u001b[0;32m   2209\u001b[0m     _add_event: Optional[Any] \u001b[39m=\u001b[39m \u001b[39mNone\u001b[39;00m,\n\u001b[0;32m   2210\u001b[0m ) \u001b[39m-\u001b[39m\u001b[39m>\u001b[39m Result[Any]:\n\u001b[0;32m   2211\u001b[0m \u001b[39m    \u001b[39m\u001b[39mr\u001b[39m\u001b[39m\"\"\"Execute a SQL expression construct.\u001b[39;00m\n\u001b[0;32m   2212\u001b[0m \n\u001b[0;32m   2213\u001b[0m \u001b[39m    Returns a :class:`_engine.Result` object representing\u001b[39;00m\n\u001b[1;32m   (...)\u001b[0m\n\u001b[0;32m   2260\u001b[0m \n\u001b[0;32m   2261\u001b[0m \u001b[39m    \"\"\"\u001b[39;00m\n\u001b[1;32m-> 2262\u001b[0m     \u001b[39mreturn\u001b[39;00m \u001b[39mself\u001b[39;49m\u001b[39m.\u001b[39;49m_execute_internal(\n\u001b[0;32m   2263\u001b[0m         statement,\n\u001b[0;32m   2264\u001b[0m         params,\n\u001b[0;32m   2265\u001b[0m         execution_options\u001b[39m=\u001b[39;49mexecution_options,\n\u001b[0;32m   2266\u001b[0m         bind_arguments\u001b[39m=\u001b[39;49mbind_arguments,\n\u001b[0;32m   2267\u001b[0m         _parent_execute_state\u001b[39m=\u001b[39;49m_parent_execute_state,\n\u001b[0;32m   2268\u001b[0m         _add_event\u001b[39m=\u001b[39;49m_add_event,\n\u001b[0;32m   2269\u001b[0m     )\n",
      "File \u001b[1;32mc:\\Users\\souma\\AppData\\Local\\Programs\\Python\\Python39\\lib\\site-packages\\sqlalchemy\\orm\\session.py:2144\u001b[0m, in \u001b[0;36mSession._execute_internal\u001b[1;34m(self, statement, params, execution_options, bind_arguments, _parent_execute_state, _add_event, _scalar_result)\u001b[0m\n\u001b[0;32m   2139\u001b[0m     \u001b[39mreturn\u001b[39;00m conn\u001b[39m.\u001b[39mscalar(\n\u001b[0;32m   2140\u001b[0m         statement, params \u001b[39mor\u001b[39;00m {}, execution_options\u001b[39m=\u001b[39mexecution_options\n\u001b[0;32m   2141\u001b[0m     )\n\u001b[0;32m   2143\u001b[0m \u001b[39mif\u001b[39;00m compile_state_cls:\n\u001b[1;32m-> 2144\u001b[0m     result: Result[Any] \u001b[39m=\u001b[39m compile_state_cls\u001b[39m.\u001b[39;49morm_execute_statement(\n\u001b[0;32m   2145\u001b[0m         \u001b[39mself\u001b[39;49m,\n\u001b[0;32m   2146\u001b[0m         statement,\n\u001b[0;32m   2147\u001b[0m         params \u001b[39mor\u001b[39;49;00m {},\n\u001b[0;32m   2148\u001b[0m         execution_options,\n\u001b[0;32m   2149\u001b[0m         bind_arguments,\n\u001b[0;32m   2150\u001b[0m         conn,\n\u001b[0;32m   2151\u001b[0m     )\n\u001b[0;32m   2152\u001b[0m \u001b[39melse\u001b[39;00m:\n\u001b[0;32m   2153\u001b[0m     result \u001b[39m=\u001b[39m conn\u001b[39m.\u001b[39mexecute(\n\u001b[0;32m   2154\u001b[0m         statement, params \u001b[39mor\u001b[39;00m {}, execution_options\u001b[39m=\u001b[39mexecution_options\n\u001b[0;32m   2155\u001b[0m     )\n",
      "File \u001b[1;32mc:\\Users\\souma\\AppData\\Local\\Programs\\Python\\Python39\\lib\\site-packages\\sqlalchemy\\orm\\context.py:293\u001b[0m, in \u001b[0;36mAbstractORMCompileState.orm_execute_statement\u001b[1;34m(cls, session, statement, params, execution_options, bind_arguments, conn)\u001b[0m\n\u001b[0;32m    283\u001b[0m \u001b[39m@classmethod\u001b[39m\n\u001b[0;32m    284\u001b[0m \u001b[39mdef\u001b[39;00m \u001b[39morm_execute_statement\u001b[39m(\n\u001b[0;32m    285\u001b[0m     \u001b[39mcls\u001b[39m,\n\u001b[1;32m   (...)\u001b[0m\n\u001b[0;32m    291\u001b[0m     conn,\n\u001b[0;32m    292\u001b[0m ) \u001b[39m-\u001b[39m\u001b[39m>\u001b[39m Result:\n\u001b[1;32m--> 293\u001b[0m     result \u001b[39m=\u001b[39m conn\u001b[39m.\u001b[39;49mexecute(\n\u001b[0;32m    294\u001b[0m         statement, params \u001b[39mor\u001b[39;49;00m {}, execution_options\u001b[39m=\u001b[39;49mexecution_options\n\u001b[0;32m    295\u001b[0m     )\n\u001b[0;32m    296\u001b[0m     \u001b[39mreturn\u001b[39;00m \u001b[39mcls\u001b[39m\u001b[39m.\u001b[39morm_setup_cursor_result(\n\u001b[0;32m    297\u001b[0m         session,\n\u001b[0;32m    298\u001b[0m         statement,\n\u001b[1;32m   (...)\u001b[0m\n\u001b[0;32m    302\u001b[0m         result,\n\u001b[0;32m    303\u001b[0m     )\n",
      "File \u001b[1;32mc:\\Users\\souma\\AppData\\Local\\Programs\\Python\\Python39\\lib\\site-packages\\sqlalchemy\\engine\\base.py:1412\u001b[0m, in \u001b[0;36mConnection.execute\u001b[1;34m(self, statement, parameters, execution_options)\u001b[0m\n\u001b[0;32m   1410\u001b[0m     \u001b[39mraise\u001b[39;00m exc\u001b[39m.\u001b[39mObjectNotExecutableError(statement) \u001b[39mfrom\u001b[39;00m \u001b[39merr\u001b[39;00m\n\u001b[0;32m   1411\u001b[0m \u001b[39melse\u001b[39;00m:\n\u001b[1;32m-> 1412\u001b[0m     \u001b[39mreturn\u001b[39;00m meth(\n\u001b[0;32m   1413\u001b[0m         \u001b[39mself\u001b[39;49m,\n\u001b[0;32m   1414\u001b[0m         distilled_parameters,\n\u001b[0;32m   1415\u001b[0m         execution_options \u001b[39mor\u001b[39;49;00m NO_OPTIONS,\n\u001b[0;32m   1416\u001b[0m     )\n",
      "File \u001b[1;32mc:\\Users\\souma\\AppData\\Local\\Programs\\Python\\Python39\\lib\\site-packages\\sqlalchemy\\sql\\elements.py:516\u001b[0m, in \u001b[0;36mClauseElement._execute_on_connection\u001b[1;34m(self, connection, distilled_params, execution_options)\u001b[0m\n\u001b[0;32m    514\u001b[0m     \u001b[39mif\u001b[39;00m TYPE_CHECKING:\n\u001b[0;32m    515\u001b[0m         \u001b[39massert\u001b[39;00m \u001b[39misinstance\u001b[39m(\u001b[39mself\u001b[39m, Executable)\n\u001b[1;32m--> 516\u001b[0m     \u001b[39mreturn\u001b[39;00m connection\u001b[39m.\u001b[39;49m_execute_clauseelement(\n\u001b[0;32m    517\u001b[0m         \u001b[39mself\u001b[39;49m, distilled_params, execution_options\n\u001b[0;32m    518\u001b[0m     )\n\u001b[0;32m    519\u001b[0m \u001b[39melse\u001b[39;00m:\n\u001b[0;32m    520\u001b[0m     \u001b[39mraise\u001b[39;00m exc\u001b[39m.\u001b[39mObjectNotExecutableError(\u001b[39mself\u001b[39m)\n",
      "File \u001b[1;32mc:\\Users\\souma\\AppData\\Local\\Programs\\Python\\Python39\\lib\\site-packages\\sqlalchemy\\engine\\base.py:1635\u001b[0m, in \u001b[0;36mConnection._execute_clauseelement\u001b[1;34m(self, elem, distilled_parameters, execution_options)\u001b[0m\n\u001b[0;32m   1623\u001b[0m compiled_cache: Optional[CompiledCacheType] \u001b[39m=\u001b[39m execution_options\u001b[39m.\u001b[39mget(\n\u001b[0;32m   1624\u001b[0m     \u001b[39m\"\u001b[39m\u001b[39mcompiled_cache\u001b[39m\u001b[39m\"\u001b[39m, \u001b[39mself\u001b[39m\u001b[39m.\u001b[39mengine\u001b[39m.\u001b[39m_compiled_cache\n\u001b[0;32m   1625\u001b[0m )\n\u001b[0;32m   1627\u001b[0m compiled_sql, extracted_params, cache_hit \u001b[39m=\u001b[39m elem\u001b[39m.\u001b[39m_compile_w_cache(\n\u001b[0;32m   1628\u001b[0m     dialect\u001b[39m=\u001b[39mdialect,\n\u001b[0;32m   1629\u001b[0m     compiled_cache\u001b[39m=\u001b[39mcompiled_cache,\n\u001b[1;32m   (...)\u001b[0m\n\u001b[0;32m   1633\u001b[0m     linting\u001b[39m=\u001b[39m\u001b[39mself\u001b[39m\u001b[39m.\u001b[39mdialect\u001b[39m.\u001b[39mcompiler_linting \u001b[39m|\u001b[39m compiler\u001b[39m.\u001b[39mWARN_LINTING,\n\u001b[0;32m   1634\u001b[0m )\n\u001b[1;32m-> 1635\u001b[0m ret \u001b[39m=\u001b[39m \u001b[39mself\u001b[39;49m\u001b[39m.\u001b[39;49m_execute_context(\n\u001b[0;32m   1636\u001b[0m     dialect,\n\u001b[0;32m   1637\u001b[0m     dialect\u001b[39m.\u001b[39;49mexecution_ctx_cls\u001b[39m.\u001b[39;49m_init_compiled,\n\u001b[0;32m   1638\u001b[0m     compiled_sql,\n\u001b[0;32m   1639\u001b[0m     distilled_parameters,\n\u001b[0;32m   1640\u001b[0m     execution_options,\n\u001b[0;32m   1641\u001b[0m     compiled_sql,\n\u001b[0;32m   1642\u001b[0m     distilled_parameters,\n\u001b[0;32m   1643\u001b[0m     elem,\n\u001b[0;32m   1644\u001b[0m     extracted_params,\n\u001b[0;32m   1645\u001b[0m     cache_hit\u001b[39m=\u001b[39;49mcache_hit,\n\u001b[0;32m   1646\u001b[0m )\n\u001b[0;32m   1647\u001b[0m \u001b[39mif\u001b[39;00m has_events:\n\u001b[0;32m   1648\u001b[0m     \u001b[39mself\u001b[39m\u001b[39m.\u001b[39mdispatch\u001b[39m.\u001b[39mafter_execute(\n\u001b[0;32m   1649\u001b[0m         \u001b[39mself\u001b[39m,\n\u001b[0;32m   1650\u001b[0m         elem,\n\u001b[1;32m   (...)\u001b[0m\n\u001b[0;32m   1654\u001b[0m         ret,\n\u001b[0;32m   1655\u001b[0m     )\n",
      "File \u001b[1;32mc:\\Users\\souma\\AppData\\Local\\Programs\\Python\\Python39\\lib\\site-packages\\sqlalchemy\\engine\\base.py:1844\u001b[0m, in \u001b[0;36mConnection._execute_context\u001b[1;34m(self, dialect, constructor, statement, parameters, execution_options, *args, **kw)\u001b[0m\n\u001b[0;32m   1839\u001b[0m     \u001b[39mreturn\u001b[39;00m \u001b[39mself\u001b[39m\u001b[39m.\u001b[39m_exec_insertmany_context(\n\u001b[0;32m   1840\u001b[0m         dialect,\n\u001b[0;32m   1841\u001b[0m         context,\n\u001b[0;32m   1842\u001b[0m     )\n\u001b[0;32m   1843\u001b[0m \u001b[39melse\u001b[39;00m:\n\u001b[1;32m-> 1844\u001b[0m     \u001b[39mreturn\u001b[39;00m \u001b[39mself\u001b[39;49m\u001b[39m.\u001b[39;49m_exec_single_context(\n\u001b[0;32m   1845\u001b[0m         dialect, context, statement, parameters\n\u001b[0;32m   1846\u001b[0m     )\n",
      "File \u001b[1;32mc:\\Users\\souma\\AppData\\Local\\Programs\\Python\\Python39\\lib\\site-packages\\sqlalchemy\\engine\\base.py:1984\u001b[0m, in \u001b[0;36mConnection._exec_single_context\u001b[1;34m(self, dialect, context, statement, parameters)\u001b[0m\n\u001b[0;32m   1981\u001b[0m     result \u001b[39m=\u001b[39m context\u001b[39m.\u001b[39m_setup_result_proxy()\n\u001b[0;32m   1983\u001b[0m \u001b[39mexcept\u001b[39;00m \u001b[39mBaseException\u001b[39;00m \u001b[39mas\u001b[39;00m e:\n\u001b[1;32m-> 1984\u001b[0m     \u001b[39mself\u001b[39;49m\u001b[39m.\u001b[39;49m_handle_dbapi_exception(\n\u001b[0;32m   1985\u001b[0m         e, str_statement, effective_parameters, cursor, context\n\u001b[0;32m   1986\u001b[0m     )\n\u001b[0;32m   1988\u001b[0m \u001b[39mreturn\u001b[39;00m result\n",
      "File \u001b[1;32mc:\\Users\\souma\\AppData\\Local\\Programs\\Python\\Python39\\lib\\site-packages\\sqlalchemy\\engine\\base.py:2339\u001b[0m, in \u001b[0;36mConnection._handle_dbapi_exception\u001b[1;34m(self, e, statement, parameters, cursor, context, is_sub_exec)\u001b[0m\n\u001b[0;32m   2337\u001b[0m \u001b[39melif\u001b[39;00m should_wrap:\n\u001b[0;32m   2338\u001b[0m     \u001b[39massert\u001b[39;00m sqlalchemy_exception \u001b[39mis\u001b[39;00m \u001b[39mnot\u001b[39;00m \u001b[39mNone\u001b[39;00m\n\u001b[1;32m-> 2339\u001b[0m     \u001b[39mraise\u001b[39;00m sqlalchemy_exception\u001b[39m.\u001b[39mwith_traceback(exc_info[\u001b[39m2\u001b[39m]) \u001b[39mfrom\u001b[39;00m \u001b[39me\u001b[39;00m\n\u001b[0;32m   2340\u001b[0m \u001b[39melse\u001b[39;00m:\n\u001b[0;32m   2341\u001b[0m     \u001b[39massert\u001b[39;00m exc_info[\u001b[39m1\u001b[39m] \u001b[39mis\u001b[39;00m \u001b[39mnot\u001b[39;00m \u001b[39mNone\u001b[39;00m\n",
      "File \u001b[1;32mc:\\Users\\souma\\AppData\\Local\\Programs\\Python\\Python39\\lib\\site-packages\\sqlalchemy\\engine\\base.py:1965\u001b[0m, in \u001b[0;36mConnection._exec_single_context\u001b[1;34m(self, dialect, context, statement, parameters)\u001b[0m\n\u001b[0;32m   1963\u001b[0m                 \u001b[39mbreak\u001b[39;00m\n\u001b[0;32m   1964\u001b[0m     \u001b[39mif\u001b[39;00m \u001b[39mnot\u001b[39;00m evt_handled:\n\u001b[1;32m-> 1965\u001b[0m         \u001b[39mself\u001b[39;49m\u001b[39m.\u001b[39;49mdialect\u001b[39m.\u001b[39;49mdo_execute(\n\u001b[0;32m   1966\u001b[0m             cursor, str_statement, effective_parameters, context\n\u001b[0;32m   1967\u001b[0m         )\n\u001b[0;32m   1969\u001b[0m \u001b[39mif\u001b[39;00m \u001b[39mself\u001b[39m\u001b[39m.\u001b[39m_has_events \u001b[39mor\u001b[39;00m \u001b[39mself\u001b[39m\u001b[39m.\u001b[39mengine\u001b[39m.\u001b[39m_has_events:\n\u001b[0;32m   1970\u001b[0m     \u001b[39mself\u001b[39m\u001b[39m.\u001b[39mdispatch\u001b[39m.\u001b[39mafter_cursor_execute(\n\u001b[0;32m   1971\u001b[0m         \u001b[39mself\u001b[39m,\n\u001b[0;32m   1972\u001b[0m         cursor,\n\u001b[1;32m   (...)\u001b[0m\n\u001b[0;32m   1976\u001b[0m         context\u001b[39m.\u001b[39mexecutemany,\n\u001b[0;32m   1977\u001b[0m     )\n",
      "File \u001b[1;32mc:\\Users\\souma\\AppData\\Local\\Programs\\Python\\Python39\\lib\\site-packages\\sqlalchemy\\engine\\default.py:921\u001b[0m, in \u001b[0;36mDefaultDialect.do_execute\u001b[1;34m(self, cursor, statement, parameters, context)\u001b[0m\n\u001b[0;32m    920\u001b[0m \u001b[39mdef\u001b[39;00m \u001b[39mdo_execute\u001b[39m(\u001b[39mself\u001b[39m, cursor, statement, parameters, context\u001b[39m=\u001b[39m\u001b[39mNone\u001b[39;00m):\n\u001b[1;32m--> 921\u001b[0m     cursor\u001b[39m.\u001b[39;49mexecute(statement, parameters)\n",
      "\u001b[1;31mInternalError\u001b[0m: (psycopg2.errors.InFailedSqlTransaction) ERREUR:  la transaction est annulée, les commandes sont ignorées jusqu'à la fin du bloc\nde la transaction\n\n[SQL: SELECT musicbrainz.l_artist_release.id AS musicbrainz_l_artist_release_id, musicbrainz.l_artist_release.link AS musicbrainz_l_artist_release_link, musicbrainz.l_artist_release.entity0 AS musicbrainz_l_artist_release_entity0, musicbrainz.l_artist_release.entity1 AS musicbrainz_l_artist_release_entity1, musicbrainz.l_artist_release.edits_pending AS musicbrainz_l_artist_release_edits_pending, musicbrainz.l_artist_release.last_updated AS musicbrainz_l_artist_release_last_updated, musicbrainz.l_artist_release.link_order AS musicbrainz_l_artist_release_link_order, musicbrainz.l_artist_release.entity0_credit AS musicbrainz_l_artist_release_entity0_credit, musicbrainz.l_artist_release.entity1_credit AS musicbrainz_l_artist_release_entity1_credit \nFROM musicbrainz.l_artist_release JOIN musicbrainz.release ON musicbrainz.release.id = musicbrainz.l_artist_release.entity1 \nWHERE musicbrainz.release.name = (musicbrainz.release.name LIKE %(name_1)s)]\n[parameters: {'name_1': 'The Black Saint and the Sinner Lady%'}]\n(Background on this error at: https://sqlalche.me/e/20/2j85)"
     ]
    }
   ],
   "source": [
    "release_query = session.query(LinkArtistRelease).join(Release).filter_by(name  = Release.name.like(albums[0] + \"%\")).all()\n"
   ]
  },
  {
   "cell_type": "code",
   "execution_count": 16,
   "metadata": {},
   "outputs": [
    {
     "name": "stdout",
     "output_type": "stream",
     "text": [
      "Don Butterfield\n",
      "Jerome Richardson\n",
      "Dick Hafer\n",
      "Jaki Byard\n",
      "Jay Berliner\n"
     ]
    }
   ],
   "source": [
    "for a in release_query :\n",
    "    print(a.entity0.name)\n"
   ]
  },
  {
   "cell_type": "code",
   "execution_count": 7,
   "metadata": {},
   "outputs": [
    {
     "name": "stdout",
     "output_type": "stream",
     "text": [
      "part1\n",
      "part2\n",
      "part3\n"
     ]
    }
   ],
   "source": [
    "release_query = session.query(Release).filter_by(name=albums[0]).join(ArtistCredit).filter_by(name=artists[0]).all()\n",
    "release = release_query[0]\n",
    "for r in release_query :\n",
    "    if r.barcode != \"\" :\n",
    "        release = r\n",
    "        break\n",
    "print(\"part1\")\n",
    "medium_query = session.query(Track).join(Medium).filter_by(release_id=release.id).all()\n",
    "recording_ids = list() \n",
    "for t in medium_query :\n",
    "    recording_ids.append(t.recording_id)\n",
    "print(\"part2\")               \n",
    "artists_credit_id = set()\n",
    "artists_credit = list()\n",
    "for r_id in recording_ids :\n",
    "    credit_query = session.query(LinkArtistRecording).filter_by(entity1_id= r_id).all()\n",
    "    for q in credit_query:\n",
    "        if q.entity0.id not in artists_credit_id :\n",
    "            artists_credit_id.add(q.entity0.id)\n",
    "            artists_credit.append(q.entity0.name)\n",
    "print(\"part3\")\n"
   ]
  },
  {
   "cell_type": "code",
   "execution_count": 4,
   "metadata": {},
   "outputs": [
    {
     "ename": "IndexError",
     "evalue": "list index out of range",
     "output_type": "error",
     "traceback": [
      "\u001b[1;31m---------------------------------------------------------------------------\u001b[0m",
      "\u001b[1;31mIndexError\u001b[0m                                Traceback (most recent call last)",
      "\u001b[1;32mc:\\ULB\\2022-2023\\q2\\preparatory-work-thesis\\musicBrainz\\musicBrainz-db-connect.ipynb Cell 13\u001b[0m line \u001b[0;36m4\n\u001b[0;32m      <a href='vscode-notebook-cell:/c%3A/ULB/2022-2023/q2/preparatory-work-thesis/musicBrainz/musicBrainz-db-connect.ipynb#X20sZmlsZQ%3D%3D?line=0'>1</a>\u001b[0m \u001b[39mfor\u001b[39;00m idx \u001b[39min\u001b[39;00m \u001b[39mrange\u001b[39m(\u001b[39m0\u001b[39m,\u001b[39mlen\u001b[39m(albums)): \n\u001b[0;32m      <a href='vscode-notebook-cell:/c%3A/ULB/2022-2023/q2/preparatory-work-thesis/musicBrainz/musicBrainz-db-connect.ipynb#X20sZmlsZQ%3D%3D?line=2'>3</a>\u001b[0m     release_query \u001b[39m=\u001b[39m session\u001b[39m.\u001b[39mquery(Release)\u001b[39m.\u001b[39mfilter_by(name\u001b[39m=\u001b[39malbums[idx])\u001b[39m.\u001b[39mjoin(ArtistCredit)\u001b[39m.\u001b[39mfilter_by(name\u001b[39m=\u001b[39martists[idx])\u001b[39m.\u001b[39mall()\n\u001b[1;32m----> <a href='vscode-notebook-cell:/c%3A/ULB/2022-2023/q2/preparatory-work-thesis/musicBrainz/musicBrainz-db-connect.ipynb#X20sZmlsZQ%3D%3D?line=3'>4</a>\u001b[0m     release \u001b[39m=\u001b[39m release_query[\u001b[39m1\u001b[39;49m]\n\u001b[0;32m      <a href='vscode-notebook-cell:/c%3A/ULB/2022-2023/q2/preparatory-work-thesis/musicBrainz/musicBrainz-db-connect.ipynb#X20sZmlsZQ%3D%3D?line=4'>5</a>\u001b[0m     \u001b[39mfor\u001b[39;00m r \u001b[39min\u001b[39;00m release_query :\n\u001b[0;32m      <a href='vscode-notebook-cell:/c%3A/ULB/2022-2023/q2/preparatory-work-thesis/musicBrainz/musicBrainz-db-connect.ipynb#X20sZmlsZQ%3D%3D?line=5'>6</a>\u001b[0m         \u001b[39mif\u001b[39;00m r\u001b[39m.\u001b[39mbarcode \u001b[39m!=\u001b[39m \u001b[39m\"\u001b[39m\u001b[39m\"\u001b[39m :\n",
      "\u001b[1;31mIndexError\u001b[0m: list index out of range"
     ]
    }
   ],
   "source": [
    "for idx in range(0,len(albums)): \n",
    " \n",
    "    release_query = session.query(Release).filter_by(name=albums[idx]).join(ArtistCredit).filter_by(name=artists[idx]).all()\n",
    "    release = release_query[1]\n",
    "    for r in release_query :\n",
    "        if r.barcode != \"\" :\n",
    "            release = r\n",
    "            break\n",
    "    \n",
    "    medium_query = session.query(Track).join(Medium).filter_by(release_id=release.id).all()\n",
    "    recording_ids = list() \n",
    "    for t in medium_query :\n",
    "        recording_ids.append(t.recording_id)\n",
    "                 \n",
    "    artists_credit_id = set()\n",
    "    artists_credit = list()\n",
    "    for r_id in recording_ids :\n",
    "        credit_query = session.query(LinkArtistRecording).filter_by(entity1_id= r_id).all()\n",
    "        for q in credit_query:\n",
    "            if q.entity0.id not in artists_credit_id :\n",
    "                artists_credit_id.add(q.entity0.id)\n",
    "                artists_credit.append(q.entity0.name)\n",
    "\n",
    "\n"
   ]
  },
  {
   "cell_type": "code",
   "execution_count": 6,
   "metadata": {},
   "outputs": [],
   "source": [
    "#query1 = session.query(Release).filter_by(name='The Black Saint and the Sinner Lady').join(ReleaseCountry).filter_by(country_id = 222).all()\n"
   ]
  },
  {
   "cell_type": "code",
   "execution_count": 7,
   "metadata": {},
   "outputs": [
    {
     "name": "stdout",
     "output_type": "stream",
     "text": [
      "0753088003561\n"
     ]
    }
   ],
   "source": [
    "release = None\n",
    "for r in query1 :\n",
    "    if r.barcode != \"\" :\n",
    "         print(r.barcode)\n",
    "         release = r\n",
    "         break\n",
    "        \n",
    "     "
   ]
  },
  {
   "cell_type": "code",
   "execution_count": 205,
   "metadata": {},
   "outputs": [],
   "source": [
    "query2 = session.query(Track).join(Medium).filter_by(release_id=release.id).all()"
   ]
  },
  {
   "cell_type": "code",
   "execution_count": 206,
   "metadata": {},
   "outputs": [
    {
     "name": "stdout",
     "output_type": "stream",
     "text": [
      "Track A—Solo Dancer: Stop! Look! And Listen, Sinner Jim Whitney!\n",
      "599630\n",
      "Track B—Duet Solo Dancers: Hearts’ Beat and Shades in Physical Embraces\n",
      "599631\n",
      "Mode D—Trio and Group Dancers: Stop! Look! And Sing Songs of Revolutions! / Mode E—Single Solos and Group Dance: Saint and Sinner Join in Merriment on Battle Front / Mode F—Group and Solo Dance: Of Love, Pain, and Passioned Revolt, Then Farewell, My Beloved, ’til It’s Freedom Day\n",
      "599633\n",
      "Group Dancers\n",
      "554298\n",
      "Group Dancers\n",
      "554298\n",
      "Track A—Solo Dancer: Stop! Look! And Listen, Sinner Jim Whitney!\n",
      "599630\n",
      "Track B—Duet Solo Dancers: Hearts’ Beat and Shades in Physical Embraces\n",
      "599631\n",
      "Mode D—Trio and Group Dancers: Stop! Look! And Sing Songs of Revolutions! / Mode E—Single Solos and Group Dance: Saint and Sinner Join in Merriment on Battle Front / Mode F—Group and Solo Dance: Of Love, Pain, and Passioned Revolt, Then Farewell, My Beloved, ’til It’s Freedom Day\n",
      "599633\n"
     ]
    }
   ],
   "source": [
    "recording_ids = list() \n",
    "for t in query2 :\n",
    "    print(t.recording.name)\n",
    "    print(t.recording.id)\n",
    "    recording_ids.append(t.recording_id)\n"
   ]
  },
  {
   "cell_type": "code",
   "execution_count": 198,
   "metadata": {},
   "outputs": [
    {
     "data": {
      "text/plain": [
       "[599630, 599631, 599633, 554298]"
      ]
     },
     "execution_count": 198,
     "metadata": {},
     "output_type": "execute_result"
    }
   ],
   "source": []
  },
  {
   "cell_type": "code",
   "execution_count": 177,
   "metadata": {},
   "outputs": [
    {
     "name": "stdout",
     "output_type": "stream",
     "text": [
      "1353917\n"
     ]
    }
   ],
   "source": [
    "print(r.id)\n",
    "query3 = session.query(LinkArtistRelease).filter_by(entity1_id=r.id).all()\n"
   ]
  },
  {
   "cell_type": "code",
   "execution_count": 178,
   "metadata": {},
   "outputs": [
    {
     "data": {
      "text/plain": [
       "[<mbdata.models.LinkArtistRelease at 0x1c8a7474b20>,\n",
       " <mbdata.models.LinkArtistRelease at 0x1c8a7474c70>,\n",
       " <mbdata.models.LinkArtistRelease at 0x1c8a7474b80>,\n",
       " <mbdata.models.LinkArtistRelease at 0x1c8a7474ac0>,\n",
       " <mbdata.models.LinkArtistRelease at 0x1c8a74749a0>]"
      ]
     },
     "execution_count": 178,
     "metadata": {},
     "output_type": "execute_result"
    }
   ],
   "source": [
    "query3"
   ]
  },
  {
   "cell_type": "code",
   "execution_count": 179,
   "metadata": {},
   "outputs": [
    {
     "name": "stdout",
     "output_type": "stream",
     "text": [
      "Don Butterfield\n",
      "Jerome Richardson\n",
      "Dick Hafer\n",
      "Jaki Byard\n",
      "Jay Berliner\n"
     ]
    }
   ],
   "source": [
    "for t in query3:\n",
    "    print(t.entity0.name)"
   ]
  },
  {
   "cell_type": "code",
   "execution_count": 210,
   "metadata": {},
   "outputs": [],
   "source": [
    "artists_credit_id = set()\n",
    "artists_credit = list()\n",
    "for r_id in recording_ids :\n",
    "    query5 = session.query(LinkArtistRecording).filter_by(entity1_id=r_id).all()\n",
    "    for q in query5:\n",
    "       if q.entity0.id not in artists_credit_id :\n",
    "           artists_credit_id.add(q.entity0.id)\n",
    "           artists_credit.append(q.entity0.name)"
   ]
  },
  {
   "cell_type": "code",
   "execution_count": 213,
   "metadata": {},
   "outputs": [
    {
     "data": {
      "text/plain": [
       "['Bob Thiele',\n",
       " 'Charlie Mariano',\n",
       " 'Jerome Richardson',\n",
       " 'Dannie Richmond',\n",
       " 'Don Butterfield',\n",
       " 'Rolf Ericson',\n",
       " 'Richard Williams',\n",
       " 'Quentin Jackson',\n",
       " 'Dick Hafer',\n",
       " 'Charles Mingus',\n",
       " 'Bob Simpson',\n",
       " 'Jaki Byard',\n",
       " 'Jay Berliner']"
      ]
     },
     "execution_count": 213,
     "metadata": {},
     "output_type": "execute_result"
    }
   ],
   "source": [
    "artists_credit"
   ]
  }
 ],
 "metadata": {
  "kernelspec": {
   "display_name": "Python 3",
   "language": "python",
   "name": "python3"
  },
  "language_info": {
   "codemirror_mode": {
    "name": "ipython",
    "version": 3
   },
   "file_extension": ".py",
   "mimetype": "text/x-python",
   "name": "python",
   "nbconvert_exporter": "python",
   "pygments_lexer": "ipython3",
   "version": "3.9.13"
  }
 },
 "nbformat": 4,
 "nbformat_minor": 2
}
